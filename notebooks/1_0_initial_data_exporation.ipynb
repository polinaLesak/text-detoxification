{
 "cells": [
  {
   "cell_type": "markdown",
   "id": "a1dd7b130c4c693b",
   "metadata": {
    "collapsed": false,
    "id": "a1dd7b130c4c693b"
   },
   "source": [
    "# Download ParaNMT Dataset and transform it"
   ]
  },
  {
   "cell_type": "markdown",
   "source": [
    "## Downloading data"
   ],
   "metadata": {
    "collapsed": false,
    "id": "845f9e742bf1dcd0"
   },
   "id": "845f9e742bf1dcd0"
  },
  {
   "cell_type": "markdown",
   "source": [
    "### We download zip file to our local directory"
   ],
   "metadata": {
    "collapsed": false,
    "id": "71ee9e4fcf7de81a"
   },
   "id": "71ee9e4fcf7de81a"
  },
  {
   "cell_type": "code",
   "execution_count": 1,
   "id": "initial_id",
   "metadata": {
    "id": "initial_id",
    "ExecuteTime": {
     "end_time": "2023-10-19T14:56:23.501238300Z",
     "start_time": "2023-10-19T14:56:22.721284800Z"
    }
   },
   "outputs": [],
   "source": [
    "import pandas as pd\n",
    "import requests\n",
    "import os\n",
    "import zipfile"
   ]
  },
  {
   "cell_type": "code",
   "execution_count": 2,
   "id": "d0eb3ed3f425e6ba",
   "metadata": {
    "id": "d0eb3ed3f425e6ba",
    "ExecuteTime": {
     "end_time": "2023-10-19T14:56:23.516190100Z",
     "start_time": "2023-10-19T14:56:23.506686100Z"
    }
   },
   "outputs": [],
   "source": [
    "url = \"https://github.com/skoltech-nlp/detox/releases/download/emnlp2021/filtered_paranmt.zip\"\n",
    "os.makedirs(\"../data/raw\", exist_ok=True)\n",
    "zip_filename = \"../data/raw/filtered_paranmt.zip\""
   ]
  },
  {
   "cell_type": "markdown",
   "source": [
    "\"Response\" variable is used to store the HTTP response obtained from the specified URL when downloading the ZIP file, allowing further manipulation and saving of the file's content."
   ],
   "metadata": {
    "collapsed": false,
    "id": "b0e83a53230a0241"
   },
   "id": "b0e83a53230a0241"
  },
  {
   "cell_type": "code",
   "execution_count": 3,
   "id": "fde78ca224270b12",
   "metadata": {
    "id": "fde78ca224270b12",
    "ExecuteTime": {
     "end_time": "2023-10-19T14:56:57.037578500Z",
     "start_time": "2023-10-19T14:56:23.520210300Z"
    }
   },
   "outputs": [],
   "source": [
    "response = requests.get(url)\n",
    "with open(zip_filename, \"wb\") as zip_file:\n",
    "    zip_file.write(response.content)\n",
    "\n",
    "with zipfile.ZipFile(zip_filename, \"r\") as zip_ref:\n",
    "    with zip_ref.open(\"filtered.tsv\") as file:\n",
    "        df = pd.read_csv(file, sep='\\t')"
   ]
  },
  {
   "cell_type": "code",
   "execution_count": 4,
   "id": "ec3eacca9aa8c216",
   "metadata": {
    "id": "ec3eacca9aa8c216",
    "outputId": "c38795a2-24fd-41c8-faa4-5a9749b543b5",
    "ExecuteTime": {
     "end_time": "2023-10-19T14:56:57.077263600Z",
     "start_time": "2023-10-19T14:56:57.038566100Z"
    }
   },
   "outputs": [
    {
     "data": {
      "text/plain": "   Unnamed: 0                                          reference  \\\n0           0  If Alkar is flooding her with psychic waste, t...   \n1           1                          Now you're getting nasty.   \n2           2           Well, we could spare your life, for one.   \n3           3          Ah! Monkey, you've got to snap out of it.   \n4           4                   I've got orders to put her down.   \n\n                                         translation  similarity  lenght_diff  \\\n0  if Alkar floods her with her mental waste, it ...    0.785171     0.010309   \n1                        you're becoming disgusting.    0.749687     0.071429   \n2                      well, we can spare your life.    0.919051     0.268293   \n3                       monkey, you have to wake up.    0.664333     0.309524   \n4                         I have orders to kill her.    0.726639     0.181818   \n\n    ref_tox   trn_tox  \n0  0.014195  0.981983  \n1  0.065473  0.999039  \n2  0.213313  0.985068  \n3  0.053362  0.994215  \n4  0.009402  0.999348  ",
      "text/html": "<div>\n<style scoped>\n    .dataframe tbody tr th:only-of-type {\n        vertical-align: middle;\n    }\n\n    .dataframe tbody tr th {\n        vertical-align: top;\n    }\n\n    .dataframe thead th {\n        text-align: right;\n    }\n</style>\n<table border=\"1\" class=\"dataframe\">\n  <thead>\n    <tr style=\"text-align: right;\">\n      <th></th>\n      <th>Unnamed: 0</th>\n      <th>reference</th>\n      <th>translation</th>\n      <th>similarity</th>\n      <th>lenght_diff</th>\n      <th>ref_tox</th>\n      <th>trn_tox</th>\n    </tr>\n  </thead>\n  <tbody>\n    <tr>\n      <th>0</th>\n      <td>0</td>\n      <td>If Alkar is flooding her with psychic waste, t...</td>\n      <td>if Alkar floods her with her mental waste, it ...</td>\n      <td>0.785171</td>\n      <td>0.010309</td>\n      <td>0.014195</td>\n      <td>0.981983</td>\n    </tr>\n    <tr>\n      <th>1</th>\n      <td>1</td>\n      <td>Now you're getting nasty.</td>\n      <td>you're becoming disgusting.</td>\n      <td>0.749687</td>\n      <td>0.071429</td>\n      <td>0.065473</td>\n      <td>0.999039</td>\n    </tr>\n    <tr>\n      <th>2</th>\n      <td>2</td>\n      <td>Well, we could spare your life, for one.</td>\n      <td>well, we can spare your life.</td>\n      <td>0.919051</td>\n      <td>0.268293</td>\n      <td>0.213313</td>\n      <td>0.985068</td>\n    </tr>\n    <tr>\n      <th>3</th>\n      <td>3</td>\n      <td>Ah! Monkey, you've got to snap out of it.</td>\n      <td>monkey, you have to wake up.</td>\n      <td>0.664333</td>\n      <td>0.309524</td>\n      <td>0.053362</td>\n      <td>0.994215</td>\n    </tr>\n    <tr>\n      <th>4</th>\n      <td>4</td>\n      <td>I've got orders to put her down.</td>\n      <td>I have orders to kill her.</td>\n      <td>0.726639</td>\n      <td>0.181818</td>\n      <td>0.009402</td>\n      <td>0.999348</td>\n    </tr>\n  </tbody>\n</table>\n</div>"
     },
     "execution_count": 4,
     "metadata": {},
     "output_type": "execute_result"
    }
   ],
   "source": [
    "df.head()"
   ]
  },
  {
   "cell_type": "markdown",
   "source": [
    "lets save our df in untouched mode in .csv file"
   ],
   "metadata": {
    "collapsed": false,
    "id": "ae2e560ec277f5b5"
   },
   "id": "ae2e560ec277f5b5"
  },
  {
   "cell_type": "code",
   "execution_count": 5,
   "outputs": [],
   "source": [
    "train_data = df[df['ref_tox'] - df['trn_tox'] > 0]"
   ],
   "metadata": {
    "id": "e33b3686b455eef5",
    "ExecuteTime": {
     "end_time": "2023-10-19T14:56:57.184078200Z",
     "start_time": "2023-10-19T14:56:57.072711100Z"
    }
   },
   "id": "e33b3686b455eef5"
  },
  {
   "cell_type": "code",
   "execution_count": 6,
   "outputs": [
    {
     "name": "stdout",
     "output_type": "stream",
     "text": [
      "<class 'pandas.core.frame.DataFrame'>\n",
      "Index: 319142 entries, 5 to 577775\n",
      "Data columns (total 7 columns):\n",
      " #   Column       Non-Null Count   Dtype  \n",
      "---  ------       --------------   -----  \n",
      " 0   Unnamed: 0   319142 non-null  int64  \n",
      " 1   reference    319142 non-null  object \n",
      " 2   translation  319142 non-null  object \n",
      " 3   similarity   319142 non-null  float64\n",
      " 4   lenght_diff  319142 non-null  float64\n",
      " 5   ref_tox      319142 non-null  float64\n",
      " 6   trn_tox      319142 non-null  float64\n",
      "dtypes: float64(4), int64(1), object(2)\n",
      "memory usage: 19.5+ MB\n"
     ]
    }
   ],
   "source": [
    "train_data.info()"
   ],
   "metadata": {
    "id": "c7ec4c087ab7bdc2",
    "outputId": "62cb0f0e-272a-4586-ccf4-6ce906795089",
    "ExecuteTime": {
     "end_time": "2023-10-19T14:56:57.186580200Z",
     "start_time": "2023-10-19T14:56:57.115979700Z"
    }
   },
   "id": "c7ec4c087ab7bdc2"
  },
  {
   "cell_type": "markdown",
   "source": [
    "We need to check  if the is empty fields in df"
   ],
   "metadata": {
    "collapsed": false,
    "id": "98037f0345a28e71"
   },
   "id": "98037f0345a28e71"
  },
  {
   "cell_type": "code",
   "execution_count": 7,
   "id": "ba85978e8ec0cb1b",
   "metadata": {
    "id": "ba85978e8ec0cb1b",
    "outputId": "bf042a80-a279-4c4b-d75f-4f046cfac50b",
    "ExecuteTime": {
     "end_time": "2023-10-19T14:56:57.302240600Z",
     "start_time": "2023-10-19T14:56:57.181087200Z"
    }
   },
   "outputs": [
    {
     "name": "stdout",
     "output_type": "stream",
     "text": [
      "<class 'pandas.core.frame.DataFrame'>\n",
      "RangeIndex: 577777 entries, 0 to 577776\n",
      "Data columns (total 7 columns):\n",
      " #   Column       Non-Null Count   Dtype  \n",
      "---  ------       --------------   -----  \n",
      " 0   id           577777 non-null  int64  \n",
      " 1   reference    577777 non-null  object \n",
      " 2   translation  577777 non-null  object \n",
      " 3   similarity   577777 non-null  float64\n",
      " 4   lenght_diff  577777 non-null  float64\n",
      " 5   ref_tox      577777 non-null  float64\n",
      " 6   trn_tox      577777 non-null  float64\n",
      "dtypes: float64(4), int64(1), object(2)\n",
      "memory usage: 30.9+ MB\n"
     ]
    }
   ],
   "source": [
    "df = df.rename(columns={'Unnamed: 0': 'id'})\n",
    "df.info()"
   ]
  },
  {
   "cell_type": "code",
   "execution_count": 8,
   "outputs": [],
   "source": [
    "import pandas as pd\n",
    "from sklearn.model_selection import train_test_split\n",
    "\n",
    "train_data, temp_data = train_test_split(df, test_size=0.3, random_state=42)\n",
    "valid_data, test_data = train_test_split(temp_data, test_size=0.5, random_state=42)\n"
   ],
   "metadata": {
    "id": "bd8eae72be43ced0",
    "ExecuteTime": {
     "end_time": "2023-10-19T14:56:59.360837Z",
     "start_time": "2023-10-19T14:56:57.306737700Z"
    }
   },
   "id": "bd8eae72be43ced0"
  },
  {
   "cell_type": "code",
   "execution_count": 9,
   "outputs": [
    {
     "data": {
      "text/plain": "            id                                          reference   ref_tox\n383388  383388                    Sucker, I thought you was dead!  0.987744\n540158  540158                       They'll kill Immortals dead.  0.999228\n440764  440764  75% of these big railroad men have bad-hearted...  0.014735\n525024  525024                                Shut up and eat it.  0.999146\n553451  553451              Here's a tip from an evil New Yorker.  0.671870\n...        ...                                                ...       ...\n506501  506501          This long flight of stairs is killing me.  0.001772\n545661  545661  Kill him!' Saruman looked round at their hosti...  0.997867\n373160  373160                 And they will seek to destroy him.  0.288646\n441522  441522  Everyone's signed this petition, even the ones...  0.028304\n57115    57115                             Now, don't fuck it up.  0.990198\n\n[86667 rows x 3 columns]",
      "text/html": "<div>\n<style scoped>\n    .dataframe tbody tr th:only-of-type {\n        vertical-align: middle;\n    }\n\n    .dataframe tbody tr th {\n        vertical-align: top;\n    }\n\n    .dataframe thead th {\n        text-align: right;\n    }\n</style>\n<table border=\"1\" class=\"dataframe\">\n  <thead>\n    <tr style=\"text-align: right;\">\n      <th></th>\n      <th>id</th>\n      <th>reference</th>\n      <th>ref_tox</th>\n    </tr>\n  </thead>\n  <tbody>\n    <tr>\n      <th>383388</th>\n      <td>383388</td>\n      <td>Sucker, I thought you was dead!</td>\n      <td>0.987744</td>\n    </tr>\n    <tr>\n      <th>540158</th>\n      <td>540158</td>\n      <td>They'll kill Immortals dead.</td>\n      <td>0.999228</td>\n    </tr>\n    <tr>\n      <th>440764</th>\n      <td>440764</td>\n      <td>75% of these big railroad men have bad-hearted...</td>\n      <td>0.014735</td>\n    </tr>\n    <tr>\n      <th>525024</th>\n      <td>525024</td>\n      <td>Shut up and eat it.</td>\n      <td>0.999146</td>\n    </tr>\n    <tr>\n      <th>553451</th>\n      <td>553451</td>\n      <td>Here's a tip from an evil New Yorker.</td>\n      <td>0.671870</td>\n    </tr>\n    <tr>\n      <th>...</th>\n      <td>...</td>\n      <td>...</td>\n      <td>...</td>\n    </tr>\n    <tr>\n      <th>506501</th>\n      <td>506501</td>\n      <td>This long flight of stairs is killing me.</td>\n      <td>0.001772</td>\n    </tr>\n    <tr>\n      <th>545661</th>\n      <td>545661</td>\n      <td>Kill him!' Saruman looked round at their hosti...</td>\n      <td>0.997867</td>\n    </tr>\n    <tr>\n      <th>373160</th>\n      <td>373160</td>\n      <td>And they will seek to destroy him.</td>\n      <td>0.288646</td>\n    </tr>\n    <tr>\n      <th>441522</th>\n      <td>441522</td>\n      <td>Everyone's signed this petition, even the ones...</td>\n      <td>0.028304</td>\n    </tr>\n    <tr>\n      <th>57115</th>\n      <td>57115</td>\n      <td>Now, don't fuck it up.</td>\n      <td>0.990198</td>\n    </tr>\n  </tbody>\n</table>\n<p>86667 rows × 3 columns</p>\n</div>"
     },
     "execution_count": 9,
     "metadata": {},
     "output_type": "execute_result"
    }
   ],
   "source": [
    "test_data.drop(columns=[\"translation\", \"similarity\", \"lenght_diff\", \"trn_tox\"])"
   ],
   "metadata": {
    "id": "686f4fb6aed3ed6f",
    "outputId": "a409fa3e-3eec-4c8c-b6ed-273ec1b931a4",
    "ExecuteTime": {
     "end_time": "2023-10-19T14:56:59.413053200Z",
     "start_time": "2023-10-19T14:56:59.363829300Z"
    }
   },
   "id": "686f4fb6aed3ed6f"
  },
  {
   "cell_type": "code",
   "execution_count": 10,
   "outputs": [
    {
     "name": "stdout",
     "output_type": "stream",
     "text": [
      "<class 'pandas.core.frame.DataFrame'>\n",
      "Index: 404443 entries, 182993 to 121958\n",
      "Data columns (total 7 columns):\n",
      " #   Column       Non-Null Count   Dtype  \n",
      "---  ------       --------------   -----  \n",
      " 0   id           404443 non-null  int64  \n",
      " 1   reference    404443 non-null  object \n",
      " 2   translation  404443 non-null  object \n",
      " 3   similarity   404443 non-null  float64\n",
      " 4   lenght_diff  404443 non-null  float64\n",
      " 5   ref_tox      404443 non-null  float64\n",
      " 6   trn_tox      404443 non-null  float64\n",
      "dtypes: float64(4), int64(1), object(2)\n",
      "memory usage: 24.7+ MB\n"
     ]
    }
   ],
   "source": [
    "train_data.info()"
   ],
   "metadata": {
    "id": "9700c05ddddfb14f",
    "outputId": "b35e35f2-cbb5-4def-d46a-455d07703254",
    "ExecuteTime": {
     "end_time": "2023-10-19T14:56:59.551048500Z",
     "start_time": "2023-10-19T14:56:59.395077700Z"
    }
   },
   "id": "9700c05ddddfb14f"
  },
  {
   "cell_type": "code",
   "execution_count": 11,
   "outputs": [],
   "source": [
    "# Assuming you already have the train_data DataFrame\n",
    "train_data = train_data[train_data['ref_tox'] - train_data['trn_tox'] > 0]\n"
   ],
   "metadata": {
    "id": "60b9aff9ce68d1aa",
    "ExecuteTime": {
     "end_time": "2023-10-19T14:56:59.595946100Z",
     "start_time": "2023-10-19T14:56:59.532276400Z"
    }
   },
   "id": "60b9aff9ce68d1aa"
  },
  {
   "cell_type": "code",
   "execution_count": 12,
   "outputs": [
    {
     "name": "stdout",
     "output_type": "stream",
     "text": [
      "<class 'pandas.core.frame.DataFrame'>\n",
      "Index: 223638 entries, 182993 to 121958\n",
      "Data columns (total 7 columns):\n",
      " #   Column       Non-Null Count   Dtype  \n",
      "---  ------       --------------   -----  \n",
      " 0   id           223638 non-null  int64  \n",
      " 1   reference    223638 non-null  object \n",
      " 2   translation  223638 non-null  object \n",
      " 3   similarity   223638 non-null  float64\n",
      " 4   lenght_diff  223638 non-null  float64\n",
      " 5   ref_tox      223638 non-null  float64\n",
      " 6   trn_tox      223638 non-null  float64\n",
      "dtypes: float64(4), int64(1), object(2)\n",
      "memory usage: 13.6+ MB\n"
     ]
    }
   ],
   "source": [
    "train_data.info()"
   ],
   "metadata": {
    "id": "574b6cfea46d2a31",
    "outputId": "af62ef13-c805-45a0-bb41-06d75e553e5e",
    "ExecuteTime": {
     "end_time": "2023-10-19T14:56:59.673032900Z",
     "start_time": "2023-10-19T14:56:59.593435700Z"
    }
   },
   "id": "574b6cfea46d2a31"
  }
 ],
 "metadata": {
  "kernelspec": {
   "display_name": "Python 3 (ipykernel)",
   "language": "python",
   "name": "python3"
  },
  "language_info": {
   "codemirror_mode": {
    "name": "ipython",
    "version": 3
   },
   "file_extension": ".py",
   "mimetype": "text/x-python",
   "name": "python",
   "nbconvert_exporter": "python",
   "pygments_lexer": "ipython3",
   "version": "3.9.13"
  },
  "colab": {
   "provenance": []
  }
 },
 "nbformat": 4,
 "nbformat_minor": 5
}
