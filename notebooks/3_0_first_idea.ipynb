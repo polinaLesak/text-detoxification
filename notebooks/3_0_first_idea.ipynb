{
 "cells": [
  {
   "cell_type": "code",
   "execution_count": 29,
   "id": "initial_id",
   "metadata": {
    "collapsed": true,
    "ExecuteTime": {
     "end_time": "2023-10-22T14:32:03.598760700Z",
     "start_time": "2023-10-22T14:32:03.531013400Z"
    }
   },
   "outputs": [
    {
     "name": "stderr",
     "output_type": "stream",
     "text": [
      "[nltk_data] Downloading package punkt to\n",
      "[nltk_data]     C:\\Users\\lesak\\AppData\\Roaming\\nltk_data...\n",
      "[nltk_data]   Package punkt is already up-to-date!\n"
     ]
    },
    {
     "data": {
      "text/plain": "True"
     },
     "execution_count": 29,
     "metadata": {},
     "output_type": "execute_result"
    }
   ],
   "source": [
    "import pandas as pd\n",
    "from nltk.sentiment import SentimentIntensityAnalyzer\n",
    "from nltk.tokenize import word_tokenize\n",
    "import nltk\n",
    "import pandas as pd\n",
    "nltk.download('punkt')"
   ]
  },
  {
   "cell_type": "code",
   "execution_count": 30,
   "outputs": [],
   "source": [
    "def find_replacements(df):\n",
    "    sia = SentimentIntensityAnalyzer()\n",
    "    replacements = {}\n",
    "\n",
    "    for index, row in df.iterrows():\n",
    "        reference_sentence = row['reference']\n",
    "        translation_sentence = row['translation']\n",
    "        \n",
    "        reference_tokens = word_tokenize(reference_sentence)\n",
    "        translation_tokens = word_tokenize(translation_sentence)\n",
    "\n",
    "        for ref_token, trn_token in zip(reference_tokens, translation_tokens):\n",
    "            ref_sentiment = sia.polarity_scores(ref_token)['compound']\n",
    "            if ref_sentiment < 0:\n",
    "                replacements[ref_token] = trn_token\n",
    "\n",
    "    return replacements\n"
   ],
   "metadata": {
    "collapsed": false,
    "ExecuteTime": {
     "end_time": "2023-10-22T14:32:04.865448300Z",
     "start_time": "2023-10-22T14:32:04.842272500Z"
    }
   },
   "id": "2e4bcaab7ccb4d49"
  },
  {
   "cell_type": "code",
   "execution_count": 31,
   "outputs": [
    {
     "name": "stdout",
     "output_type": "stream",
     "text": [
      "{'disorder': 'behind', 'kill': 'get', 'fuck': 'are', 'Shit': 'what', 'leave': 'your', 'poor': 'poor', 'bastard': ',', 'no': 'have', 'killing': 'himself', 'savage': 'wild', 'contemptuously': 'with', 'waste': 'hell', 'swear': 'family', 'bitch': '.', 'irresponsible': '!', 'die': 'died', 'nuts': 'about', 'dead': 'sure', 'foolhardy': 'pontiff', 'hell': 'hell', 'shit': '.', 'damn': 'you', 'Disgusting': 'A', 'fight': ',', 'Hurt': 'hit', 'Fuck': 'because', 'ass': 'me', 'rob': ',', 'motherfucker': 'man', 'annoying': 'mother', 'arrogant': 'degrading', 'rape': 'and', 'Damn': 'I', 'fucked': 'screwed', 'suicide': 'suicide', 'attack': '!', 'Miss': '.', 'Bullshit': 'nothing', 'loser': 'lost', 'goddamn': 'good', 'freaky': '.', 'hiding': 'hiding', 'hard': 'until', 'stealing': 'in', 'assaulted': 'he', 'lose': 'see', 'bitter': 'bitter', 'impatient': 'of', 'painful': '.', 'crush': 'when', 'stop': 'my', 'Crap': 'hell', 'goddam': 'think', 'gun': 'a', 'scared': 'scared', 'miserable': 'restaurant', 'shoot': 'him', 'stupid': 'silly', 'worried': 'you', 'mess': 'dead', 'steal': 'car', 'horrible': 'person', 'sick': 'faulty', 'tired': 'of', 'crappy': 'in', 'crap': 'now', 'worst': 'vagrant', 'drop': 'you', 'alone': 'of', 'killed': 'now', 'shitty': 'time', 'Goddamn': 'is', 'insult': 'insult', 'lack': 'lack', 'cruel': 'you', 'nervous': ',', 'strike': 'see', 'Leave': '.', 'Crazy': 'a', 'Stop': 'oh', 'pressure': 'young', 'cunts': 'guys', 'pay': 'she', 'fidgety': 'little', 'Ugh': 'I', 'No': '.', 'mad': 'just', 'insane': 'been', 'damned': 'to', 'despair': 'his', 'destroy': 'to', 'weakness': 'your', 'stinks': 'stinks', 'crushed': '.', 'threats': 'threats', 'crazy': 'crazy', 'drunk': '.', 'prick': 'does', 'cut': 'to', 'ruined': 'devastated', '-stupid': '.', 'ridiculous': 'been', 'war': 'war', 'pervert': 'an', 'Sorry': 'excuse', 'witch': 'witch', 'dick': 'by', 'wrong': 'hell', 'missing': 'unveiling', 'maniac': \"'s\", 'cried': 'cried', 'screamed': 'screamed', 'nasty': 'nasty', 'bitches': 'women', 'screwing': 'with', 'ghost': 'can', 'punishment': 'murder', 'treason': 'betrayal', 'death': 'everyone', 'odd': 'detail', 'murder': 'for', 'weapon': 'the', 'depressing': 'humiliating', 'broken': 'broken', 'hurt': '.', 'murderer': ',', 'Dangerous': 'I', 'prison': ',', 'unease': 'beloved', 'stubborn': 'from', 'jackasses': 'calls', 'blamed': 'for', 'suck': \"'d\", 'losers': 'people', 'dodgy': 'these', 'hopelessly': 'matter', 'scumbag': 'fellow', 'Wicked': 'the', 'dread': 'the', 'screw': 'lie', 'disgusting': '.', 'forgotten': 'without', 'Kill': 'we', 'hated': 'hated', 'useless': 'are', 'bitchy': 'sarcastic', 'dumb': 'the', 'sucks': \"'s\", 'weird': 'weird', 'dishonest': ',', 'sore': 'lose', 'lonely': 'up', 'fire': 'blame', 'regret': 'regretted', 'Hysterical': 'hysterical', 'stuck': 'stuck', 'scares': 'scares', 'insults': 'and', 'torture': 'and', 'tits': \"'\", 'Killed': 'he', 'missed': 'missed', 'bloody': 'good', 'paranoid': ',', 'screwed': 'done', 'fool': 'bro', 'Damned': 'ugly', 'liar': \"'re\", 'gagged': '!', 'dragged': 'climbed', 'darkest': 'of', 'bad': 'enough', 'damaged': 'accident', 'hates': 'hates', 'hurts': '.', 'crash': 'into', 'whore': 'bride', 'risk': 'wo', 'loose': 'I', 'bizarre': 'An', 'sucked': 'drained', 'whiney': 'a', 'hate': 'hate', 'victims': 'of', 'doom': 'of', 'gravely': 'mistakes', 'embarrassment': 'a', 'Broke': 'he', 'dirty': 'corrupt', 'evil': 'Chinese', 'grieve': 'properly', 'shameless': 'insolent', 'Gross': 'you', 'idiot': 'cow', 'raped': 'raping', 'bitching': 'some', 'fuckhead': 'that', 'lost': 'without', 'foolish': 'the', 'ugly': 'necessities', 'pretend': 'pretend', 'bomb': '.', 'questionable': 'a', 'Shoot': '....', 'bother': 'to', 'battling': 'that', 'cancer': 'cancer', 'bastards': 'keep', 'SHIT': 'HOVEN', 'humiliate': '.', 'furiously': 'cried', 'unfortunate': 'man', 'terribly': 'well', 'rudely': 'crossed', 'accusing': 'like', 'slashed': 'which', 'wasted': '...', 'piss': '.', 'threatening': 'dangerous', 'jerks': 'me', 'puked': 'gave', 'complained': \"O'Donnell\", 'Useless': 'there', 'dump': 'a', 'fucker': 'this', 'injustice': 'was', 'criminal': 'a', 'tough': '?', 'lying': ',', 'gossips': 'gossip', 'Unfortunately': 'unfortunately', 'problem': '......', 'Bastards': \"''\", 'bullshit': 'today', 'expels': 'Jews', 'stab': 'Slmpsn', 'nonsense': 'Shasha', 'fake': '...', 'devil': 'guy', 'murdered': '.', 'angry': 'at', 'dreadfully': 'a', 'lunatic': 'attacked', 'stopped': 'semis', 'coward': 'assignment', 'fear': 'his', 'low': 'you', 'snafu': 'the', \"'fuck\": '``', 'pathetic': 'touching', 'Death': 'the', 'Stupid': 'it', 'Forget': 'let', 'stink': '!', 'rotten': 'rotten', 'pissed': 'pissed', 'vicious': '.', 'flunky': 'layouts', 'evildoers': 'villains', 'seriously': 'really', 'suffer': 'much', 'morons': 'into', 'destruction': 'death', 'threaten': 'threaten', 'forget': 'cancer', 'slash': 'beat', 'miss': 'miss', 'sucker': 'is', 'Piss': 'it', 'propaganda': 'in', 'enemies': 'enemies', 'moron': 'man', 'freaking': 'noodle', 'severely': 'punished', 'punished': 'harshly', 'rigged': 'have', 'worse': 'worse', 'lazy': '12.800', 'Bloody': ':', 'weak': 'weak', 'empty': 'into', 'damnit': '?', 'crying': 'crying', 'debt': 'Minsky', 'trapped': '...', 'screaming': 'with', 'hostile': '.', 'degrading': 'nothing', 'poisoned': 'poisoned', 'grief': 'and', 'sadness': ',', 'suffering': 'torment', 'Fired': 'he', 'jealous': 'take', 'Lose': 'even', 'Rotten': 'rotten', 'greedy': ',', 'Sick': 'the', 'weapons': 'secret', 'obscene': 'a', 'torn': '?', 'Idiot': 'he', 'terrorist': 'terrorist', 'Destroyed': 'and', 'gross': 'rude', 'fights': 'is', 'awful': 'being', 'refused': 'refused', 'jackass': 'man', 'fools': 'got', 'violated': 'he', 'cutting': 'who', 'lame': 'how', 'Hate': 'you', 'Sluts': 'Coury', 'freak': 'guy', 'worthless': 'cheap', 'sorry': ',', 'slutty': '.', 'robber': 'a', 'freaks': 'weirdly', 'Blind': 'Blind', 'idiotic': 'the', 'notorious': 'and', 'killer': 'her', 'Low': 'little', 'terrible': 'oppressive', 'alarm': 'an', 'hide': 'and', 'mocking': ',', 'demanding': 'wondering', 'heroin': 'good-looking', 'Fool': 'crazy', 'jerked': 'chased', 'Hell': 'I', 'robs': 'following', 'blind': 'like', 'broke': 'girl', 'Ridiculous': 'she', 'HURT': 'he', 'DIE': 'died', 'victim': '.', 'complain': 'complained', 'died': 'yes', 'dumped': 'dumps', 'battle': 'with', 'poison': 'their', 'strangled': ',', 'Dick': 'Dick', 'protest': 'protest', 'rage': 'path', 'trouble': 'trouble', 'emergency': 'reserved', 'motherfucking': 'tough', 'guilty': 'guilty', 'poisoning': '!', 'fucks': \"'s\", \"'Shit\": \"'shit\", 'beating': 'old', 'whining': 'the', 'Poor': 'poor', 'seduced': 'be', 'contemptuous': 'scorned', 'cynical': '.', 'dumbest': 'worst', 'enemy': 'enemy', 'overreact': 'overreact', 'contradiction': ',', 'Moody': ',', 'Wanker': 'he', 'smartass': 'a', 'ignorant': '.', 'Destroy': 'destroy', 'boring': 'boring', 'abandon': '...', 'freezing': 'cold', 'forced': 'to', 'shame': 'shame', 'Moron': 'Mimoni', 'fighting': 'fighting', 'fought': 'demons', 'ruin': \"'re\", 'hateful': 'rich', 'upset': 'pretty', 'interrupt': 'interrupt', 'murderers': 'inhabited', 'kills': 'can', 'devils': 'devils', 'worry': ',', 'faggot': '.', 'FIRE': 'shoot', 'ugliest': 'on', 'problems': 'have', 'Gun': 'hit', 'Bitch': '.', 'ridiculed': 'ridiculed', 'shitting': 'kidding', 'rebels': '.', 'Devil': 'Demon', 'shocked': 'it', 'savages': 'thing', 'whine': 'little', 'dangerous': 'how', 'goddamned': 'wears', 'Fire': 'fire', 'stall': 'standstill', 'bothered': 'was', 'lower': ',', 'kill.': 'dead', 'stinking': 'that', 'illness': 'disease', 'murders': 'the', 'tears': 'tears', 'scary': 'of', 'jerk': 'in', 'fault': 'my', 'Fighting': 'the', 'confused': 'a', 'shake': 'I', 'Liar': 'do', 'imprisoned': 'to', 'fascist': 'twirl', 'slavery': 'slavery', 'firing': 'squad', 'miser': 'old', 'murdering': 'murdered', 'Dirty': 'dirty', 'Poisoned': 'I', 'Cut': 'they', \"'Hell\": '``', 'dull': 'scalpel', 'strain': 'use', 'desperately': 'man', 'powerless': 'helpless', 'arrest': 'and', 'accident': 'in', 'harmed': 'hurt', 'suspected': 'suspect', 'cheater': 'as', 'grave': \"'s\", 'depressed': 'disorder', 'Remorse': 'remorse', 'stabbed': 'his', 'sickening': 'heinous', 'niggas': 'what', 'blurry': 'eyes', 'stank': 'smelled', 'dumps': 'na', 'disgusted': 'the', 'apathetically': 'around', 'lied': ',', 'stolen': 'her', 'stench': 'smell', 'Vulnerable': 'perfect', 'suspect': 'suspect', 'violence': 'in', 'FUCK': 'my', 'assholes': 'jerk', 'Killing': 'his', 'ignorance': 'ignorance', 'dumber': 'tugging', 'discard': 'and', 'irrational': 'thinking', 'wicked': 'that', 'deny': 'true', 'twat': 'around', 'screams': ',', 'violates': '-', 'virulent': 'destructive', 'rebel': 'rise', 'rebellion': 'hands', 'illegal': 'illegal', 'risking': 'it', 'thieves': 'robbers', 'warning': '.', 'fired': ',', 'mofo': \"'ll\", 'Worse': 'worse', 'blame': 'others', 'Ugly': 'bad', 'losing': \"n't\", 'struck': '.', 'pissing': 'rubbing', 'Nigger': 'Negr', 'frustrated': 'I', 'dickhead': 'volley', 'confront': 'the', 'cock': 'lay', 'rude': \"'s\", 'terrifying': 'scary', \"'Damned\": '``', 'Motherfucker': '?', 'nigger': 'nigger', 'rapist': 'have', 'stopping': 'stop', 'nerd': 'pet', 'postpone': 'late', 'irritated': 'become', 'savagely': 'off', 'shrew': 'fusion', 'ruining': 'my', 'defenseless': 'guy', 'feared': 'and', 'selfish': 'selfish', 'injury': 'injury', 'suffered': ',', 'naive': 'gullible', 'impolite': 'impolite', 'ill': 'have', 'weirdo': 'he', 'Dumb': 'bad', 'exhausted': 'is', 'vanity': 'own', 'criminals': '.', 'scare': 'to', 'dreadful': 'terrible', 'terrorized': 'terrorized', 'Alone': '.', 'irritably': 'do', 'weeping': 'hell', 'insecurity': 'this', 'Freak': 'freak', 'disappear': 'out', 'disappears': 'when', 'awkward': 'into', 'falling': 'fall', 'horrid': 'terribly', 'impersonal': 'way', 'refuse': 'because', 'ungrateful': 'volcanoes', 'cautious': 'in', 'serious': 'not', 'lunatics': 'crazy', 'argument': 'arguments', 'Loser': 'poor', 'bashful': 'all', 'lies': 'lies', 'Crushed': 'he', 'bothering': 'arm', 'pity': 'sympathy', 'Weak': 'weak', 'disappointing': ',', 'retarded': 'afflicted', 'desperate': 'looking', 'dirt': 'ground', 'rejection': 'bring', 'offence': \"'re\", 'ignore': \"'m\", 'undesirable': 'behavior', 'suspend': '.', 'curse': 'for', 'prisoner': 'captives', 'hatred': 'in', 'suckers': '!', 'miserably': 'your', 'Guilty': 'come', 'puke': '.', 'loathe': 'much', 'tragic': 'lack', 'hurting': 'him', 'tricks': 'no', 'flunked': 'going', 'bored': '.', 'Melancholy': 'a', 'pain': '.', 'stupidly': 'I', 'loses': 'a', 'sin': 'the', 'geek': 'meant', 'destroyed': 'destroyed', 'crime': 'a', 'slut': 'sister', 'threat': 'threat', 'choked': 'to', 'dork': 'a', 'dorky': 'your', 'charges': 'charges', 'Prison': 'a', 'infected': 'infected', 'accused': 'accused', 'damage': ',', 'scam': '.', 'Threats': 'threats', 'damnable': 'please', 'promiscuous': '.', 'panic': 'sir', 'mistaken': 'mistake', 'whorehouses': 'neon', 'Pathetic': 'you', 'heh': 'you', 'Murdered': '.', 'faggots': 'wood-and-fleshy', 'starve': 'he', 'Spam': 'the', 'greedily': 'of', \"'Alas\": ',', 'disappointed': \"'m\", 'Die': 'he', 'betray': ')', 'vile': 'take', 'perpetrator': 'perpetrator', 'cheated': 'cheated', '-Fuck': '!', 'demand': '.', 'faking': 'a', 'fears': 'fear', 'distracted': 'thousand', 'shits': 'screws', 'obsessed': '.', 'avoid': 'hypocritical', 'confusion': 'with', 'Murder': '.', 'beaten': 'with', 'arrested': 'and', 'failure': 'I', 'disgrace': '.', 'Terrorists': 'floor', 'Bad': 'pretty', 'smear': '.', 'wanker': 'recluse', 'blaming': 'the', 'crazier': 'more', '.stupid': 'stupendous', 'unworthy': 'to', 'terrorists': 'applies', 'hooligans': 'Tankosier', 'losses': ',', 'mistake': '.', 'suspicious': 'suspicious', 'hopeless': 'hopelessly', 'disappointment': '.', 'fag': '!', 'loomed': 'emerged', 'punishable': 'sentence', 'brutally': 'stubborn', 'offender': 'sex', 'sad': 'has', 'offense': 'Senator', 'tumor': 'seems', 'trick': 'deal', 'unpleasant': 'you', 'betrayed': ',', 'pricks': 'hate', 'rapists': 'it', 'avoided': 'matter', 'fuckers': 'people', 'funeral': 'this', 'Petty': '.', 'crazed': 'a', 'Rude': 'I', 'drags': 'literally', 'block': 'block', 'fail': 'able', 'Grimes': 'of', 'lousy': \"'s\", 'arguing': 'fighting', 'Seriously': 'seriously', 'disappeared': 'with', 'ruination': 'bet', 'danger': 'at', 'defective': ',', 'drag': 'to', 'Shake': 'shake', 'pushy': 'been', 'strangely': 'strangely', 'demanded': '.', 'bitterly': 'said', 'despise': '.', 'sulky': 'troupe', 'perversity': 'a', 'rudeness': 'heart', 'assassination': 'assassination', 'Po': 'hey', 'Screw': 'Kiss', 'difficulty': ',', 'obsession': 'did', 'Dumbass': 'you', 'starved': 'hunger', 'fallen': 'I', 'obnoxious': 'excruciating', 'neglects': 'who', 'stinker': 'what', 'Missing': 'house', 'ugliness': 'your', 'murderously': 'murderously', 'provoke': 'provoke', 'sucky': 'phone', 'harm': 'humanity', 'Unprofessional': 'unprofessional', 'hypocritical': ',', 'FucK': 'what', 'shortage': 'to', 'trickster': '.', 'negative': ',', 'War': 'Girl', 'threatened': 'dog', 'lamebrained': 'the', 'stress': 'killing', 'embarrassing': 'in', 'disregards': 'breaks', 'aggressions': 'desert', 'attacked': 'attacked', 'terror': 'knife', 'whores': 'cries', 'crisis': 'mental', 'disturbs': 'your', 'racist': 'man', 'corpse': 'a', 'stupidity': 'angry', 'cruelty': 'the', 'Scared': 'terrible', 'riot': 'mutiny', 'Destroying': 'destroyed', 'attacker': 'attacker', 'panicked': '!', 'dorks': 'blunders', 'depressurized': 'the', 'battled': 'I', 'interrupter': 'protection', 'moaning': 'came', 'impose': 'trying', 'cuts': 'off', 'accusations': 'sentimental', 'destroying': 'deeper', 'Attack': 'attack', 'doubters': 'who', 'pisses': \"'s\", 'damnedest': 'remaining', 'petty': 'a', 'smuggler': 'of', 'CHEATING': 'yelling', 'disrespect': 'try', 'inferior': ',', 'feeble': 'weak', 'Foolish': 'you', 'Suck': '?', 'Murderer': 'the', 'ridiculously': ',', 'Sucks': 'the', 'Mad': 'crazy', 'thief': 'the', 'failed': 'ridiculed', 'short-sighted': ',', 'panicking': 'hysterical', 'condemn': 'we', 'Dead': 'dead', 'Torture': 'do', 'villain': 'bad', 'Humiliation': 'frame', 'intimidating': 'the', 'leak': 'they', 'unhappy': 'it', 'Losers': 'is', 'harass': 'you', 'prisoners': 'I', 'bitchiest': 'done', 'assault': '.', 'stops': 'that', 'disgust': 'and', 'immorality': 'even', 'vain': 'die', 'Vicious': 'evil', 'bully': 'the', 'raging': 'rebelling', 'mockery': 'a', 'unfortunately': ',', 'harsh': 'cruel', 'murderous': 'dangerous', 'manipulated': 'manipulated', 'Critics': 'critics', 'offended': 'frequently', 'nerdy': 'an', 'stressful': 'and', 'Lying': 'he', 'Awful': 'a', 'maniacs': 'ginger-like', 'ashamed': 'of', 'killers': 'assassins', 'idiot.': 'stupid.', 'Fuckface': 'him', 'deception': ',', 'ache': 'in', \"'Damn\": \"'damn\", 'starving': \"'s\", 'Darkness': 'Darkness', 'wasting': ',', 'Son-of-a-Bitch': 'Zauson', 'yucky': 'yuck', 'embarrass': 'embarrass', 'perverted': 'instead', 'strikes': 'strikes', 'cry': 'cry', 'Pervert': 'friend', 'seriousness': 'greatest', 'torturer': 'and', 'abused': ',', 'bitched': 'out', 'worrying': '?', 'badly': 'out', 'combat': \"'ll\", 'Bastard': 'he', 'tricky': 'cadavers', 'dumpster': 'with', 'Ass': 'forcing', 'Witch.': 'you', 'guiltily': 'guiltily', 'Stupidly': 'dangerous', 'Fuckhead': 'I', 'Perverts': 'freaks', 'hesitated': 'handed', 'harassed': 'me', 'ruins': 'marry', 'wars': '.', 'Cheated': 'he', 'cocky': 'peacock', 'craziest': 'weirdest', 'sneaky': 'it', 'Starve': 'take', 'trap': 'before', 'Drop': 'drop', 'Problem': 'the', 'rash': 'for', 'son-of-a-bitch': 'not', 'nerves': \"'s\", 'fascists': 'in', 'tragedy': '.', 'Nah': 'no', 'Damning': 'that', 'insecure': ',', 'Tits': 'Goat', 'graveyard': 'burial', 'fooling': \"n't\", 'Murderers': 'killers', 'Fallen': 'the', 'loner': 'be', 'fuking': 'sordid', 'Violating': 'the', 'Pitiful': 'sad', 'Arrogant': 'arrogant', 'slam': '.', 'Fools': 'you', 'Motherfucking': 'be', 'horror': 'or', 'stinky': ',', 'Poison': 'gonad', 'messed': \"'re\", 'Hard': 'it', 'severed': 'head', 'obliterated': 'would', 'incompetent': 'which', 'warned': 'him', 'Lost': ',', 'revenge': 'but', 'snobby': 'pretentious', 'unconfirmed': 'gossip', 'killjoy': 'for', 'Curse': 'the', 'pissants': 'with', 'strange': 'extraordinary', 'pitiful': 'of', 'drained': 'and', 'Ungrateful': 'the', 'Rape': 'ideas', 'troublesome': 'was', 'abuses': 'in', 'unimportant': '.', 'Mia': 'what', 'unprotected': 'which', 'Forced': 'to', 'uglier': 'uglier', 'solemn': 'or', 'appalled': 'still', 'insulting': 'insulting', 'farce': 'farce', \"'Whores\": \"'the\", 'mindless': 'monster', 'contradict': 'to', 'prejudice': 'it', 'insignificant': 'loser', 'Ignorance': 'ignorance', 'accidents': 'accidents', 'forgetful': 'theory', 'menace': '.', 'Funky': 'Funky', 'Terrified': 'all', 'violently': 'room', 'limited': 'to', 'tricked': 'fooled', 'mistaking': 'night', 'Sad': 'sad', 'tragically': 'desperately', 'scarecrow': '!', 'biased': 'prejudiced', 'cowardly': 'atrocious', 'battlefield': 'miserable', 'persecuting': 'until', 'Insults': 'the', 'condemned': 'is', 'penalty': 'sentence', 'shaking': 'wobbles', 'unfriendly': 'as', 'geeks': 'royal', 'numb': '.', 'SLUT': 'kidnapped', 'attacks': 'nuts', 'Woe': 'have', 'disaster': 'disaster', 'Killers': 'killers', 'disturbed': 'by', 'douchebag': 'the', 'terrorize': 'haunt', 'Wasting': 'they', 'cynic': '.', 'darkness': 'darkness', 'indignant': 'indignant', 'Stinks': 'paramedics', 'Apathetic': 'appendages', 'despises': '.', 'Criminal': 'declare', 'collisions': 'kill', 'conspiracy': 'between', 'interrogated': 'questioned', 'exposed': 'throat', 'devastated': 'Locke', 'difficult': ',', 'weep': 'bring', 'spite': 'was', 'battles': 'have', 'betrayal': 'be', 'shock': 'jolt', 'violent': 'a', 'KILLED': 'have', 'contempt': 'contempt', 'abandoned': 'abandoned', 'Stunned': 'a', 'perverse': 'perverse', 'liars': 'too', 'harms': 'more', 'struggling': 'see', 'confusing': 'unfamiliar', 'exploit': 'can', 'starves': 'painfully', 'smuggle': 'be', 'rig': \"n't\", 'widowed': 'a', 'paranoiac': 'paranoid', 'mediocrity': 'and', 'conflict': 'conflict', 'argued': 'that', 'averted': 'turned', 'sluts': 'we', 'Suspected': 'suspect', 'protesting': 'the', 'warfare': 'of', 'degraded': 'low', 'defect': 'a', 'Rob': 'to', 'drowned': 'or', 'harassment': 'sue', 'ludicrous': 'absurd', 'struggled': 'both', 'choking': 'she', 'Seduced': 'he', 'Terrorist': 'it', 'terrorism': 'terrorism', 'abusive': 'insulting', 'teasingly': 'around', 'imperfect': '.', 'grievances': 'complaints', 'Faggot': '.', 'reek': 'his', 'impotent': 'impotent', 'cheat': 'just', 'scream': '.', 'agony': 'the', 'severe': 'show', 'anger': 'anger', 'smuggled': 'to', 'screwups': 'to', 'arguments': 'clear', 'humiliated': 'by', 'gag': 'gag', 'contagious': 'contagious', 'overload': 'an', 'fraud': '.', 'fooled': 'the', 'sorrow': 'grief', 'loneliness': 'curse', 'humiliating': 'for', 'dirtier': 'sicker', 'sullen': ',', 'itchy': 'suit', 'Nasty': 'gross', 'trembling': 'trembling', 'irritating': 'on', 'Dump': 'throw', 'dumplings': 'and', 'killings': 'Ahriman', 'Stubborn': 'very', 'meaningless': 'disgusting', 'dysfunction': 'ejaculation', 'molested': 'taken', 'fatal': 'able', 'viciously': 'angrily', 'interrupted': 'interrupted', 'punish': '?', 'Cutting': 'he', 'accidentally': 'twice', 'vague': 'the', 'depressive': 'a', 'Weird': 'strange', 'futile': 'fruitless', 'appalling': 'looking', 'shitheads': 'pranksters', 'furious': 'really', 'unintelligent': 'Rupert', 'defeat': 'to', 'swearing': ',', 'Shameful': 'bloody', 'axe': 'get', 'choke': 'and', 'drown': 'drowning', 'fu': 'world', 'doomed': 'all', 'riots': 'it', 'crude': 'of', 'mistakes': 'mistakes', 'wimp': 'paddock', 'egotistical': 'insufferable', 'obsolete': 'overcome', 'doubted': 'would', 'Lousy': 'Steady', 'flu': 'cold', 'Fraud': 'fraud', 'complaining': 'complain', 'confronted': 'honored', 'denied': '.', 'Stressful': 'stressful', 'shook': 'contending', 'Evil': 'bad', 'warn': \"'m\", 'accuse': 'blame', 'madly': 'quickly', 'Morons': 'dummies', 'dumping': 'the', 'Despair': 'despair', 'Evildoers': 'the', 'doubt': 'doubt', 'incompetence': 'level', 'misery': 'troubles', 'Miserable': 'of', 'grim': 'energetic', 'sinister': \"n't\", 'forbid': 'forbid', 'childish': 'now', 'fright': 'in', 'bores': \"'m\", 'shameful': 'the', 'brutal': 'uncompromising', 'Crash': 'you', 'dominate': 'dominate', 'stupider': 'terrible', 'Coward': 'let', 'infuriating': 'terrible', 'worn': 'a', 'graves': 'graves', 'Dickhead': 'prick', 'obsessing': 'my', 'suicidal': 'was', 'LYING': 'He', 'Killer': 'attacking', 'bore': 'with', 'immoral': 'Western', 'Cunt': 'Satan', 'hunger': 'of', 'Cancer': '?', 'murderess': '.', 'Insulting': 'to', 'funerals': 'the', 'blocks': 'blocks', 'Rebellious': 'the', 'die.': '.', 'Crime': '.', 'threatens': 'our', 'Thief': '!', 'refusing': 'and', 'suspended': 'was', 'reeked': 'smelled', 'insincerity': 'were', 'greedier': 'greedy', 'disturb': 'this', 'molesting': 'molested', 'Shitty': 'it', 'gossip': 'news', 'crushing': 'crushing', 'stressing': 'worried', 'Terror': 'terror', 'Violent': 'violent', 'sentenced': '.', 'irritable': 'spilled', 'dipshit': 'was', 'hesitate': 'have', 'Bribe': 'you', 'screwball': 'hundred-a-hunt', 'sins': 'sins', 'Heh': 'and', 'Fight': 'if', 'outraged': 'buttocks', 'awaited': 'a', 'terrified': 'terrified', 'poisonous': 'crease', 'obliterate': \"n't\", 'bothers': 'worries', 'moody': 'and', 'Shit-': 'this', 'Condemned': 'status', 'cheats': 'on', 'Shocking': \"'s\", 'screwy': 'crazy', 'screwier': 'than', 'raping': 'years', 'Crying': 'they', 'Pisses': 'that', 'loss': '.', 'brutalized': 'about', 'mock': 'him', 'vexing': ',', 'confronting': 'with', 'Damnation': 'why', 'Tortured': 'the', 'unwanted': 'unwanted', 'weakest': 'greatest', 'hid': 'camera', 'argue': 'we', 'shattered': '.', 'defector': 'fugitive', 'treasonous': 'treacherous', 'travesty': 'farce', 'bankrupt': 'you', 'murder-': 'can', 'accidental': '...', 'agonizing': 'spend', 'humiliation': 'and', 'pities': \"'s\", 'backs': 'our', 'Died': 'she', 'smuggling': 'an', 'vultures': 'you', 'Lame': 'look', 'disillusioned': 'just', 'incapable': 'and', 'Emergency': 'state', 'deceived': 'deceived', 'Suckers': 'sweaters', 'rancid': \"n't\", 'gloomed': 'wings', 'fury': 'breathless', 'steals': 'X-', 'helplessly': 'sitting', 'Meaningless': 'meaningless', 'charged': 'sure', 'Jerk': 'guy', 'nags': 'those', 'freakish': 'terrible', 'toughest': 'toughest', 'Offenders': 'the', 'Terrible': 'Terrible', 'unhappily': ',', 'sadly': 'beasts', 'temper': 'nature', 'stalling': 'still', 'greed': '.', 'Losing': 'losing', 'dazed': 'drunk', 'loathing': 'disgust', 'moaned': 'groaned', 'weirdest': 'for', 'cries': 'crying', 'Stab': 'the', 'Destroyer': 'destroyer', 'allergic': 'allergic', 'puzzled': ',', 'inconvenience': 'if', 'badass': 'it', \"'no\": ',', 'apeshit': 'their', 'criticize': 'technique', 'Stealth': 'in', 'DEAD': 'side', 'frightened': 'scared', 'damages': 'pay', 'screw.': '.', 'bribe': 'which', 'rigidity': '.', 'Waste': 'it', 'lowly': 'creatures', 'expose': 'patient', 'deceitful': 'flatmate', 'Freaks': 'Freaks', 'cancel': 'have', 'Bummer': 'you', 'Wrong': 'no', 'Defeat': 'the', 'distract': 'distract', 'lamenting': 'up', 'screwup': 'anymore', 'struggle': 'struggle', 'frightening': 'a', 'imbecile': 'drunken', 'sinful': 'harm', 'abuse': 'to', 'dumpy': 'squat', 'tortured': 'torture', 'Starving': 'they', 'cocksuckers': 'bad', 'stabs': 'and', 'risky': 'dangerous', 'protests': 'mild', 'cheating': 'I', 'bullied': 'other', 'Hatred': 'hatred', 'distrust': 'have', 'sobbed': 'like', 'devilish': 'ladies', 'worries': \"'s\", 'eerie': 'I', 'criticizing': 'the', 'moan': 'groan', 'torturing': 'torture', 'freaked': 'that', 'shithead': 'punk', 'arrogance': 'exhibited', 'tease': 'tease', 'risked': '...', 'stunk': 'I', 'restricted': 'limited', 'Tenderloin': 'or', 'selfishly': 'that', 'banish': 'you', 'Shame': 'non-marital', 'apathy': 'my', 'wreck': 'car', 'disdain': \"'s\", 'submissiveness': 'subservience', 'perverts': '.', 'questioned': 'the', 'sickens': 'disgusts', 'Devastated': 'they', 'douche': 'shower', 'villainous': 'rogue', 'traumatic': 'and', 'Isolate': 'a', 'DICK': 'he', 'overweight': 'nose', 'Weaker': 'weaker', 'negativity': \"n't\", 'Hide': 'let', 'inability': 'ability', 'cocksucker': 'guy', 'looms': 'like', 'pisser': 'the', 'scaring': \"'re\", 'unwelcome': 'welcome', 'Fucker': 'you', 'ineffective': 'new', 'suspects': 'an', 'Shithead': 'he', 'Blah': 'blah', 'blah': 'blah', 'Boring': 'I', 'moronic': 'an', 'remorse': 'regrets', 'Pay': 'never', 'Shaking': 'they', 'maniacal': 'form', 'HATE': 'hate', 'Lack': 'a', 'Lazy': 'I', 'intimidated': 'terrified', 'maddening': 'immense', 'underestimate': 'underestimate', 'Struck': 'for', 'Grim': 'the', 'violations': 'violations', 'poorer': 'Ali', 'Danger': 'dangerous', 'PERIL': 'how', 'Goddamned': 'if', 'craziness': 'frenzy', 'regrettably': 'afraid', 'troubled': 'in', 'foe': 'enemy', 'Fuckers': 'the', 'unfair': \"'s\", 'puking': 'vomiting', 'devastating': ',', 'SUCK': 'you', 'Fascist': 'Zionist', 'weary': 'sign', 'nag': 'better', 'Fag': 'come', 'aggressive': 'aggressive', 'embarrassed': 'hiding', 'ignored': 'he', 'grieving': 'grieving', 'naggy': 'boss', 'barrier': 'utterly', 'madness': 'lose', 'Trite': 'banal', 'spiteful': 'talking', 'neurotic': '.', 'Worst': 'the', 'pains': 'also', 'gravel': 'gravel', 'startled': 'hell', 'Pretend': 'pretend', 'angrily': 'very', 'Dork': 'he', 'grossly': 'showed', 'reluctant': 'of', 'offend': 'your', 'Noisy': 'Boy', 'scandal': 'scandal', 'SICK': 'of', 'Whores': 'whores', 'oppressive': 'hell-of-smoke', 'shit-': 'the', 'reeking': 'paper-size', 'noisy': 'of', 'Murderous': 'insidious', 'suing': 'who', 'Refuse': 'you', 'Ill': 'III', 'perpetrators': 'and', 'envy': 'bitterness', 'insecurities': ',', 'leaked': 'message', 'Empty': 'wash', 'fighters': ',', 'stutter': 'it', 'loathed': 'ago', 'guilt': 'guilt', 'dirtiest': 'easiest', 'appallingly': 'terribly', 'collapsed': 'has', 'molest': ',', 'Corpse': 'a', 'sicken': ',', 'heartless': 'heartless', 'remorseful': 'of', 'hating': '.', 'antagonized': 'Ullman', 'Badass': 'tough', 'Pissed': 'your', 'aggression': '.', 'jealousy': 'the', 'chagrin': 'rage', 'frustration': '.', 'Grave': '``', 'punishes': 'father', 'Witch': 'bloody', 'stuttering': 'this', 'screws': 'pressure', 'burden': '.', 'unjust': 'dishonest', 'Sucked': 'I', 'hysteria': 'woman', 'horrific': 'terrible', 'cunt': 'forgot', 'weakened': ',', 'fearing': 'fumbling', 'alarms': 'kind', 'grime': 'mess', 'dullest': 'most', 'desperation': '.', 'degrades': ',', 'damnation': 'eternal', 'Trouble': 'the', 'smothering': \"'s\", 'insanity': 'insanity', 'screwballs': 'of', 'stop-': 'to', 'Dreadfully': 'I', 'interrupting': ',', 'envious': 'up', 'Whore': ',', 'horrors': 'horrors', 'Freaking': 'the', 'deceive': 'deceive', 'vulnerable': 'to', 'abusing': 'robbing', 'discarded': '.', 'DEATH': '.', 'inconsiderate': 'being', 'attacking': 'before', 'cruelest': 'cruellest', 'hurtling': 'violently', 'dodging': ',', 'complaint': 'and', 'gullible': 'from', 'injured': '.', 'resign': 'resign', 'Rebels': 'the', 'helpless': 'Gotham', 'haunted': 'one', 'CONDEMNED': 'to', 'distressing': 'disturbing', 'molesters': 'perverts', 'emptied': 'or', 'shy': 'a', 'unlovable': '.', 'painfully': 'painfully', 'unloved': 'one', 'Perverted': 'it', 'Ghost': 'Spirit', 'abusers': 'they', 'forbidden': '......', 'dumbass': 'tube', 'resentment': 'missed', 'cornered': 'a', 'trauma': 'screw', 'scorn': 'girls', 'Detain': 'hold', 'Bitches': 'whores', 'moping': 'Myrtle', 'Moaning': '?', 'neglected': 'forgot', 'weaker': '.', 'Weirdest': 'what', 'insensitive': ',', 'Doomsday': \"'m\", 'bullying': 'no', 'moans': 'me', 'slashes': 'wounds', 'tranquilizer': 'did', 'decaying': 'rotting', 'deprived': '.', 'sucker-': 'woman', 'Strike': 'beat', 'loners': 'monuments', 'whorehouse': ',', 'deject': 'make', \"'Death\": \"'Death\", 'illnesses': '``', 'lawsuit': 'lawsuit', 'chaos': 'of', 'Humiliating': 'you', 'selfishness': 'selfishness', \"'Bloody\": \"'hell\", 'Defeating': 'a', 'Strikes': 'it', 'Disgust': 'distaste', 'unhealthy': 'your', 'wimpy': 'boy', 'hapless': '.', 'Devils': 'devils', 'drowns': 'baby', 'Arrest': 'arrest', 'ferocity': 'that', 'grimly': 'sullenly', \"'Murder\": 'he', 'dead-': 'dead', 'delay': 'at', 'exhaust': 'exhaust', 'Falling': 'outside', 'Fear': 'fear', 'annoys': 'pisses', 'careless': 'if', 'abductions': ',', 'louse': 'you', 'MURDERER': 'you', 'manipulating': 'incurable', 'Weaklings': 'the', 'exposing': 'background', 'insulted': 'offended', 'nagged': 'cutting', 'abduction': 'sightings', 'Murdering': 'they', 'fiery': 'a', 'arrests': ',', 'Faking': 'pretending', 'unbelieving': 'it', \"'Useless\": \"'it\", 'aggravating': 'as', 'whoremongers': 'pimps', 'uneasy': ',', 'thoughtless': 'he', 'lowdown': 'about', 'dangerously': 'dangerously', 'HELL': 'JSI', 'racism': '.', 'Suckered': 'he', 'Stink': 'the', 'awkwardness': 'shame', 'haunt': 'come', 'stressor': 'stressor', 'ignoring': 'the', 'viciousness': 'inspires', 'distraction': ',', 'unethical': 'an', 'livid': 'splattered', 'Bomb': 'in', 'Frustrated': 'Frustrated', 'fails': 'failed', 'hoax': 'hoax', 'regretted': 'but', 'weaklings': 'for', 'critical': 'mission', 'stunned': 'it', 'loathes': 'has', 'anxiety': 'anxiety', 'harming': 'suicidal', 'weakling': 'weakling', 'avoiding': 'and', 'pukes': 'to', 'Loathing': 'regrets', 'cramp': 'leg', 'unstable': 'capable', \"'No\": '``', 'Interrupt': 'my', 'phobia': '.', 'shocking': 'a', 'Angry': 'tumultuous', 'needy': 'little', \"'Arrogant\": \"'Inner\", 'huckster': 'guy', 'Dipshit': 'your', 'maniac-': 'and', 'conflicting': 'opposite', 'damaging': 'devastating', 'Humiliate': 'to', 'ineffectiveness': 'a', 'giddy': 'woman', 'bitterness': 'or', 'saddest': 'seen', 'falsified': 'school', 'frenzy': 'be', 'hacked': 'is', 'DAMN': 'the', 'angered': ',', 'Fake': 'Paddle', 'flustered': ',', 'tensed': ',', 'hysterical': '.', 'disrespected': 'by', 'wimps': 'weak', 'arguably': 'took', 'fools.': '``', 'fearsome': \"'s\", 'Suicide': 'the', 'Chaos': 'cheer', 'Paranoid': 'paranoid', 'Craze': '.', 'bastards-': '.', 'wavering': 'and', 'mocked': 'mocked', 'aggressively': 'aggressive', 'Suspicious': 'the', 'brutalizes': 'is', 'repressed': 'jinked', 'frantically': 'for', 'Irritable': 'you', 'blocking': 'blocking', 'disagreement': 'detective', 'violating': 'the', 'Sentenced': 'treason', 'Screaming': 'screaming', 'Bore': 'he', 'isolated': 'location', '-bUllshit': '.', 'retard': 'I', 'blames': ',', 'reckless': ',', 'freakishly': 'extraordinarily', 'foolishness': 'disdain', 'horrifying': 'that', 'outrage': '.', 'deficit': 'discussions', 'fumed': 'except', 'oversell': 'overdo', 'flatterer': '.', 'Stinky': 'Stinky', 'Blame': 'did', 'skeptical': ',', 'attackers': 'attackers', 'frauds': 'from', 'Ass-': '?', 'suspicion': 'suspicion', 'swindling': 'unconscious', 'dubious': \"'ve\", 'Ignored': 'symptoms', 'Swear': 'I', 'provoking': 'into', 'lamentable': 'had', 'Fucked': 'she', 'ban': 'silicone', 'KILLER': 'chanted', 'oppressed': 'nation', 'Feared': 'such', 'Terrifying': 'terrible', 'troubles': 'worried', 'devastation': 'the', 'havoc': 'havoc', 'Snobby': 'snobbish', 'fails-': 'whole', 'tense': 'bear', 'Ignorant': 'unconsciousness', 'lowered': 'emptiness', 'clueless': 'clueless', 'Silencing': 'the', 'Fury': ',', 'punishments': 'diseases', 'tension': 'kind', 'destroyer': 'destroyer', 'Beating': 'you', 'sulking': '.', 'disguise': 'anyone', 'Drown': 'chocolate', 'disappoints': 'disappointing', 'Screwed': 'cheated', 'frighten': 'you', 'Badly': 'heavily', 'resent': 'blame', 'Faggots': 'Club', 'Dragged': 'John', 'stinko': 'overjoyed', 'disturbance': 'from', 'unloving': '...', 'Tough': 'tough', 'challenged': '?', 'petrified': 'stiff', 'unaware': 'not', 'Bored': 'I', 'chaotic': 'confused', 'suspicions': 'you', 'adversaries': 'flexible', 'ridiculous-': 'joke-smuggling', 'underestimated': 'underestimated', 'funky': 'smelly', 'dismal': 'so', 'casualty': 'injured', 'Ridicule': 'with', 'Terribly': 'terribly', 'Complaining': 'he', 'expel': 'you', 'Worthless': 'though', 'Uselessness': 'take', 'madder': 'even', 'pained': 'the', 'Dirt': 'there', 'Disgraced': 'discredited', 'alarmed': 'a', 'sobbing': 'your', 'immobilized': 'they', 'Incompetent': '.', 'betrays': 'betrays', 'poverty': '``', 'Victim': 'the', 'mourn': 'will', 'totalitarian': 'cynical', 'weirdos': '.', 'dully': 'half-elf', 'Cheating': 'they', 'warnings': 'for', 'dead.': 'by', 'protested': 'when', 'disagree': 'disagree', 'pollute': 'since', 'Pissing': 'I', 'risks': ',', 'cheaters': '.', 'Assholes': 'these', 'lowlife': 'lesser', 'messy': 'chaotic', 'Damnedest': 'strangest', 'prosecute': 'you', 'frightfully': 'terribly', 'inadequate': 'either', 'lag': 'the', 'sabotage': 'sabotaging', 'Fucks': 'that', 'revengeful': 'with', 'Shits': 'Which', 'awkwardly': 'it', 'apprehension': 'aback', 'pathetically': 'much', 'guilts': 'managed', 'worsening': 'depression', 'depression': '.', 'INHIBITORS': 'PROTONEW', 'Fail': 'I', 'numbing': 'eternity', 'banned': 'from', 'silliness': 'women', 'smog': '!', 'Hostile': 'intruder', 'Mischief': 'what', 'sappy': 'to', 'Axe': 'an', 'Ridiculously': 'an', 'Menace': 'threat', 'indifferent': 'and', '-crazy': '.', 'belittle': 'apart', 'Bully': 'box', 'wept': 'to', 'undermining': 'tell', 'offensive': 'insult', 'denies': 'denied', 'unsavory': 'bad', 'hostilities': 'is', 'exhaustion': 'from', 'prejudiced': 'I', '-No': 'going', 'failing': 'oxygen', 'lowest': 'of', 'snob': 'as', 'assaults': 'an', 'deceit': 'con', 'Desperate': 'Desperate', 'poisons': 'toxins', 'Stuck': 'he', 'inhibition': 'it', 'Ignore': 'ignore', 'adversity': 'adversity', 'hard-': 'virtual', 'dumbhead': 'bottom', 'Jackass': 'I', 'Dorks': 'upholstery', 'Damnit': 'there', 'mooching': 'around', 'vulture': ',', \"'Crap\": \"'shit\", 'complaints': 'complaints', 'Failed': 'failed', 'Puke': 'Puke', 'indecisive': ',', 'slashing': '.', 'stupidest': '!', 'horribly': 'girl', 'difficulties': 'as', 'Savagery': 'violence', 'Drunk': 'drunk', 'Worried': 'I', 'horrendous': 'terrible', 'unattractive': 'not', 'Awkward': 'Cowardice', 'anxious': 'wait', 'lagged': 'far', 'intimidation': 'of', \"'Curse\": \"'Plague\", 'defeated': 'unparalleled', 'restless': 'to', 'grosser': 'than', 'BASTARDS': 'PARCHANTI', 'laziest': 'Fire', 'detached': 'the', 'error': ',', 'Accused': 'she', 'rainy': 'to', 'sarcasm': 'going', 'wiseass': ',', '-no': ',', 'Battle': 'calculating', 'uncomfortable': 'they', 'mourns': 'and', 'distorted': 'deformed', 'confuse': 'impress', 'Whiney': 'whimsical', 'shortages': 'cuts', 'hesitates': 'hesitates', 'weakly': 'weakly', 'mooch': 'savvy', 'lowers': 'lover', 'Threatening': 'she', 'outrageous': 'all', 'lowbrow': 'so', 'dislikes': 'antipathy', 'distress': 'severe', 'foes': 'we', 'sarcastically': 'loudspeaker', 'misunderstanding': 'misunderstanding', 'screamers': 'screamers', 'Cry': 'he', 'Dud': 'low-quality', 'unmotivated': 'no', 'frantic': 'die', 'Hates': 'he', 'gloomy': 'gloomy', 'liar.': 'lie', 'despised': 'and', 'cruelly': 'a', 'haunting': 'the', 'misses': 'a', 'fearful': 'any', 'STINK': 'bad', 'dupe': '?', 'Misery': 'misery', 'traumatizing': 'event', 'wickedly': '...', 'Cheaters': 'the', 'Stolen': 'gold', 'paranoia': 'some', '-Bullshit': '.', 'faulty': 'for', 'teaser': 'is', 'dreads': 'he', 'tricksters': 'tricksters', 'shockingly': 'so', 'Crush': 'them', 'sarcastic': 'sarcastic', 'dumpsters': 'around', 'Stop.': 'Nigel', 'Loner': 'a', 'resentful': 'grumpy', 'aggravated': ',', 'perturbed': 'ambushed', 'weeps': 'she', 'ferocious': 'the', 'grossness': 'only', 'shocker': 'surprise', 'dreadfuls': 'weak', 'suffers': 'suffered', 'emptiness': 'few', 'horrified': 'fact', 'molestation': '.', 'dejected': 'knot', 'DAMNIT': 'but', 'Horrible': 'bloody', 'apologizing': 'apologizing', 'Fu': \"'Kung\", 'ASS': 'PRD', 'fucked-': '--', 'Lower': 'could', 'Attacking': 'to', 'brutality': 'brutality', 'Betrayed': 'betrayed', 'costly': '.', 'frustrations': 'submissive', 'disguised': 'dressed', 'rigid': 'his', 'DOA': 'dead', 'Choked': 'strangled', 'molester': 'cop', 'Serious': 'a', 'dislike': 'do', 'smothered': 'have', 'weaponry': \"''\", 'Ban': 'Ban', 'traumatized': 'traumatised', 'nasties': 'around', \"'murder\": \"'murder\", 'STOP': 'stop', 'alas': 'qualities', 'warship': ',', 'amoral': 'you', 'unstoppable': '.', 'scandalous': 'not', 'Hating': 'they', 'Shock': 'shocked', 'stricken': '.', 'lone': 'a', 'Lunatics': 'thought', 'Heartless': 'heartless', 'hooligan': ',', 'disturbances': 'noises', 'ignores': 'us', 'adverse': 'lead', 'inadequacy': 'sexual', \"'Poor\": '``', 'numbskull': 'hubby', 'troublemaker': 'and', 'snub': ',', 'uglies': 'with', \"'Suspicious\": \"'you\", 'Prisoners': 'prisoners', 'Dumpiest': 'fattest', 'devilishly': 'self-taught', 'doubts': 'doubts', 'sluggish': 'the', 'uncontrolled': 'unchecked', 'Unjust': 'and', 'weaknesses': 'a', 'ridiculousness': 'absurdity', 'Blurry': 'I', 'Insane': 'killed', 'enslaved': 'the', 'Pseudoscience': 'pseudoscience', 'haters': 'of', 'unhappiness': 'spreading', 'fumes': ',', 'uselessly': ',', 'violation': 'your', 'villains': 'be', 'Cheat': 'Cheat', 'shocks': 'to', 'incensed': 'but', 'Bullying': 'bullying', 'distrusted': 'did', \"'Dickhead\": 'Kokot', 'sobs': 'cutting', 'fatally': 'gun', 'weirdoes': 'weirdos', 'defeats': 'what', 'doubtful': 'and', 'lamer': 'than', 'infuriates': 'upset', '-damned': '-', 'cynicism': 'cynicism', 'Inconsiderate': 'inconsiderate', 'animosity': 'intolerance', 'errors': 'passed', 'melancholy': 'melancholy', 'Suspect': 'the', 'peculiarly': 'off', 'smothers': 'restricts', 'toughie': 'because', 'Tears': 'there', 'denying': '$', 'dispute': 'and', 'trivial': ',', 'dangers': 'a', 'domination': '.', 'Stabbed': 'poor', 'Mocker': 'Mockingbird', 'reject': 'cop', 'Mock': 'you', 'Sinful': 'the', 'obstacle': 'less', 'uneasily': 'and', 'regretting': 'you', \"'Kill\": \"'forget\", 'stealth': 'where', 'Lonely': 'all', 'Tired': 'I', 'disliked': 'did', 'polluted': 'full', 'Doom': 'yeah', 'grouchy': 'grumpy', 'nervously': ',', 'masochist': 'that', 'abandoning': 'into', 'lowering': 'her', 'toothless': 'the', 'dullard': 'confused', 'Riot': 'riot', 'indecision': 'indecisiveness', 'Aggressive': 'aggressive', 'hater': ',', 'damns': 'other', 'agitate': '...', 'Prosecution': 'against', 'fraudulent': 'me', 'jailed': 'trapped', 'gossiping': '?', 'cancelled': 'school', 'prickle': 'your', 'Slut': 'what', 'freebooters': \"'s\", 'Strangled': 'strangled', 'whiner': 'whinger', 'Rash': 'he', 'Worrying': 'you', 'shaken': 'and', 'fuming': 'red', 'Limited': 'Inc', 'Poverty': 'poverty', 'Crappy': 'lousy', 'infuriated': 'upset', 'disastrous': 'may', 'rejecting': 'does', 'Lowlife': 'the', 'shamed': 'and', 'Infected': 'couple', 'whoremonger': 'a', 'Idiotic': 'crazy', 'CRAZY': '.', 'blocked': 'the', 'disturbing': 'and', 'bereaved': 'or', 'unacceptable': '!', 'Assaulting': 'with', 'FUCKED': 'a', 'damning': 'without', 'uselessness': 'trying', 'misinformation': 'and', \"'killing\": 'of', 'racists': 'target', 'argues': \"n't\", 'uncertainly': 'the', 'mourning': 'that', 'rejected': 'who', 'demoralized': '.', 'indifference': 'than', '.No': 'what', 'ironic': 'moment', \"'Shoot\": 'do', 'Anger': 'their', 'Scandal': 'was', 'uptight': 'you', 'CUT': 'you', 'LOOSE': 'have', 'Kills': 'he', 'Wimp': 'WIMP', 'jealously': 'French', '-Stupid': '...', 'stupidities': 'the', 'frustrating': 'is', 'dooming': 'condemn', 'excluded': ',', 'sickened': 'chilled', 'ATTACK': '......', 'carelessness': 'carelessness', 'dismay': 'and', \"'Bastards\": \"'Beavers\", 'Cuts': 'hours', 'saddened': 'saddened', 'prosecution': 'it', 'foolery': 'and', 'protesters': 'protesters', 'disgraced': 'a', 'MISS': 'to', 'stuttered': '.', 'Greed': 'greed', 'Hurts': 'it', 'Scare': 'put', 'ruing': 'my', 'GODDAMNED': 'fat', 'Argument': 'Argument', 'despairing': 'desperate', 'frightful': 'horrendous', 'trickery': 'another', 'Bitchy': ',', 'exhausting': 'day', 'lurking': '.', 'Robber': 'the', 'rudest': 'most', 'Confusing': 'confusing', 'troublemakers': '.', 'AWFUL': '.', 'Nonsense': 'nonsense', 'preventing': 'to', 'disasters': \"'s\", 'enraged': '.', 'Brutal': 'in', 'Slashed': 'he', 'geeky': 'block', 'annoyed': 'angry', 'LAZY': 'open', 'dulled': 'from', 'stingy': '...', 'upsetting': '.', 'insipid': '.', 'Wars': 'Wars', \"'fire\": ',', 'burdens': 'to', 'suspecting': 'cause', 'grossest': 'most', 'Scream': 'scream', 'Stupidity': 'obstinacy', 'annoy': 'are', 'expelled': 'exiled', 'despising': 'worse', 'grimy': 'from', 'pressures': 'jobs', 'Failure': 'disobeying', \"'Fuck\": '``', 'freeloaders': 'out', 'Fearing': 'we', 'Expelled': 'excluded', \"'Suck\": \"'eat\", 'dilemma': 'existential', 'irony': 'irony', \"'Stinks\": \"'stinks\", 'stressed': 'out', 'Violence': 'only', 'loneliest': 'man', 'flunking': '.', 'chokes': 'choked', 'fiasco': '.', 'Incompetence': 'I', 'overlooked': 'all', 'Trapped': 'like', 'punishing': 'punishing', 'collapse': 'collapse', 'immoralists': 'extend', 'accusation': 'murder', 'mocks': 'sneaks', 'destroys': 'destroyed', 'perversion': 'dirt', 'ContradiCt': 'would', 'scams': 'naivety', 'grievously': 'gravely', 'shaky': 'old-fashioned', 'condemnation': 'of', 'unkind': ',', 'pressured': 'forcing', 'smugglers': 'the', 'turmoil': 'filled', 'subversive': 'a', 'exaggerating': 'purposefully', 'offline': 'system', 'Block': 'block', 'embittered': 'oche', 'contemptible': ',', 'dolorous': 'than', 'idiot-': 'should', 'Scary': 'a', 'guiltier': 'reason', 'hostility': 'open', 'Enemy': 'the', \"'Sorry\": \"'\", 'detention': 'the', 'dominatrix': 'Arlington', \"'screwed\": 'it', 'Messed': 'you', 'Wanker.': '!', 'bullshit-': 'for', 'UGH': 'oh', 'lament': 'staggering', 'decay': 'decay', 'Insanity': '``', 'egotism': 'what', 'numbly': 'worms', \"'fucked\": '?', 'nastiest': 'only', 'Cocksucker': 'I', 'thief-': 'master', 'Appalled': 'covenant', 'stubbornly': 'still', 'Sorrowful': 'the', 'Debt': 'that', 'Violator': 'Violent', 'empties': 'vodka', 'persecuted': 'him', 'frighteningly': ',', 'worrisome': 'cause', 'denounce': 'life', 'torturers': 'torturers', 'exasperated': ':', 'forbids': 'prohibits', 'promiscuity': '.', 'repression': \"'s\", 'grieves': '.', 'stutterer': '.', 'harassing': 'me', 'Slutty': 'the', 'resigning': \"n't\", 'degrade': 'to', 'discomfort': 'you', 'submissive': 'to', 'Shy': 'shy', 'rapers': 'anemic', 'disoriented': 'arrested', 'wars.': 'Wars', 'nasty-': 'nice', 'Dull': 'boring', 'molests': 'you', 'Disgrace': '``', 'adversary': ',', 'CHOKING': 'the', 'criticized': ',', 'lags': 'even', 'resignation': 'the', 'teasing': '!', 'horribly.': \"''\", 'nosey': 'wearing', 'imposing': \"'s\", 'defects': 'disorders', 'depressingly': 'his', 'unprofessional': 'not', 'Annoying': 'how', 'Disappointing': 'unpleasant', 'pissant': 'meaningless', 'stammered': 'said', 'betraying': 'I', 'Damn-': 'hell', 'enslave': 'to', 'envied': 'anyone', 'degradation': 'degradation', 'whoreson': 'who', 'WHORE': \"''\", 'shamelessness': 'efforts', 'neglect': 'negligence', 'zealot': 'our', 'masochistic': 'masochistic', 'expOSe': 'to', 'MiSS': 'the', 'resigned': 'her', 'decayed': 'spread', 'intimidate': ',', 'numbs': ',', 'confrontation': 'occurred', 'stinkiest': 'of', 'foolish-': '-', 'nastier': 'more', 'lonesome': '.', 'Trap': 'push', 'confrontations': 'Like', 'stampede': 'stampede', 'jumpy': 'it', 'Criminals': 'the', 'impatiently': 'impatiently', 'distractions': 'even', 'Choking': 'it', 'damnably': 'she', 'stupid.': 'stupid', 'STUTTERING': ',', 'shittiest': \"'s\", 'Punisher': '!', 'bummer': '!', 'ineffectual': 'her', 'Smartass': 'mouth', 'freeloader': 'thing', \"'Cut\": '``', 'liability': 'breaking', 'Mistakes': 'his', 'rapes': 'rapes', 'flunkies': 'to', 'Fascists': 'are', 'supremacists': ',', 'rebellious': 'rebellious', 'disorganized': 'bad', 'apathetic': 'fools', 'expelling': 'Order', 'crushes': '.', 'looming': 'over', 'Smear': 'how', 'Hiding': 'I', 'remorseless': 'obstinate', 'Doomed': 'Office', 'stereotype': 'when', 'STUPID': 'have', 'flirted': 'with', 'disputed': 'claimed', 'Terrorizing': 'abused', 'Uncontrollable': 'uncontrollable', 'Blamed': 'I', 'uncontrollable': 'of', 'dumbness': \"'s\", 'rant': 'he', 'provoked': 'provoked', 'timid': 'flour', 'inflamed': 'reddened', 'Cautious': 'policemen', 'Heroin': 'heroin', 'Abducted': 'maybe', '-Shit': 'A629', 'Raping': 'rape', 'boredom': ',', 'isolation': 'solitude', 'Hacked': 'stabbed', 'humorless': 'laugh', 'Weapons': 'drop', 'profiteering': 'greed', 'ridicule': 'hate', 'sluts-': 'dreams', 'SHAKE': 'shake', 'warmonger': '!', 'snobs': 'but', 'disgustingly': 'sentimental', 'distraught': 'ten', 'Giddy': 'the', 'peril': 'but', 'Destruction': 'destruction', 'lurk': 'are', 'Cowardly': 'the', 'Scarecrow': '.', 'savaged': 'shooting', 'neglecting': 'neglecting', 'disgusts': 'by', 'dearth': 'without', 'shitake': 'be', 'scarecrows': 'scarecrows', 'Hellish': 'hellish', 'critic': 'critique', 'Bankrupt': 'bankruptcy', 'Threaten': 'threaten', 'Unhappy': 'a', 'pollutes': 'world', 'Sucker': 'did', 'offences': 'life', 'Crushes': 'he', 'amorphous': 'the', \"'Unfortunately\": \"'unfortunately\", 'Yucky': 'rouse', 'Steal': 'done', 'Embarrass': 'once', 'Stinking': 'she', 'axed': 'have', 'Leaked': 'he', 'Cruelly': 'stealing', 'contagion': 'disease', 'misunderstood': 'to', 'grating': 'middle', 'harasser': ',', 'tortures': 'tortures', 'Negative': 'negative', 'offenders': 'in', '187': '♪', 'confusions': 'the', 'Pissant': 'army', 'strained': 'nearly', 'disputes': 'absurd', 'questioning': 'and', 'crudely': 'armful', 'terrors': 'just', 'Haunting': 'and', 'nastily': '.', 'TROUBLE': 'for', \"'Threats\": '``', \"'kill\": 'kill', 'KILLING': 'THE', 'horrify': \"'re\", 'Graveyard': 'bluebird', 'interruption': '.', 'BASTARD': '``', 'gloom': 'the', 'KILL': 'ABOUT', 'Complained': 'she', 'Shitheads': 'the', 'hides': ',', 'warring': 'that', 'dwells': 'animal', 'wickedness.': '.', 'lamest': 'worst', 'tranquilized': '.', 'Ruin': 'you', 'Missed': 'I', 'raged': 'Thor', 'glum': '``', 'Neurotic': '......', 'Doubt': 'I', '-Kill': ',', 'coerced': 'made', 'contradicting': '?', 'Lowest': 'the', 'grimaces': 'grinning', 'PRISONER': 'full', 'jeopardy': 'my', 'bias': 'distortion', 'Odd': 'it', 'DESTRUCTIVE': 'devastating', 'MISERABLE': 'by', 'strugglers': 'bring', 'strains': 'these', 'pitied': 'had', 'Incapable': 'of', 'Obnoxious': 'excruciating', 'smother': 'fire', 'ominous': 'thoughts', 'catastrophe': 'history', 'unfocused': 'divorced', 'cock.': 'love', 'Shameless': 'shameless', 'Beaten': 'strangled', 'Conspiracy': 'conspiracy', 'defiant': 'until', 'Sick-': 'bad', 'misbehave': 'to', 'DEVIL': 'him', 'disregard': 'do', 'Drag': 'I', 'chilling': 'game', 'heartbreaking': 'huh', 'disqualified': 'disqualified', 'Exasperated': '``', 'whore-': 'whorehouse', 'Mocking': 'to', 'Smother': 'he', 'terrify': 'scaring', 'lamentation': 'ranchers', \"'Slam\": '``', 'unemployment': 'to', 'Abuse': 'use', 'isolate': 'him', 'agonized': '.', 'stalled': 'black', 'dumbed': 'really', 'rants': 'life', 'catastrophic': 'of', \"'sucks\": 'nothing', 'blam': 'pops', 'Sin': 'such', \"'Dead\": '.', 'grievous': 'blow', 'Cock': 'to', 'Molesting': 'Harassment', \"'Goddamn\": \"'bloody\", 'collision': 'an', 'fuck-': 'like', 'SuckS': 'does', 'offenses': 'tastes', 'Shook': 'it', 'Deceitful': 'insidious', 'Pity': 'poor', 'Dumpster': 'on', 'geek-': 'at', 'unsupported': 'measure', 'felony': 'blowing', 'humiliates': 'gon', 'weepy': 'are', 'lamented': 'drow', 'Burdened': 'with', 'weaken': 'a', 'VIOLENCE': 'violence', 'Cruel': 'there', 'doubting': 'infidel', 'opportunistic': '.', 'lowliest': 'the', 'indignation': 'indignation', 'defeating': 'we', 'Vultures': ',', 'robed': 'felons', 'pressuring': 'on', 'frustrates': 'into', 'Penalty': 'a', 'Ignoring': 'when', 'Drowned': 'he', 'fakes': 'IDs', 'Choke': 'he', 'motherfucker-': 'when', 'Cried': 'you', 'Perversion': 'Gay', 'arguable': 'proven', 'dizzy': \"'cause\", 'confusingly': 'my', 'suckered': 'me', 'criticizes': \"'s\", 'terrorizing': 'to', 'disappoint': ',', 'Agonizing': '.', 'woes': 'capital', 'pesky': 'troublemakers', 'miseries': 'suffering', 'Punishable': ',', 'dud': 'bed', 'bastardy': 'to', 'perjury': 'pruning', 'quaking': 'voice', 'irritant': 'him', 'dwellers': 'were', '.ass': ',', 'Goddam': ',', 'Despiser': 'dejected', '182': 'hated', 'wronged': 'he', 'Gossip': 'me', 'damned.': 'get', 'inferiority': 'inferiority', 'craZy': 'craziness', 'Abused': 'he', 'inconvenient': 'they', 'abandonment': 'pantry', 'antagonizing': '?', 'brutalised': 'an', 'aching': 'a', 'pitiable': '.', 'arrogantly': ',', 'Frowning': 'he', 'appall': 'and', 'Blames': 'he', 'Jumpy': 'terrified', 'Startled': 'Paithan', 'Bitching': 'swearing', 'DENIED': 'denied', 'repressive': 'of', 'Scumbag': 'pariah', 'rejects': 'will', 'deprivation': 'tank', 'confronts': 'stood', 'Pitifully': 'a', 'GRAVES': 'graves', 'NERVOUS': 'him', 'shamelessly': '.', 'Lies': 'Lies.', 'longing': 'for', 'irritation': 'little', 'Ranters': 'the', 'irrationality': 'the', 'talentless': ',', 'scapegoat': 'a', 'pityingly': 'his', 'repetitive': 'chasing', 'clouded': 'Ishta', 'Stealing': 'in', 'Jerks': 'that', 'lowball': 'trying', 'helplessness': 'helplessness', 'mischief': 'make', 'agitator': 'the', 'Jealous': ',', 'Screwing': 'with', 'fuckface': 'you', 'ached': 'writhed', 'obsessions': 'absurd', 'WTF': 'why', 'Wimps': 'poor', 'abducted': 'by', 'scapegoats': 'US', 'DESTROY': 'who', 'abandoner': '.', 'dumbing': 'out', 'anguished': 'self-esteem', 'Devastation': 'your', 'CRAP': 'the', 'menaced': 'threatening', 'hardship': 'accidents', \"'dead\": 'a', 'homesick': 'such', 'Troubles': 'trouble', 'shitheads.': 'two', 'Dumbfounded': 'he', 'Troubled': 'troubled', 'spam': '.', 'weirder': 'is', 'murderous.': 'mistakes', 'DEPRIVATION': 'for', 'MURDER': 'murder', 'destructive': 'inconsistent', 'irritate': 'savior', 'alarming': ',', 'deprive': '.', \"'Dangerous\": 'eat', \"'Broke\": '``', 'offends': 'anyone', 'Impatience': 'impatience', 'Grievers': '``', 'Mess': 'your', 'Sadly': 'sadly', 'downside': 'of', 'bastardized': 'evil', 'Depressives': 'antidepressants', 'exclusion': 'what', 'Envious': 'jealous', 'Betray': 'betray', 'Craziest': 'the', 'lagging': 'who', 'Careless': 'it', 'tremble': 'shake', 'anxieties': 'in', 'Prisoner': 'prisoners', 'skepticism': 'at', 'prOblem': 'do', 'STAMMERING': 'do', 'collapses': 'the', 'Whoresons': 'do', 'assaulting': 'crimes', 'Depression': 'world', 'paranoids': 'paranoia', 'Disgusted': 'the', 'Tenderfeet': '?', 'Freaky': 'scary', 'Apologizing': 'sorry', 'irritates': 'get', 'grossed': 'I', 'critics': 'babble', 'unfulfilled': 'unfulfilled', 'funeral-': 'aberration', 'worrY': 'about', 'Severe': 'a', 'Madder': 'and', 'LAMELLA': 'PARABOLIC', 'Rig': ',', 'depress': 'him', 'Cheater': 'kiss', 'unmatched': 'incomparable', 'Vile': 'a', 'deceiving': 'confusing', 'Grief': 'sex', 'restriction': 'silly', 'riskiest': 'risky', 'droopy': 'huntsman', 'disguising': 'as', 'anguish': 'at', 'bloCk': 'walk', 'crudest': 'is', 'dismayed': 'feared', 'disagrees': \"n't\", 'freakier': '.', \"'Stupid\": \"'Pitch\", 'TEASINGLY': '.', 'Lowered': 'may', 'Refusing': 'refusing', 'angrY': 'or', 'Punishment': 'Death', 'faulting': 'carpet', 'AWOL': 'leaving', \"'Nah\": '``', 'nah': 'no', 'poorest': 'the', 'irritatingly': 'provocative', 'SCARY': 'white', 'Disguise': 'change', 'overwhelm': 'poor', \"'witch\": 'far', 'Suspicion': 'suspicion', 'feud': 'dispute', 'obstinate': 'hardened', 'derision': 'roll', 'pitiless': 'of', 'SINISTER': 'Sinister', 'violate': 'universe', 'wowser': '.', 'Niggas': 'people', 'Sluts.': 'wrote', 'irresolute': 'Americans', 'petrify': 'and', 'disguises': 'husks', 'faulted': 'blamed', 'failed-': '...', 'COCK': 'I', 'tantrums': 'are', 'rages': 'your', 'Abusive': 'bad', 'complains': 'husband', 'exclude': 'kids', 'depressor': 'throat', 'affected': \"'s\", 'misleading': 'only', 'Depressed': 'depressed', 'Fighters': 'the', 'Twat': 'Twat', 'Cynical': 'he', 'moronically': 'friendship', 'Upset': ',', 'Strange': 'he', 'grimacing': 'grinning', 'Painful': 'very', 'strainer': 'the', 'disruption': 'distortion', 'stupidly.': ',', 'aches': ',', 'dick-': 'yellow', \"'BLOODY\": '``', 'felonies': 'crimes', 'Robs': 'they', 'horrifically': 'way', 'Dread': 'the', 'flunkey': 'cops', 'mia': 'me', 'excruciatingly': 'so', 'Fucktard': 'frigate', 'Fought': 'you', '-Damn': 'called', 'exaggerated': 'or', 'failures': 'failure', 'coward-': 'like', 'ruinous': 'interest', 'unappreciated': 'and', 'foolishly': 'with', 'Confuse': 'we', 'abhorrent': 'God', 'Griever': 'through', 'fatigue': 'mental', 'grimed': 'the', '-Liar': 'know', 'upsets': 'upsets', 'hesitating': 'the', 'pique': 'injury', 'hesitation': 'reached', 'duped': 'false', 'Shitting': 'when', 'Cancel': 'on', 'Illegal': 'illegal', 'emptying': 'drying', 'Amazons': 'the', 'Isolation': 'isolation', 'Threatened': 'you', 'hell.': 'from', 'scarer': ',', 'dreaded': 'feared', 'struggles': 'try', 'rebelled': 'rebelled', \"'suspected\": 'was', 'foetal': 'productive', 'obsessive': '.', 'Rebel': 'man', 'racist.': '.', 'NO': 'NO', \"'Motherfucker\": '``', 'Broken': 'if', 'Obsession': 'White', 'Weakest': 'weak', 'Sinister': 'Sinister', 'Stops': 'to', \"'BASTARDS\": \"'Bugs\", 'Stopped': 'the', 'Revenge': 'revenge', 'Helpless': 'helpless', \"'bad\": ',', \"'shameful\": 'opinions', 'Dumped': 'you', 'weirdly': \"'s\", 'regretful': 'you', 'offending': 'anyone', 'Hated': 'The', 'swindle': 'deceive', 'FOOL': '.', 'forbidding': 'to', 'Tremble': ',', 'annoyance': 'annoyance', 'whined': ',', 'detain': 'be', 'ass-': ',', 'damn-': 'who', 'disagreeing': 'that', 'bittersweet': 'sweet', 'flees': ',', 'Victims': 'Special', 'friendless': ',', 'Felony': 'rhetoric', 'crazY': 'soul', 'angrier': 'you', 'imposed': 'one', 'possessive': ',', 'prosecuted': 'punished', 'Reckless': 'unscrupulous', 'whiners': ',', 'haunts': ',', 'Chaotic': 'in', '-Chaotic': '...', 'funneling': 'selling', 'Racist': 'racist', 'outrageously': 'unkempt', 'shit.': 'this', 'flop': '.', 'undermine': 'undermine', 'Misunderstood': 'Amsterdam', 'BLOODY': 'breathing', 'Cocky': ',', 'Worry': 'take', 'mournful': 'mournful', 'passively': 'stood', 'Stupids': 'this', 'Manipulated': 'that', 'melancholic': 'lady', 'Dick.': '.', 'agonised': 'that', 'BLOCKS': 'IN', 'weakens': 'she', 'reluctantly': 'and', 'Enrage': 'angering', 'Thieves': 'Raiders', 'freezes': 'keep', 'whines': \"'s\", 'dreary': 'boring', 'Freezing': 'it', 'ugh': 'something', '-Disgusting': 'him', 'repress': 'suppress', 'obstacles': 'she', 'overreacted': 'parents', 'ennui': 'you', 'discord': 'it', 'discontented': 'woman', 'irreversible': 'come', 'trembled': '.', 'sWear': 'swear', 'timidly': ',', 'resented': 'that', 'recession': '.', 'dreadnought': 'and', 'Lunatic': 'matron', 'death-': 'the', 'hurtful': 'painful', 'Rigged': 'she', 'Weep': 'cry', 'prickly': ',', 'hellish': ',', 'destruct': 'going', 'Puking': 'up', 'controversial': 'comments', 'Humiliated': 'I', 'lowlifes': 'just', 'Arrested': 'arrested', 'Lowering': 'to', 'Punish': 'of', 'foreclosure': 'the', 'teased': 'released', 'ill.': 'he', 'Dreadful': 'bad', \"'devil\": 'mean', 'Rejected': 'they', 'impatience': 'that', 'vulnerability': 'bludgeoned', 'Interrupting': 'interrupting', 'unclear': 'unclear', 'disparage': 'and', 'misunderstand': 'hurt', 'Grimace': 'Grimace', 'uncertainty': 'uncertainty', 'Enemies': 'enemies', 'victimize': 'and', 'avoids': \"'s\", 'aggressors': 'from', 'bitchiness': 'enough', 'bitch.': 'bad', 'pretends': 'pretends', 'warns': ',', 'Angrily': 'Grera', 'Forbidden': 'wonder', 'SOrry': 'you', 'sorrowful': 'spirit', 'sadder': 'Judah', 'ignoramus': '.', 'Expose': 'it', 'victimizing': 'degrading', \"'Killed\": \"'you\", 'regrets': 'aback', 'lowlander': 'dreamer', 'unsuccessful': \"n't\", 'exploiting': 'exploitation', 'Guilt': 'guilt', 'dire': 'necessarily', 'Disappear': 'disappear', 'suck.': '.', 'STAMMERS': 'thought', 'burdened': 'girl', 'bitchier': 'more', 'disagreeable': '.', 'complacent': ',', 'Loom': 'of', 'criticism': '.', 'insensitivity': 'races', 'strikers': 'strike', 'Slam': 'put', 'collapsing': '...', '-dead': 'converging', 'sluttiest': 'sexiest', 'Suspended': '...', 'exploited': 'took', 'uncertain': 'to', 'sick-': 'have', \"'Pathetic\": \"'Interesting\", 'Threat': 'Southern', 'zealots': 'religious', 'Harass': 'do', 'Inquisition': 'Mexico', 'mumpish': 'snippets', 'disabling': 'hurt', 'antagonist': 'got', 'unsettled': \"'ll\", 'faults': 'of', 'nastiness': '!', 'perplexed': 'this', 'startlingly': 'propeller', 'assassinations': 'in', 'repulsed': ',', 'stifled': 'muffled', 'hopelessness': 'which', 'MORONS': 'or', 'confuses': 'him', 'Distress': 'in', 'Bitter': 'bitter', 'Retard': 'retarded', \"'slut\": '``', 'bailout': 'grumbling', 'sickeningly': 'into', 'maniacally': 'an', 'Banish': 'sweep', 'pessimist': 'pessimist', 'Tricks': ',', 'sentencing': 'life', 'Ruined': 'she', 'GHOST': 'Ghost', 'lowland': 'of', 'Hostiles': 'we', 'argumentative': 'dangerous', \"'Condemned\": '``', 'miserable.': \"''\", 'Difficult': 'with', 'Emptying': 'emptying', 'Rage': 'died', 'Lethargic': 'indifferent', \"'shit\": 'of', '.aghast': 'am', 'excruciating': 'victim', \"'Stop\": '``', 'HORRID': ',', 'Chilling': 'he', 'freakiness': 'amorous', \"'Lone\": '``', 'Smugglers': 'smugglers', 'whorehouse-': 'fancy', 'Hid': 'he', 'somber': 'dark', 'bullShit': 'nonsense', 'Alarms': 'the', 'distracting': 'us', \"'Strangled\": '``', 'Abandoned': 'abandoned', 'Tragic': 'Too', 'warships': 'by', 'savagery': '.', 'offensively': 'sexist', 'agitated': 'agitated', 'fool-': 'Sturm', 'abhorred': 'the', 'prejudices': ',', 'heartbreak': 'deep', 'paranoiacs': 'who', 'weirds': 'me', 'dissatisfied': 'unhappy', 'discouraging': 'frequently', 'crap-': 'us', 'Deny': 'play', 'battlefields': 'of', 'luckless': ',', 'droWned': 'drowned', 'TERRIBLE': 'the', 'ruiner': 'destroyer', 'grosses': 'loathe', 'shyness': ',', 'Hunger': 'the', 'Gag': 'and', 'nagging': 'caring', 'Grimly': 'Sparhawk', 'scandals': 'only', 'dumbfounding': 'stunning', 'no-': '.', 'STUTTERS': 'I', 'overwhelms': \"'s\", 'Hell-': 'he', 'Nastier': 'uglier', 'lazier': 'bigger', 'Liar.': 'I', 'Torturing': 'innocent', 'Embarrassing': 'you', 'undermined': 'European', 'Manipulating': 'the', 'Severed': 'members', \"'Worthless\": '``', 'Slash': 'and', 'resenting': 'will', 'lethargy': '.', 'Gloomy': 'psychological', 'tout': \"'s\", 'oxymoron': 'of', 'Violently': 'by', 'jaded': \"n't\", 'Suffering': 'suffering', '-Bastard': '``', 'hostiles': 'the', 'Haters': 'Hejthree', 'heartbroken': 'bring', \"'Killer\": '``', 'raper': 'loader', 'doa': 'do', 'dumper': ',', 'crazily': 'and', 'Slavery.': 'bondage.', 'FURY': 'of', 'poisoner': 'trawl', 'Pitiless': 'of', 'Intimidation': 'the', 'monopolize': 'content', 'FUCKHEAD': ',', 'restlessly': 'long', 'Whorehouses': 'the', 'Excruciating': 'it', 'lowlanders': 'the', 'OFFLINE': 'now', 'problematic': 'as', 'Warsaw': 'Warsaw', 'Tranquilizers': 'and', 'greediest': ',', 'Selfish': 'second', 'funnelled': 'him', \"'suck\": 'the', 'Punishing': 'I', 'pricked': 'the', 'Funeral': 'up', '-Killed': '.', 'pissers': 'if', 'grouch': 'luck', \"'Stab\": \"'stab\", 'Incompetent.': 'unfit', 'Wimpy': 'to', 'stupids': 'in', 'woe': 'betide', 'Pain': 'pain', 'Lied': 'you', 'Dumpsters': 'of', 'fatigues': 'ants', 'pathetic.': ',', 'freezers': 'equipment', 'awol': 'night', 'Warn': 'tell', 'Needy': 'Lenny', 'carelessly': 'really', \"'scandal\": '``', 'trickling': 'ran', 'Son-of-a-bitch': 'it', 'straining': 'her', 'delayed': 'delayed', 'Pathetically': 'woefully', 'Graves': 'Graves', 'skeptic': 'skepticism', 'lethargic': 'all', 'frowning': 'in', 'unsure': 'in', 'horridly': 'comic', 'FOOLS': \"'He\", 'Insensitive': 'insensitive', 'bad-': 'badass', 'fearfully': 'fearfully', 'distressful': 'full', 'Firing': 'for', 'hesitant': 'was', 'Trick': 'for', 'Accidentally': 'inadvertently', 'Decay': 'your', 'weakening': 'weakening', 'Disturbing': 'are', \"'Die\": \"'die\", 'PO': 'probation', 'feared-': 'was', 'exhaustive': 'to', 'depriving': 'best', 'WARNING': 'warning', 'Sneaky': 'you', 'Disappeared': 'it', 'adversely': 'insidedness', 'humiliatingly': 'that', 'Deceit': 'deception', 'screwing-': 'spoiling', 'harried': 'kind', 'charmless': 'magic', 'whoresons': 'And', 'shyster': 'you', 'Riots': 'there', 'outrages': 'Kyle', 'Rebellions': 'killing', 'interruptions': 'times', 'Molested': 'he', 'brutalities': 'ears', 'regretfully': ',', 'Failures': 'failures', 'phobics': 'is', 'Mockers': 'kill', 'worrywart': '.', 'poisoners': 'everything', 'dumbwaiters': ',', 'hooliganism': 'idle', 'Frustration': 'disappointment', \"'FUCK\": 'his', 'egotist': 'are', 'chastised': 'admonished', '-Broken': ',', 'threateningly': 'menacing', 'rigorous': 'a', 'Annoyed': 'upset', 'Nag': ',', 'craze': 'vampire', 'Nervous': 'nervous', 'Devastator': 'Devastatore', 'grouched': 'growled', 'sceptical': 'would', 'Indifferent': 'indifferent', \"'Fucker\": '``', 'disagreed': 'those', 'Failing': 'when', 'Furious': 'Eddie', 'Disaster': 'a', 'Blocked': 'he', 'retarded.': 'mentally', 'discredited': 'Sin-chua', 'Nerves': 'nerves', 'inhibitions': 'azi', 'Sore': 'boo', 'Freaked': 'he', 'Insecure': ',', 'Sobbing': 'mercy', 'Violate': 'he', 'Lone': 'gunman'}\n"
     ]
    }
   ],
   "source": [
    "# Создайте DataFrame (замените 'data' на ваш фактический DataFrame)\n",
    "fitrered_df=pd.read_csv(\"../data/interm/preprocessed_filtered.csv\")\n",
    "\n",
    "# Вызовите функцию и получите словарь замен\n",
    "replacements = find_replacements(fitrered_df)\n",
    "\n",
    "# Выведите словарь\n",
    "print(replacements)\n"
   ],
   "metadata": {
    "collapsed": false,
    "ExecuteTime": {
     "end_time": "2023-10-22T14:34:07.166299900Z",
     "start_time": "2023-10-22T14:32:10.223923100Z"
    }
   },
   "id": "d7588283bd974dd7"
  },
  {
   "cell_type": "code",
   "execution_count": 32,
   "outputs": [],
   "source": [
    "test_df = pd.read_csv(\"../data/interm/test.csv\")"
   ],
   "metadata": {
    "collapsed": false,
    "ExecuteTime": {
     "end_time": "2023-10-22T14:37:21.190134900Z",
     "start_time": "2023-10-22T14:37:21.153657700Z"
    }
   },
   "id": "794e9ce25a96434"
  },
  {
   "cell_type": "code",
   "execution_count": 33,
   "outputs": [],
   "source": [
    "for original, replacement in replacements.items():\n",
    "    test_df['translate'] = test_df['reference'].str.replace(original, replacement)"
   ],
   "metadata": {
    "collapsed": false,
    "ExecuteTime": {
     "end_time": "2023-10-22T14:37:39.167861900Z",
     "start_time": "2023-10-22T14:37:34.580959Z"
    }
   },
   "id": "4780a062ebe7cab6"
  },
  {
   "cell_type": "code",
   "execution_count": 37,
   "outputs": [],
   "source": [
    "test_df['translate'] = test_df['reference']\n",
    "\n",
    "# Проходим по словарю замен и заменяем соответствующие слова в столбце \"translate\"\n",
    "for original, replacement in replacements.items():\n",
    "    test_df['translate'] = test_df['translate'].str.replace(original, replacement)"
   ],
   "metadata": {
    "collapsed": false,
    "ExecuteTime": {
     "end_time": "2023-10-22T14:40:52.919739400Z",
     "start_time": "2023-10-22T14:40:47.592702300Z"
    }
   },
   "id": "e510e9696c914782"
  },
  {
   "cell_type": "code",
   "execution_count": 38,
   "outputs": [
    {
     "data": {
      "text/plain": "                                           reference   ref_tox  \\\n0  They're all laughing at us, so we'll kick your...  0.999492   \n1               Come on, Cal, leave that shit alone.  0.999637   \n2                                  I like that shit.  0.999594   \n3  How is this not porn? This is porn that comes ...  0.933948   \n4  Now, I understand you got your grievances with...  0.999603   \n\n                                           translate  \n0  They're all lasomethinging at us, so we'll kic...  \n1                      Come on, Cal, your that . of.  \n2                                     I like that ..  \n3  How is this havet porn? This is porn that come...  \n4  .w, I understand you got your ands with these ...  ",
      "text/html": "<div>\n<style scoped>\n    .dataframe tbody tr th:only-of-type {\n        vertical-align: middle;\n    }\n\n    .dataframe tbody tr th {\n        vertical-align: top;\n    }\n\n    .dataframe thead th {\n        text-align: right;\n    }\n</style>\n<table border=\"1\" class=\"dataframe\">\n  <thead>\n    <tr style=\"text-align: right;\">\n      <th></th>\n      <th>reference</th>\n      <th>ref_tox</th>\n      <th>translate</th>\n    </tr>\n  </thead>\n  <tbody>\n    <tr>\n      <th>0</th>\n      <td>They're all laughing at us, so we'll kick your...</td>\n      <td>0.999492</td>\n      <td>They're all lasomethinging at us, so we'll kic...</td>\n    </tr>\n    <tr>\n      <th>1</th>\n      <td>Come on, Cal, leave that shit alone.</td>\n      <td>0.999637</td>\n      <td>Come on, Cal, your that . of.</td>\n    </tr>\n    <tr>\n      <th>2</th>\n      <td>I like that shit.</td>\n      <td>0.999594</td>\n      <td>I like that ..</td>\n    </tr>\n    <tr>\n      <th>3</th>\n      <td>How is this not porn? This is porn that comes ...</td>\n      <td>0.933948</td>\n      <td>How is this havet porn? This is porn that come...</td>\n    </tr>\n    <tr>\n      <th>4</th>\n      <td>Now, I understand you got your grievances with...</td>\n      <td>0.999603</td>\n      <td>.w, I understand you got your ands with these ...</td>\n    </tr>\n  </tbody>\n</table>\n</div>"
     },
     "execution_count": 38,
     "metadata": {},
     "output_type": "execute_result"
    }
   ],
   "source": [
    "test_df.head()"
   ],
   "metadata": {
    "collapsed": false,
    "ExecuteTime": {
     "end_time": "2023-10-22T14:41:12.072650700Z",
     "start_time": "2023-10-22T14:41:12.017415900Z"
    }
   },
   "id": "ae63676f080df85"
  },
  {
   "cell_type": "code",
   "execution_count": 111,
   "outputs": [],
   "source": [
    "from nltk.stem import PorterStemmer\n",
    "from nltk.corpus import stopwords\n",
    "from nltk.tokenize import word_tokenize\n",
    "stemmer = PorterStemmer()\n",
    "\n",
    "def preprocess_text(text):\n",
    "    text = text.lower()\n",
    "    tokens = word_tokenize(text)\n",
    "    tokens = [word for word in tokens if word not in stopwords.words(\"english\")]\n",
    "    tokens = [stemmer.stem(word) for word in tokens]\n",
    "    return \" \".join(tokens)"
   ],
   "metadata": {
    "collapsed": false,
    "ExecuteTime": {
     "end_time": "2023-10-22T15:40:49.524269600Z",
     "start_time": "2023-10-22T15:40:49.496592200Z"
    }
   },
   "id": "27ae8fa730a0ae85"
  },
  {
   "cell_type": "code",
   "execution_count": 112,
   "outputs": [],
   "source": [
    "from sklearn.feature_extraction.text import TfidfVectorizer\n",
    "\n",
    "tfidf_vectorizer = TfidfVectorizer(max_features=5000, stop_words='english')\n"
   ],
   "metadata": {
    "collapsed": false,
    "ExecuteTime": {
     "end_time": "2023-10-22T15:40:51.845898Z",
     "start_time": "2023-10-22T15:40:51.818367500Z"
    }
   },
   "id": "7a9e2501474f9338"
  },
  {
   "cell_type": "code",
   "execution_count": 113,
   "outputs": [],
   "source": [
    "from tensorflow.keras.models import load_model\n",
    "\n",
    "\n",
    "model = load_model('model.h5')"
   ],
   "metadata": {
    "collapsed": false,
    "ExecuteTime": {
     "end_time": "2023-10-22T15:40:54.251164200Z",
     "start_time": "2023-10-22T15:40:54.125613600Z"
    }
   },
   "id": "5f7ff54adf055f59"
  },
  {
   "cell_type": "code",
   "execution_count": 114,
   "outputs": [
    {
     "ename": "NotFittedError",
     "evalue": "The TF-IDF vectorizer is not fitted",
     "output_type": "error",
     "traceback": [
      "\u001B[1;31m---------------------------------------------------------------------------\u001B[0m",
      "\u001B[1;31mNotFittedError\u001B[0m                            Traceback (most recent call last)",
      "Cell \u001B[1;32mIn[114], line 3\u001B[0m\n\u001B[0;32m      1\u001B[0m X_test \u001B[38;5;241m=\u001B[39m test_df[\u001B[38;5;124m'\u001B[39m\u001B[38;5;124mtranslate\u001B[39m\u001B[38;5;124m'\u001B[39m]\n\u001B[0;32m      2\u001B[0m X_test_preprocessed \u001B[38;5;241m=\u001B[39m [preprocess_text(text) \u001B[38;5;28;01mfor\u001B[39;00m text \u001B[38;5;129;01min\u001B[39;00m X_test]\n\u001B[1;32m----> 3\u001B[0m X_test_tfidf \u001B[38;5;241m=\u001B[39m \u001B[43mtfidf_vectorizer\u001B[49m\u001B[38;5;241;43m.\u001B[39;49m\u001B[43mtransform\u001B[49m\u001B[43m(\u001B[49m\u001B[43mX_test_preprocessed\u001B[49m\u001B[43m)\u001B[49m\n",
      "File \u001B[1;32m~\\AppData\\Local\\Programs\\Python\\Python39\\lib\\site-packages\\sklearn\\feature_extraction\\text.py:2161\u001B[0m, in \u001B[0;36mTfidfVectorizer.transform\u001B[1;34m(self, raw_documents)\u001B[0m\n\u001B[0;32m   2145\u001B[0m \u001B[38;5;28;01mdef\u001B[39;00m \u001B[38;5;21mtransform\u001B[39m(\u001B[38;5;28mself\u001B[39m, raw_documents):\n\u001B[0;32m   2146\u001B[0m \u001B[38;5;250m    \u001B[39m\u001B[38;5;124;03m\"\"\"Transform documents to document-term matrix.\u001B[39;00m\n\u001B[0;32m   2147\u001B[0m \n\u001B[0;32m   2148\u001B[0m \u001B[38;5;124;03m    Uses the vocabulary and document frequencies (df) learned by fit (or\u001B[39;00m\n\u001B[1;32m   (...)\u001B[0m\n\u001B[0;32m   2159\u001B[0m \u001B[38;5;124;03m        Tf-idf-weighted document-term matrix.\u001B[39;00m\n\u001B[0;32m   2160\u001B[0m \u001B[38;5;124;03m    \"\"\"\u001B[39;00m\n\u001B[1;32m-> 2161\u001B[0m     \u001B[43mcheck_is_fitted\u001B[49m\u001B[43m(\u001B[49m\u001B[38;5;28;43mself\u001B[39;49m\u001B[43m,\u001B[49m\u001B[43m \u001B[49m\u001B[43mmsg\u001B[49m\u001B[38;5;241;43m=\u001B[39;49m\u001B[38;5;124;43m\"\u001B[39;49m\u001B[38;5;124;43mThe TF-IDF vectorizer is not fitted\u001B[39;49m\u001B[38;5;124;43m\"\u001B[39;49m\u001B[43m)\u001B[49m\n\u001B[0;32m   2163\u001B[0m     X \u001B[38;5;241m=\u001B[39m \u001B[38;5;28msuper\u001B[39m()\u001B[38;5;241m.\u001B[39mtransform(raw_documents)\n\u001B[0;32m   2164\u001B[0m     \u001B[38;5;28;01mreturn\u001B[39;00m \u001B[38;5;28mself\u001B[39m\u001B[38;5;241m.\u001B[39m_tfidf\u001B[38;5;241m.\u001B[39mtransform(X, copy\u001B[38;5;241m=\u001B[39m\u001B[38;5;28;01mFalse\u001B[39;00m)\n",
      "File \u001B[1;32m~\\AppData\\Local\\Programs\\Python\\Python39\\lib\\site-packages\\sklearn\\utils\\validation.py:1461\u001B[0m, in \u001B[0;36mcheck_is_fitted\u001B[1;34m(estimator, attributes, msg, all_or_any)\u001B[0m\n\u001B[0;32m   1458\u001B[0m     \u001B[38;5;28;01mraise\u001B[39;00m \u001B[38;5;167;01mTypeError\u001B[39;00m(\u001B[38;5;124m\"\u001B[39m\u001B[38;5;132;01m%s\u001B[39;00m\u001B[38;5;124m is not an estimator instance.\u001B[39m\u001B[38;5;124m\"\u001B[39m \u001B[38;5;241m%\u001B[39m (estimator))\n\u001B[0;32m   1460\u001B[0m \u001B[38;5;28;01mif\u001B[39;00m \u001B[38;5;129;01mnot\u001B[39;00m _is_fitted(estimator, attributes, all_or_any):\n\u001B[1;32m-> 1461\u001B[0m     \u001B[38;5;28;01mraise\u001B[39;00m NotFittedError(msg \u001B[38;5;241m%\u001B[39m {\u001B[38;5;124m\"\u001B[39m\u001B[38;5;124mname\u001B[39m\u001B[38;5;124m\"\u001B[39m: \u001B[38;5;28mtype\u001B[39m(estimator)\u001B[38;5;241m.\u001B[39m\u001B[38;5;18m__name__\u001B[39m})\n",
      "\u001B[1;31mNotFittedError\u001B[0m: The TF-IDF vectorizer is not fitted"
     ]
    }
   ],
   "source": [
    "X_test = test_df['translate']\n",
    "X_test_preprocessed = [preprocess_text(text) for text in X_test]\n",
    "X_test_tfidf = tfidf_vectorizer.transform(X_test_preprocessed)"
   ],
   "metadata": {
    "collapsed": false,
    "ExecuteTime": {
     "end_time": "2023-10-22T15:41:23.463452800Z",
     "start_time": "2023-10-22T15:40:56.177947600Z"
    }
   },
   "id": "83591664e0a0eaf7"
  },
  {
   "cell_type": "code",
   "execution_count": 115,
   "outputs": [
    {
     "name": "stdout",
     "output_type": "stream",
     "text": [
      "157/157 [==============================] - 0s 2ms/step\n"
     ]
    }
   ],
   "source": [
    "y_pred = model.predict(X_test_tfidf.toarray())"
   ],
   "metadata": {
    "collapsed": false,
    "ExecuteTime": {
     "end_time": "2023-10-22T15:42:24.225555400Z",
     "start_time": "2023-10-22T15:42:23.471887300Z"
    }
   },
   "id": "2f4cb96171675e02"
  },
  {
   "cell_type": "code",
   "execution_count": 116,
   "outputs": [
    {
     "data": {
      "text/plain": "array([[0.9356336 ],\n       [0.9890278 ],\n       [0.2268527 ],\n       ...,\n       [0.11515912],\n       [0.8779996 ],\n       [0.02924436]], dtype=float32)"
     },
     "execution_count": 116,
     "metadata": {},
     "output_type": "execute_result"
    }
   ],
   "source": [
    "y_pred"
   ],
   "metadata": {
    "collapsed": false,
    "ExecuteTime": {
     "end_time": "2023-10-22T15:42:27.515986200Z",
     "start_time": "2023-10-22T15:42:27.489740700Z"
    }
   },
   "id": "b159eb41cd7dc60f"
  },
  {
   "cell_type": "code",
   "execution_count": 117,
   "outputs": [],
   "source": [
    "test_df['tr_tox'] = y_pred"
   ],
   "metadata": {
    "collapsed": false,
    "ExecuteTime": {
     "end_time": "2023-10-22T15:43:50.921231600Z",
     "start_time": "2023-10-22T15:43:50.905047900Z"
    }
   },
   "id": "abed5c7b4311e88e"
  },
  {
   "cell_type": "code",
   "execution_count": 119,
   "outputs": [],
   "source": [
    "test_df['result'] = test_df['ref_tox']-test_df['tr_tox']"
   ],
   "metadata": {
    "collapsed": false,
    "ExecuteTime": {
     "end_time": "2023-10-22T15:45:19.796401900Z",
     "start_time": "2023-10-22T15:45:19.750836500Z"
    }
   },
   "id": "c47b2779a70bb234"
  },
  {
   "cell_type": "code",
   "execution_count": 120,
   "outputs": [
    {
     "data": {
      "text/plain": "0       0.063859\n1       0.010609\n2       0.772742\n3       0.033310\n4       0.907080\n          ...   \n4995    0.745048\n4996    0.984663\n4997    0.832143\n4998    0.117500\n4999    0.965515\nName: result, Length: 5000, dtype: float64"
     },
     "execution_count": 120,
     "metadata": {},
     "output_type": "execute_result"
    }
   ],
   "source": [
    "test_df['result']"
   ],
   "metadata": {
    "collapsed": false,
    "ExecuteTime": {
     "end_time": "2023-10-22T15:45:36.051253400Z",
     "start_time": "2023-10-22T15:45:35.998724Z"
    }
   },
   "id": "f00f1843a310873d"
  }
 ],
 "metadata": {
  "kernelspec": {
   "display_name": "Python 3",
   "language": "python",
   "name": "python3"
  },
  "language_info": {
   "codemirror_mode": {
    "name": "ipython",
    "version": 2
   },
   "file_extension": ".py",
   "mimetype": "text/x-python",
   "name": "python",
   "nbconvert_exporter": "python",
   "pygments_lexer": "ipython2",
   "version": "2.7.6"
  }
 },
 "nbformat": 4,
 "nbformat_minor": 5
}
