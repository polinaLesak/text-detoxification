{
 "cells": [
  {
   "cell_type": "code",
   "execution_count": 2,
   "id": "initial_id",
   "metadata": {
    "collapsed": true,
    "id": "initial_id",
    "ExecuteTime": {
     "end_time": "2023-10-19T15:03:11.002775400Z",
     "start_time": "2023-10-19T15:03:07.918909600Z"
    }
   },
   "outputs": [],
   "source": [
    "from src.data.consts import FILE_PATH\n",
    "import pandas as pd\n",
    "import zipfile\n",
    "\n",
    "with zipfile.ZipFile(FILE_PATH, \"r\") as zip_ref:\n",
    "    with zip_ref.open(\"filtered.tsv\") as file:\n",
    "        df = pd.read_csv(file, sep='\\t')"
   ]
  },
  {
   "cell_type": "code",
   "execution_count": 3,
   "outputs": [],
   "source": [
    "tox_df = df[['reference', 'ref_tox']].copy()\n",
    "tox_df = tox_df[:20000]"
   ],
   "metadata": {
    "id": "f7c7e52b73121f82",
    "ExecuteTime": {
     "end_time": "2023-10-19T15:03:11.052331300Z",
     "start_time": "2023-10-19T15:03:11.005767800Z"
    }
   },
   "id": "f7c7e52b73121f82"
  },
  {
   "cell_type": "code",
   "execution_count": 4,
   "outputs": [
    {
     "data": {
      "text/plain": "                                           reference   ref_tox\n0  If Alkar is flooding her with psychic waste, t...  0.014195\n1                          Now you're getting nasty.  0.065473\n2           Well, we could spare your life, for one.  0.213313\n3          Ah! Monkey, you've got to snap out of it.  0.053362\n4                   I've got orders to put her down.  0.009402",
      "text/html": "<div>\n<style scoped>\n    .dataframe tbody tr th:only-of-type {\n        vertical-align: middle;\n    }\n\n    .dataframe tbody tr th {\n        vertical-align: top;\n    }\n\n    .dataframe thead th {\n        text-align: right;\n    }\n</style>\n<table border=\"1\" class=\"dataframe\">\n  <thead>\n    <tr style=\"text-align: right;\">\n      <th></th>\n      <th>reference</th>\n      <th>ref_tox</th>\n    </tr>\n  </thead>\n  <tbody>\n    <tr>\n      <th>0</th>\n      <td>If Alkar is flooding her with psychic waste, t...</td>\n      <td>0.014195</td>\n    </tr>\n    <tr>\n      <th>1</th>\n      <td>Now you're getting nasty.</td>\n      <td>0.065473</td>\n    </tr>\n    <tr>\n      <th>2</th>\n      <td>Well, we could spare your life, for one.</td>\n      <td>0.213313</td>\n    </tr>\n    <tr>\n      <th>3</th>\n      <td>Ah! Monkey, you've got to snap out of it.</td>\n      <td>0.053362</td>\n    </tr>\n    <tr>\n      <th>4</th>\n      <td>I've got orders to put her down.</td>\n      <td>0.009402</td>\n    </tr>\n  </tbody>\n</table>\n</div>"
     },
     "execution_count": 4,
     "metadata": {},
     "output_type": "execute_result"
    }
   ],
   "source": [
    "tox_df.head()"
   ],
   "metadata": {
    "id": "9e5daa9ef4788c37",
    "outputId": "f27e2673-273f-4362-cfa4-802fb35d811d",
    "ExecuteTime": {
     "end_time": "2023-10-19T15:03:11.071183900Z",
     "start_time": "2023-10-19T15:03:11.056883800Z"
    }
   },
   "id": "9e5daa9ef4788c37"
  },
  {
   "cell_type": "code",
   "execution_count": 5,
   "outputs": [],
   "source": [
    "from sklearn.model_selection import train_test_split\n",
    "\n",
    "X = tox_df['reference']  # тексты\n",
    "y = tox_df['ref_tox']    # уровни токсичности\n",
    "\n",
    "X_train, X_test, y_train, y_test = train_test_split(X, y, test_size=0.2, random_state=42)\n"
   ],
   "metadata": {
    "id": "31f51e6a916b96ba",
    "ExecuteTime": {
     "end_time": "2023-10-19T15:03:12.264107900Z",
     "start_time": "2023-10-19T15:03:11.069189500Z"
    }
   },
   "id": "31f51e6a916b96ba"
  },
  {
   "cell_type": "code",
   "execution_count": 6,
   "outputs": [],
   "source": [
    "from sklearn.feature_extraction.text import TfidfVectorizer\n",
    "\n",
    "tfidf_vectorizer = TfidfVectorizer(max_features=5000, stop_words='english')\n",
    "X_train_tfidf = tfidf_vectorizer.fit_transform(X_train)\n",
    "X_test_tfidf = tfidf_vectorizer.transform(X_test)\n",
    "X_train_tfidf = X_train_tfidf.astype('float32')\n",
    "\n"
   ],
   "metadata": {
    "id": "8f1469e00d64797c",
    "ExecuteTime": {
     "end_time": "2023-10-19T15:03:12.561877Z",
     "start_time": "2023-10-19T15:03:12.269632800Z"
    }
   },
   "id": "8f1469e00d64797c"
  },
  {
   "cell_type": "code",
   "execution_count": 7,
   "outputs": [],
   "source": [
    "import tensorflow as tf\n",
    "model = tf.keras.Sequential([\n",
    "    tf.keras.layers.Dense(128, activation='relu', input_shape=(X_train_tfidf.shape[1],)),\n",
    "    tf.keras.layers.Dense(64, activation='relu'),\n",
    "    tf.keras.layers.Dense(1, activation='sigmoid')\n",
    "])\n"
   ],
   "metadata": {
    "id": "fa3164ecbdd1b6cc",
    "ExecuteTime": {
     "end_time": "2023-10-19T15:03:16.788860800Z",
     "start_time": "2023-10-19T15:03:12.560876400Z"
    }
   },
   "id": "fa3164ecbdd1b6cc"
  },
  {
   "cell_type": "code",
   "execution_count": 8,
   "outputs": [],
   "source": [
    "model.compile(optimizer='adam', loss='binary_crossentropy', metrics=['accuracy'])\n"
   ],
   "metadata": {
    "id": "bc4b555777244aa5",
    "ExecuteTime": {
     "end_time": "2023-10-19T15:03:16.928386400Z",
     "start_time": "2023-10-19T15:03:16.794841300Z"
    }
   },
   "id": "bc4b555777244aa5"
  },
  {
   "cell_type": "code",
   "execution_count": 9,
   "outputs": [],
   "source": [
    "train_dataset = tf.data.Dataset.from_tensor_slices((X_train_tfidf.toarray(), y_train))\n",
    "test_dataset = tf.data.Dataset.from_tensor_slices((X_test_tfidf.toarray(), y_test))\n"
   ],
   "metadata": {
    "id": "7a81d05c53790754",
    "ExecuteTime": {
     "end_time": "2023-10-19T15:03:17.350970800Z",
     "start_time": "2023-10-19T15:03:16.932374100Z"
    }
   },
   "id": "7a81d05c53790754"
  },
  {
   "cell_type": "code",
   "execution_count": 10,
   "outputs": [
    {
     "name": "stdout",
     "output_type": "stream",
     "text": [
      "Epoch 1/20\n",
      "500/500 [==============================] - 6s 10ms/step - loss: 0.5792 - accuracy: 0.0000e+00 - val_loss: 0.5362 - val_accuracy: 0.0000e+00\n",
      "Epoch 2/20\n",
      "500/500 [==============================] - 5s 10ms/step - loss: 0.4480 - accuracy: 0.0000e+00 - val_loss: 0.5534 - val_accuracy: 0.0000e+00\n",
      "Epoch 3/20\n",
      "500/500 [==============================] - 5s 10ms/step - loss: 0.3712 - accuracy: 0.0000e+00 - val_loss: 0.6029 - val_accuracy: 0.0000e+00\n",
      "Epoch 4/20\n",
      "500/500 [==============================] - 5s 9ms/step - loss: 0.3087 - accuracy: 0.0000e+00 - val_loss: 0.6542 - val_accuracy: 0.0000e+00\n",
      "Epoch 5/20\n",
      "500/500 [==============================] - 5s 10ms/step - loss: 0.2634 - accuracy: 0.0000e+00 - val_loss: 0.7108 - val_accuracy: 0.0000e+00\n",
      "Epoch 6/20\n",
      "500/500 [==============================] - 6s 11ms/step - loss: 0.2375 - accuracy: 0.0000e+00 - val_loss: 0.7303 - val_accuracy: 0.0000e+00\n",
      "Epoch 7/20\n",
      "500/500 [==============================] - 5s 10ms/step - loss: 0.2225 - accuracy: 0.0000e+00 - val_loss: 0.7602 - val_accuracy: 0.0000e+00\n",
      "Epoch 8/20\n",
      "500/500 [==============================] - 5s 10ms/step - loss: 0.2120 - accuracy: 0.0000e+00 - val_loss: 0.7644 - val_accuracy: 0.0000e+00\n",
      "Epoch 9/20\n",
      "500/500 [==============================] - 5s 10ms/step - loss: 0.2059 - accuracy: 0.0000e+00 - val_loss: 0.7640 - val_accuracy: 0.0000e+00\n",
      "Epoch 10/20\n",
      "500/500 [==============================] - 5s 10ms/step - loss: 0.2024 - accuracy: 0.0000e+00 - val_loss: 0.7734 - val_accuracy: 0.0000e+00\n",
      "Epoch 11/20\n",
      "500/500 [==============================] - 5s 10ms/step - loss: 0.1988 - accuracy: 0.0000e+00 - val_loss: 0.7633 - val_accuracy: 0.0000e+00\n",
      "Epoch 12/20\n",
      "500/500 [==============================] - 5s 9ms/step - loss: 0.1950 - accuracy: 0.0000e+00 - val_loss: 0.7709 - val_accuracy: 0.0000e+00\n",
      "Epoch 13/20\n",
      "500/500 [==============================] - 5s 10ms/step - loss: 0.1919 - accuracy: 0.0000e+00 - val_loss: 0.7760 - val_accuracy: 0.0000e+00\n",
      "Epoch 14/20\n",
      "500/500 [==============================] - 5s 10ms/step - loss: 0.1904 - accuracy: 0.0000e+00 - val_loss: 0.7831 - val_accuracy: 0.0000e+00\n",
      "Epoch 15/20\n",
      "500/500 [==============================] - 5s 10ms/step - loss: 0.1890 - accuracy: 0.0000e+00 - val_loss: 0.7717 - val_accuracy: 0.0000e+00\n",
      "Epoch 16/20\n",
      "500/500 [==============================] - 5s 11ms/step - loss: 0.1872 - accuracy: 0.0000e+00 - val_loss: 0.7949 - val_accuracy: 0.0000e+00\n",
      "Epoch 17/20\n",
      "500/500 [==============================] - 5s 10ms/step - loss: 0.1854 - accuracy: 0.0000e+00 - val_loss: 0.7879 - val_accuracy: 0.0000e+00\n",
      "Epoch 18/20\n",
      "500/500 [==============================] - 5s 10ms/step - loss: 0.1847 - accuracy: 0.0000e+00 - val_loss: 0.7791 - val_accuracy: 0.0000e+00\n",
      "Epoch 19/20\n",
      "500/500 [==============================] - 5s 10ms/step - loss: 0.1831 - accuracy: 0.0000e+00 - val_loss: 0.7915 - val_accuracy: 0.0000e+00\n",
      "Epoch 20/20\n",
      "500/500 [==============================] - 5s 10ms/step - loss: 0.1826 - accuracy: 0.0000e+00 - val_loss: 0.7908 - val_accuracy: 0.0000e+00\n"
     ]
    },
    {
     "data": {
      "text/plain": "<keras.src.callbacks.History at 0x1a812b00ee0>"
     },
     "execution_count": 10,
     "metadata": {},
     "output_type": "execute_result"
    }
   ],
   "source": [
    "batch_size = 32\n",
    "epochs = 20\n",
    "\n",
    "model.fit(train_dataset.batch(batch_size), epochs=epochs, validation_data=test_dataset.batch(batch_size))"
   ],
   "metadata": {
    "id": "59b6bfd3fa80cc0e",
    "outputId": "183053c0-8b8d-4799-8565-72552dbc3158",
    "ExecuteTime": {
     "end_time": "2023-10-19T15:04:58.174047200Z",
     "start_time": "2023-10-19T15:03:17.357760100Z"
    }
   },
   "id": "59b6bfd3fa80cc0e"
  },
  {
   "cell_type": "code",
   "execution_count": 11,
   "outputs": [
    {
     "name": "stdout",
     "output_type": "stream",
     "text": [
      "125/125 [==============================] - 0s 2ms/step\n"
     ]
    }
   ],
   "source": [
    "y_pred = model.predict(X_test_tfidf.toarray())"
   ],
   "metadata": {
    "id": "1ffbd2fb3d4e3dec",
    "outputId": "6e53efe9-43f8-442f-c0e4-4c1254863c0f",
    "ExecuteTime": {
     "end_time": "2023-10-19T15:04:58.939323600Z",
     "start_time": "2023-10-19T15:04:58.179181Z"
    }
   },
   "id": "1ffbd2fb3d4e3dec"
  },
  {
   "cell_type": "code",
   "execution_count": 13,
   "outputs": [
    {
     "name": "stdout",
     "output_type": "stream",
     "text": [
      "Accuracy: 0.70\n"
     ]
    }
   ],
   "source": [
    "from sklearn.metrics import accuracy_score\n",
    "\n",
    "# Преобразуйте истинные метки тестовых данных в бинарный формат, если они не таковы\n",
    "y_test_binary = (y_test > 0.5).astype(int)\n",
    "y_pred_binary = (y_pred > 0.5).astype(int)\n",
    "\n",
    "\n",
    "# Оцените точность\n",
    "accuracy = accuracy_score(y_test_binary, y_pred_binary)\n",
    "print(f'Accuracy: {accuracy:.2f}')\n"
   ],
   "metadata": {
    "id": "62c125ac664323a0",
    "outputId": "31ac3cc7-7646-4a7f-f338-1221d1f3be6a",
    "ExecuteTime": {
     "end_time": "2023-10-19T15:05:03.168225700Z",
     "start_time": "2023-10-19T15:05:03.120959300Z"
    }
   },
   "id": "62c125ac664323a0"
  },
  {
   "cell_type": "code",
   "execution_count": null,
   "outputs": [],
   "source": [],
   "metadata": {
    "id": "5d70eab42f80628a",
    "ExecuteTime": {
     "end_time": "2023-10-19T15:05:00.047997300Z",
     "start_time": "2023-10-19T15:05:00.047036500Z"
    }
   },
   "id": "5d70eab42f80628a"
  }
 ],
 "metadata": {
  "kernelspec": {
   "display_name": "Python 3",
   "language": "python",
   "name": "python3"
  },
  "language_info": {
   "codemirror_mode": {
    "name": "ipython",
    "version": 2
   },
   "file_extension": ".py",
   "mimetype": "text/x-python",
   "name": "python",
   "nbconvert_exporter": "python",
   "pygments_lexer": "ipython2",
   "version": "2.7.6"
  },
  "colab": {
   "provenance": []
  }
 },
 "nbformat": 4,
 "nbformat_minor": 5
}
