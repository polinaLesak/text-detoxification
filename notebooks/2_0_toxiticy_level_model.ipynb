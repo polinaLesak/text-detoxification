{
 "cells": [
  {
   "cell_type": "code",
   "execution_count": 27,
   "id": "initial_id",
   "metadata": {
    "collapsed": true,
    "id": "initial_id",
    "ExecuteTime": {
     "end_time": "2023-10-22T15:36:40.575688400Z",
     "start_time": "2023-10-22T15:36:35.721388600Z"
    }
   },
   "outputs": [],
   "source": [
    "from src.data.consts import FILE_PATH\n",
    "import pandas as pd\n",
    "import zipfile\n",
    "\n",
    "\n",
    "with zipfile.ZipFile(\"../data/raw/filtered_paranmt.zip\", \"r\") as zip_ref:\n",
    "    with zip_ref.open(\"filtered.tsv\") as file:\n",
    "        df = pd.read_csv(file, sep='\\t')"
   ]
  },
  {
   "cell_type": "code",
   "execution_count": 28,
   "outputs": [],
   "source": [
    "tox_df = df[['reference', 'ref_tox']].copy()\n",
    "tox_df = tox_df[:20000]"
   ],
   "metadata": {
    "id": "f7c7e52b73121f82",
    "ExecuteTime": {
     "end_time": "2023-10-22T15:36:40.623372800Z",
     "start_time": "2023-10-22T15:36:40.571693Z"
    }
   },
   "id": "f7c7e52b73121f82"
  },
  {
   "cell_type": "code",
   "execution_count": 29,
   "outputs": [
    {
     "data": {
      "text/plain": "                                           reference   ref_tox\n0  If Alkar is flooding her with psychic waste, t...  0.014195\n1                          Now you're getting nasty.  0.065473\n2           Well, we could spare your life, for one.  0.213313\n3          Ah! Monkey, you've got to snap out of it.  0.053362\n4                   I've got orders to put her down.  0.009402",
      "text/html": "<div>\n<style scoped>\n    .dataframe tbody tr th:only-of-type {\n        vertical-align: middle;\n    }\n\n    .dataframe tbody tr th {\n        vertical-align: top;\n    }\n\n    .dataframe thead th {\n        text-align: right;\n    }\n</style>\n<table border=\"1\" class=\"dataframe\">\n  <thead>\n    <tr style=\"text-align: right;\">\n      <th></th>\n      <th>reference</th>\n      <th>ref_tox</th>\n    </tr>\n  </thead>\n  <tbody>\n    <tr>\n      <th>0</th>\n      <td>If Alkar is flooding her with psychic waste, t...</td>\n      <td>0.014195</td>\n    </tr>\n    <tr>\n      <th>1</th>\n      <td>Now you're getting nasty.</td>\n      <td>0.065473</td>\n    </tr>\n    <tr>\n      <th>2</th>\n      <td>Well, we could spare your life, for one.</td>\n      <td>0.213313</td>\n    </tr>\n    <tr>\n      <th>3</th>\n      <td>Ah! Monkey, you've got to snap out of it.</td>\n      <td>0.053362</td>\n    </tr>\n    <tr>\n      <th>4</th>\n      <td>I've got orders to put her down.</td>\n      <td>0.009402</td>\n    </tr>\n  </tbody>\n</table>\n</div>"
     },
     "execution_count": 29,
     "metadata": {},
     "output_type": "execute_result"
    }
   ],
   "source": [
    "tox_df.head()"
   ],
   "metadata": {
    "id": "9e5daa9ef4788c37",
    "outputId": "f27e2673-273f-4362-cfa4-802fb35d811d",
    "ExecuteTime": {
     "end_time": "2023-10-22T15:36:40.649020Z",
     "start_time": "2023-10-22T15:36:40.614985700Z"
    }
   },
   "id": "9e5daa9ef4788c37"
  },
  {
   "cell_type": "code",
   "execution_count": 30,
   "outputs": [],
   "source": [
    "from sklearn.model_selection import train_test_split\n",
    "\n",
    "X = tox_df['reference']  # тексты\n",
    "y = tox_df['ref_tox']    # уровни токсичности\n",
    "\n",
    "X_train, X_test, y_train, y_test = train_test_split(X, y, test_size=0.25, random_state=42)\n"
   ],
   "metadata": {
    "id": "31f51e6a916b96ba",
    "ExecuteTime": {
     "end_time": "2023-10-22T15:36:40.691313700Z",
     "start_time": "2023-10-22T15:36:40.637539100Z"
    }
   },
   "id": "31f51e6a916b96ba"
  },
  {
   "cell_type": "code",
   "execution_count": 31,
   "outputs": [],
   "source": [
    "from nltk.stem import PorterStemmer\n",
    "from nltk.corpus import stopwords\n",
    "from nltk.tokenize import word_tokenize\n",
    "stemmer = PorterStemmer()\n",
    "\n",
    "def preprocess_text(text):\n",
    "    text = text.lower()\n",
    "    tokens = word_tokenize(text)\n",
    "    tokens = [word for word in tokens if word not in stopwords.words(\"english\")]\n",
    "    tokens = [stemmer.stem(word) for word in tokens]\n",
    "    return \" \".join(tokens)"
   ],
   "metadata": {
    "collapsed": false,
    "ExecuteTime": {
     "end_time": "2023-10-22T15:36:40.691313700Z",
     "start_time": "2023-10-22T15:36:40.664973500Z"
    }
   },
   "id": "b388c75a39a7c82c"
  },
  {
   "cell_type": "code",
   "execution_count": 32,
   "outputs": [],
   "source": [
    "X_train_preprocessed = [preprocess_text(text) for text in X_train]\n",
    "X_test_preprocessed = [preprocess_text(text) for text in X_test]\n"
   ],
   "metadata": {
    "collapsed": false,
    "ExecuteTime": {
     "end_time": "2023-10-22T15:38:41.696332800Z",
     "start_time": "2023-10-22T15:36:40.680022400Z"
    }
   },
   "id": "3b7075bfa3127ac2"
  },
  {
   "cell_type": "code",
   "execution_count": 33,
   "outputs": [],
   "source": [
    "from sklearn.feature_extraction.text import TfidfVectorizer\n",
    "\n",
    "tfidf_vectorizer = TfidfVectorizer(max_features=5000, stop_words='english')\n",
    "X_train_tfidf = tfidf_vectorizer.fit_transform(X_train_preprocessed)\n",
    "X_test_tfidf = tfidf_vectorizer.transform(X_test_preprocessed)\n",
    "X_train_tfidf = X_train_tfidf.astype('float32')\n",
    "\n"
   ],
   "metadata": {
    "id": "8f1469e00d64797c",
    "ExecuteTime": {
     "end_time": "2023-10-22T15:38:41.954837500Z",
     "start_time": "2023-10-22T15:38:41.729824200Z"
    }
   },
   "id": "8f1469e00d64797c"
  },
  {
   "cell_type": "code",
   "execution_count": 34,
   "outputs": [],
   "source": [
    "import tensorflow as tf\n",
    "model = tf.keras.Sequential([\n",
    "    tf.keras.layers.Dense(128, activation='relu', input_shape=(X_train_tfidf.shape[1],)),\n",
    "    tf.keras.layers.Dense(64, activation='relu'),\n",
    "    tf.keras.layers.Dense(1, activation='sigmoid')\n",
    "])\n"
   ],
   "metadata": {
    "id": "fa3164ecbdd1b6cc",
    "ExecuteTime": {
     "end_time": "2023-10-22T15:38:42.012220500Z",
     "start_time": "2023-10-22T15:38:41.964109300Z"
    }
   },
   "id": "fa3164ecbdd1b6cc"
  },
  {
   "cell_type": "code",
   "execution_count": 35,
   "outputs": [],
   "source": [
    "model.compile(optimizer='adam', loss='binary_crossentropy', metrics=['accuracy'])\n"
   ],
   "metadata": {
    "id": "bc4b555777244aa5",
    "ExecuteTime": {
     "end_time": "2023-10-22T15:38:42.033997400Z",
     "start_time": "2023-10-22T15:38:42.015647200Z"
    }
   },
   "id": "bc4b555777244aa5"
  },
  {
   "cell_type": "code",
   "execution_count": 36,
   "outputs": [],
   "source": [
    "train_dataset = tf.data.Dataset.from_tensor_slices((X_train_tfidf.toarray(), y_train))\n",
    "test_dataset = tf.data.Dataset.from_tensor_slices((X_test_tfidf.toarray(), y_test))\n"
   ],
   "metadata": {
    "id": "7a81d05c53790754",
    "ExecuteTime": {
     "end_time": "2023-10-22T15:38:43.012447400Z",
     "start_time": "2023-10-22T15:38:42.031482700Z"
    }
   },
   "id": "7a81d05c53790754"
  },
  {
   "cell_type": "code",
   "execution_count": 37,
   "outputs": [
    {
     "name": "stdout",
     "output_type": "stream",
     "text": [
      "Epoch 1/20\n",
      "469/469 [==============================] - 7s 12ms/step - loss: 0.5827 - accuracy: 0.0000e+00 - val_loss: 0.5365 - val_accuracy: 0.0000e+00\n",
      "Epoch 2/20\n",
      "469/469 [==============================] - 5s 11ms/step - loss: 0.4520 - accuracy: 0.0000e+00 - val_loss: 0.5554 - val_accuracy: 0.0000e+00\n",
      "Epoch 3/20\n",
      "469/469 [==============================] - 5s 11ms/step - loss: 0.3703 - accuracy: 0.0000e+00 - val_loss: 0.6041 - val_accuracy: 0.0000e+00\n",
      "Epoch 4/20\n",
      "469/469 [==============================] - 5s 11ms/step - loss: 0.3080 - accuracy: 0.0000e+00 - val_loss: 0.6517 - val_accuracy: 0.0000e+00\n",
      "Epoch 5/20\n",
      "469/469 [==============================] - 5s 10ms/step - loss: 0.2645 - accuracy: 0.0000e+00 - val_loss: 0.6897 - val_accuracy: 0.0000e+00\n",
      "Epoch 6/20\n",
      "469/469 [==============================] - 5s 11ms/step - loss: 0.2416 - accuracy: 0.0000e+00 - val_loss: 0.7122 - val_accuracy: 0.0000e+00\n",
      "Epoch 7/20\n",
      "469/469 [==============================] - 5s 11ms/step - loss: 0.2258 - accuracy: 0.0000e+00 - val_loss: 0.7364 - val_accuracy: 0.0000e+00\n",
      "Epoch 8/20\n",
      "469/469 [==============================] - 5s 11ms/step - loss: 0.2155 - accuracy: 0.0000e+00 - val_loss: 0.7621 - val_accuracy: 0.0000e+00\n",
      "Epoch 9/20\n",
      "469/469 [==============================] - 5s 11ms/step - loss: 0.2081 - accuracy: 0.0000e+00 - val_loss: 0.7417 - val_accuracy: 0.0000e+00\n",
      "Epoch 10/20\n",
      "469/469 [==============================] - 5s 10ms/step - loss: 0.2036 - accuracy: 0.0000e+00 - val_loss: 0.7361 - val_accuracy: 0.0000e+00\n",
      "Epoch 11/20\n",
      "469/469 [==============================] - 5s 10ms/step - loss: 0.1998 - accuracy: 0.0000e+00 - val_loss: 0.7448 - val_accuracy: 0.0000e+00\n",
      "Epoch 12/20\n",
      "469/469 [==============================] - 5s 11ms/step - loss: 0.1958 - accuracy: 0.0000e+00 - val_loss: 0.7499 - val_accuracy: 0.0000e+00\n",
      "Epoch 13/20\n",
      "469/469 [==============================] - 5s 10ms/step - loss: 0.1924 - accuracy: 0.0000e+00 - val_loss: 0.7428 - val_accuracy: 0.0000e+00\n",
      "Epoch 14/20\n",
      "469/469 [==============================] - 5s 11ms/step - loss: 0.1913 - accuracy: 0.0000e+00 - val_loss: 0.7587 - val_accuracy: 0.0000e+00\n",
      "Epoch 15/20\n",
      "469/469 [==============================] - 5s 11ms/step - loss: 0.1891 - accuracy: 0.0000e+00 - val_loss: 0.7453 - val_accuracy: 0.0000e+00\n",
      "Epoch 16/20\n",
      "469/469 [==============================] - 5s 11ms/step - loss: 0.1866 - accuracy: 0.0000e+00 - val_loss: 0.7539 - val_accuracy: 0.0000e+00\n",
      "Epoch 17/20\n",
      "469/469 [==============================] - 5s 11ms/step - loss: 0.1843 - accuracy: 0.0000e+00 - val_loss: 0.7667 - val_accuracy: 0.0000e+00\n",
      "Epoch 18/20\n",
      "469/469 [==============================] - 5s 11ms/step - loss: 0.1830 - accuracy: 0.0000e+00 - val_loss: 0.7745 - val_accuracy: 0.0000e+00\n",
      "Epoch 19/20\n",
      "469/469 [==============================] - 5s 11ms/step - loss: 0.1819 - accuracy: 0.0000e+00 - val_loss: 0.7746 - val_accuracy: 0.0000e+00\n",
      "Epoch 20/20\n",
      "469/469 [==============================] - 5s 11ms/step - loss: 0.1816 - accuracy: 0.0000e+00 - val_loss: 0.7704 - val_accuracy: 0.0000e+00\n"
     ]
    },
    {
     "data": {
      "text/plain": "<keras.src.callbacks.History at 0x21ad0662760>"
     },
     "execution_count": 37,
     "metadata": {},
     "output_type": "execute_result"
    }
   ],
   "source": [
    "batch_size = 32\n",
    "epochs = 20\n",
    "\n",
    "model.fit(train_dataset.batch(batch_size), epochs=epochs, validation_data=test_dataset.batch(batch_size))"
   ],
   "metadata": {
    "id": "59b6bfd3fa80cc0e",
    "outputId": "183053c0-8b8d-4799-8565-72552dbc3158",
    "ExecuteTime": {
     "end_time": "2023-10-22T15:40:25.989740500Z",
     "start_time": "2023-10-22T15:38:43.019938200Z"
    }
   },
   "id": "59b6bfd3fa80cc0e"
  },
  {
   "cell_type": "code",
   "execution_count": 37,
   "outputs": [],
   "source": [],
   "metadata": {
    "collapsed": false,
    "ExecuteTime": {
     "end_time": "2023-10-22T15:40:26.004434200Z",
     "start_time": "2023-10-22T15:40:25.943566Z"
    }
   },
   "id": "5db9e2bb3cdf72cf"
  },
  {
   "cell_type": "code",
   "execution_count": 38,
   "outputs": [
    {
     "name": "stdout",
     "output_type": "stream",
     "text": [
      "157/157 [==============================] - 1s 3ms/step\n"
     ]
    }
   ],
   "source": [
    "y_pred = model.predict(X_test_tfidf.toarray())"
   ],
   "metadata": {
    "id": "1ffbd2fb3d4e3dec",
    "outputId": "6e53efe9-43f8-442f-c0e4-4c1254863c0f",
    "ExecuteTime": {
     "end_time": "2023-10-22T15:40:26.971265Z",
     "start_time": "2023-10-22T15:40:25.960933300Z"
    }
   },
   "id": "1ffbd2fb3d4e3dec"
  },
  {
   "cell_type": "code",
   "execution_count": 38,
   "outputs": [],
   "source": [],
   "metadata": {
    "collapsed": false,
    "ExecuteTime": {
     "end_time": "2023-10-22T15:40:26.997468700Z",
     "start_time": "2023-10-22T15:40:26.975543500Z"
    }
   },
   "id": "90e8d37088f51321"
  },
  {
   "cell_type": "code",
   "execution_count": 39,
   "outputs": [
    {
     "name": "stdout",
     "output_type": "stream",
     "text": [
      "Accuracy: 0.70\n"
     ]
    }
   ],
   "source": [
    "from sklearn.metrics import accuracy_score\n",
    "\n",
    "# Преобразуйте истинные метки тестовых данных в бинарный формат, если они не таковы\n",
    "y_test_binary = (y_test > 0.5).astype(int)\n",
    "y_pred_binary = (y_pred > 0.5).astype(int)\n",
    "\n",
    "\n",
    "# Оцените точность\n",
    "accuracy = accuracy_score(y_test_binary, y_pred_binary)\n",
    "print(f'Accuracy: {accuracy:.2f}')\n"
   ],
   "metadata": {
    "id": "62c125ac664323a0",
    "outputId": "31ac3cc7-7646-4a7f-f338-1221d1f3be6a",
    "ExecuteTime": {
     "end_time": "2023-10-22T15:40:27.013465500Z",
     "start_time": "2023-10-22T15:40:26.993558800Z"
    }
   },
   "id": "62c125ac664323a0"
  },
  {
   "cell_type": "code",
   "execution_count": 40,
   "outputs": [
    {
     "name": "stderr",
     "output_type": "stream",
     "text": [
      "C:\\Users\\lesak\\AppData\\Local\\Programs\\Python\\Python39\\lib\\site-packages\\keras\\src\\engine\\training.py:3079: UserWarning: You are saving your model as an HDF5 file via `model.save()`. This file format is considered legacy. We recommend using instead the native Keras format, e.g. `model.save('my_model.keras')`.\n",
      "  saving_api.save_model(\n"
     ]
    }
   ],
   "source": [
    "# Экспортируйте модель в файл\n",
    "model.save('model.h5')\n",
    "\n"
   ],
   "metadata": {
    "id": "5d70eab42f80628a",
    "ExecuteTime": {
     "end_time": "2023-10-22T15:40:27.073714Z",
     "start_time": "2023-10-22T15:40:27.004974400Z"
    }
   },
   "id": "5d70eab42f80628a"
  },
  {
   "cell_type": "code",
   "execution_count": 40,
   "outputs": [],
   "source": [],
   "metadata": {
    "collapsed": false,
    "ExecuteTime": {
     "end_time": "2023-10-22T15:40:27.096962900Z",
     "start_time": "2023-10-22T15:40:27.066188700Z"
    }
   },
   "id": "ccc66bb8ec82c9c0"
  }
 ],
 "metadata": {
  "kernelspec": {
   "display_name": "Python 3",
   "language": "python",
   "name": "python3"
  },
  "language_info": {
   "codemirror_mode": {
    "name": "ipython",
    "version": 2
   },
   "file_extension": ".py",
   "mimetype": "text/x-python",
   "name": "python",
   "nbconvert_exporter": "python",
   "pygments_lexer": "ipython2",
   "version": "2.7.6"
  },
  "colab": {
   "provenance": []
  }
 },
 "nbformat": 4,
 "nbformat_minor": 5
}
