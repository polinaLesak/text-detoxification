{
 "cells": [
  {
   "cell_type": "markdown",
   "id": "a1dd7b130c4c693b",
   "metadata": {
    "collapsed": false,
    "id": "a1dd7b130c4c693b"
   },
   "source": [
    "# Download ParaNMT Dataset and transform it"
   ]
  },
  {
   "cell_type": "markdown",
   "source": [
    "## Downloading data"
   ],
   "metadata": {
    "collapsed": false,
    "id": "845f9e742bf1dcd0"
   },
   "id": "845f9e742bf1dcd0"
  },
  {
   "cell_type": "code",
   "execution_count": 1,
   "id": "initial_id",
   "metadata": {
    "id": "initial_id",
    "ExecuteTime": {
     "end_time": "2023-10-23T06:30:31.698400800Z",
     "start_time": "2023-10-23T06:30:30.237030500Z"
    }
   },
   "outputs": [],
   "source": [
    "import pandas as pd\n",
    "import requests\n",
    "import os\n",
    "import zipfile"
   ]
  },
  {
   "cell_type": "markdown",
   "source": [
    "Required data set is in the GitHub repository, let's download it from the link and unzip it."
   ],
   "metadata": {
    "collapsed": false
   },
   "id": "4674277e9cbfc5e3"
  },
  {
   "cell_type": "code",
   "execution_count": 2,
   "id": "d0eb3ed3f425e6ba",
   "metadata": {
    "id": "d0eb3ed3f425e6ba",
    "ExecuteTime": {
     "end_time": "2023-10-23T06:30:31.713176400Z",
     "start_time": "2023-10-23T06:30:31.703429200Z"
    }
   },
   "outputs": [],
   "source": [
    "url = \"https://github.com/skoltech-nlp/detox/releases/download/emnlp2021/filtered_paranmt.zip\"\n",
    "os.makedirs(\"../data/raw\", exist_ok=True)\n",
    "zip_filename = \"../data/raw/filtered_paranmt.zip\""
   ]
  },
  {
   "cell_type": "code",
   "execution_count": 3,
   "id": "fde78ca224270b12",
   "metadata": {
    "id": "fde78ca224270b12",
    "ExecuteTime": {
     "end_time": "2023-10-23T06:31:03.049532700Z",
     "start_time": "2023-10-23T06:30:36.537224100Z"
    }
   },
   "outputs": [],
   "source": [
    "response = requests.get(url)\n",
    "with open(zip_filename, \"wb\") as zip_file:\n",
    "    zip_file.write(response.content)"
   ]
  },
  {
   "cell_type": "code",
   "execution_count": 4,
   "outputs": [],
   "source": [
    "with zipfile.ZipFile(zip_filename, \"r\") as zip_ref:\n",
    "    with zip_ref.open(\"filtered.tsv\") as file:\n",
    "        df = pd.read_csv(file, sep='\\t')"
   ],
   "metadata": {
    "collapsed": false,
    "ExecuteTime": {
     "end_time": "2023-10-23T06:31:07.146379900Z",
     "start_time": "2023-10-23T06:31:03.038809200Z"
    }
   },
   "id": "73fefdfce578ca93"
  },
  {
   "cell_type": "code",
   "execution_count": 5,
   "id": "ec3eacca9aa8c216",
   "metadata": {
    "id": "ec3eacca9aa8c216",
    "outputId": "c38795a2-24fd-41c8-faa4-5a9749b543b5",
    "ExecuteTime": {
     "end_time": "2023-10-23T06:31:07.193209500Z",
     "start_time": "2023-10-23T06:31:07.153516400Z"
    }
   },
   "outputs": [
    {
     "data": {
      "text/plain": "   Unnamed: 0                                          reference  \\\n0           0  If Alkar is flooding her with psychic waste, t...   \n1           1                          Now you're getting nasty.   \n2           2           Well, we could spare your life, for one.   \n3           3          Ah! Monkey, you've got to snap out of it.   \n4           4                   I've got orders to put her down.   \n\n                                         translation  similarity  lenght_diff  \\\n0  if Alkar floods her with her mental waste, it ...    0.785171     0.010309   \n1                        you're becoming disgusting.    0.749687     0.071429   \n2                      well, we can spare your life.    0.919051     0.268293   \n3                       monkey, you have to wake up.    0.664333     0.309524   \n4                         I have orders to kill her.    0.726639     0.181818   \n\n    ref_tox   trn_tox  \n0  0.014195  0.981983  \n1  0.065473  0.999039  \n2  0.213313  0.985068  \n3  0.053362  0.994215  \n4  0.009402  0.999348  ",
      "text/html": "<div>\n<style scoped>\n    .dataframe tbody tr th:only-of-type {\n        vertical-align: middle;\n    }\n\n    .dataframe tbody tr th {\n        vertical-align: top;\n    }\n\n    .dataframe thead th {\n        text-align: right;\n    }\n</style>\n<table border=\"1\" class=\"dataframe\">\n  <thead>\n    <tr style=\"text-align: right;\">\n      <th></th>\n      <th>Unnamed: 0</th>\n      <th>reference</th>\n      <th>translation</th>\n      <th>similarity</th>\n      <th>lenght_diff</th>\n      <th>ref_tox</th>\n      <th>trn_tox</th>\n    </tr>\n  </thead>\n  <tbody>\n    <tr>\n      <th>0</th>\n      <td>0</td>\n      <td>If Alkar is flooding her with psychic waste, t...</td>\n      <td>if Alkar floods her with her mental waste, it ...</td>\n      <td>0.785171</td>\n      <td>0.010309</td>\n      <td>0.014195</td>\n      <td>0.981983</td>\n    </tr>\n    <tr>\n      <th>1</th>\n      <td>1</td>\n      <td>Now you're getting nasty.</td>\n      <td>you're becoming disgusting.</td>\n      <td>0.749687</td>\n      <td>0.071429</td>\n      <td>0.065473</td>\n      <td>0.999039</td>\n    </tr>\n    <tr>\n      <th>2</th>\n      <td>2</td>\n      <td>Well, we could spare your life, for one.</td>\n      <td>well, we can spare your life.</td>\n      <td>0.919051</td>\n      <td>0.268293</td>\n      <td>0.213313</td>\n      <td>0.985068</td>\n    </tr>\n    <tr>\n      <th>3</th>\n      <td>3</td>\n      <td>Ah! Monkey, you've got to snap out of it.</td>\n      <td>monkey, you have to wake up.</td>\n      <td>0.664333</td>\n      <td>0.309524</td>\n      <td>0.053362</td>\n      <td>0.994215</td>\n    </tr>\n    <tr>\n      <th>4</th>\n      <td>4</td>\n      <td>I've got orders to put her down.</td>\n      <td>I have orders to kill her.</td>\n      <td>0.726639</td>\n      <td>0.181818</td>\n      <td>0.009402</td>\n      <td>0.999348</td>\n    </tr>\n  </tbody>\n</table>\n</div>"
     },
     "execution_count": 5,
     "metadata": {},
     "output_type": "execute_result"
    }
   ],
   "source": [
    "df.head()"
   ]
  },
  {
   "cell_type": "markdown",
   "source": [
    "Our dataframe consists of "
   ],
   "metadata": {
    "collapsed": false,
    "id": "ae2e560ec277f5b5"
   },
   "id": "ae2e560ec277f5b5"
  },
  {
   "cell_type": "markdown",
   "source": [
    "| Column | Type | Discription | \n",
    "| ----- | ------- | ---------- |\n",
    "| reference | str | First item from the pair | \n",
    "| ref_tox | float | toxicity level of reference text | \n",
    "| translation | str | Second item from the pair - paraphrazed version of the reference|\n",
    "| trn_tox | float | toxicity level of translation text |\n",
    "| similarity | float | cosine similarity of the texts |\n",
    "| lenght_diff | float | relative length difference between texts |"
   ],
   "metadata": {
    "collapsed": false
   },
   "id": "1e44c2f2fdc5074e"
  },
  {
   "cell_type": "markdown",
   "source": [
    "## Data visualisation "
   ],
   "metadata": {
    "collapsed": false
   },
   "id": "bcee6a759376ecb"
  },
  {
   "cell_type": "code",
   "execution_count": 6,
   "outputs": [
    {
     "name": "stdout",
     "output_type": "stream",
     "text": [
      "<class 'pandas.core.frame.DataFrame'>\n",
      "RangeIndex: 577777 entries, 0 to 577776\n",
      "Data columns (total 7 columns):\n",
      " #   Column       Non-Null Count   Dtype  \n",
      "---  ------       --------------   -----  \n",
      " 0   Unnamed: 0   577777 non-null  int64  \n",
      " 1   reference    577777 non-null  object \n",
      " 2   translation  577777 non-null  object \n",
      " 3   similarity   577777 non-null  float64\n",
      " 4   lenght_diff  577777 non-null  float64\n",
      " 5   ref_tox      577777 non-null  float64\n",
      " 6   trn_tox      577777 non-null  float64\n",
      "dtypes: float64(4), int64(1), object(2)\n",
      "memory usage: 30.9+ MB\n"
     ]
    }
   ],
   "source": [
    "df.info()"
   ],
   "metadata": {
    "id": "c7ec4c087ab7bdc2",
    "outputId": "62cb0f0e-272a-4586-ccf4-6ce906795089",
    "ExecuteTime": {
     "end_time": "2023-10-23T06:31:07.394741400Z",
     "start_time": "2023-10-23T06:31:07.177162100Z"
    }
   },
   "id": "c7ec4c087ab7bdc2"
  },
  {
   "cell_type": "markdown",
   "source": [
    "Based on the information in the table, there are no zero values, which means that processing of this case can be skipped. In the first 10 lines, the reference is less toxic than the translation, it’s bad to train a model on such data.\n",
    "Let’s look at the statistics for the entire dataset"
   ],
   "metadata": {
    "collapsed": false,
    "id": "98037f0345a28e71"
   },
   "id": "98037f0345a28e71"
  },
  {
   "cell_type": "code",
   "execution_count": 7,
   "id": "ba85978e8ec0cb1b",
   "metadata": {
    "id": "ba85978e8ec0cb1b",
    "outputId": "bf042a80-a279-4c4b-d75f-4f046cfac50b",
    "ExecuteTime": {
     "end_time": "2023-10-23T06:31:15.161842300Z",
     "start_time": "2023-10-23T06:31:07.303976Z"
    }
   },
   "outputs": [
    {
     "data": {
      "text/plain": "<Figure size 600x400 with 1 Axes>",
      "image/png": "[encoded data removed]"
     },
     "metadata": {},
     "output_type": "display_data"
    },
    {
     "data": {
      "text/plain": "<Figure size 600x400 with 1 Axes>",
      "image/png": "[encoded data removed]"
     },
     "metadata": {},
     "output_type": "display_data"
    }
   ],
   "source": [
    "import matplotlib.pyplot as plt\n",
    "\n",
    "df['great_trn'] = df['ref_tox']-df['trn_tox']\n",
    "tox_level_difference = df['great_trn'].tolist()\n",
    "\n",
    "\n",
    "similarity = df['similarity'].tolist()\n",
    "\n",
    "n_bins=120\n",
    "plt.figure(figsize=(6, 4))  # Создаем первый график\n",
    "plt.ylabel('number of examples')\n",
    "plt.xlabel('tox_level_difference')\n",
    "plt.hist(tox_level_difference, bins=n_bins)\n",
    "plt.title('Tox Level Difference')\n",
    "plt.show()\n",
    "\n",
    "plt.figure(figsize=(6, 4))  # Создаем второй график\n",
    "plt.ylabel('number of examples')\n",
    "plt.xlabel('similarity')\n",
    "plt.hist(similarity, bins=n_bins)\n",
    "plt.title('Similarity')\n",
    "plt.show()"
   ]
  },
  {
   "cell_type": "markdown",
   "source": [
    "## Data preprocessing"
   ],
   "metadata": {
    "collapsed": false
   },
   "id": "fbcb0a2b980dc637"
  },
  {
   "cell_type": "markdown",
   "source": [
    "Based on the presented graphs, we will select good data for training our model.\n",
    "The *difference* in the toxicity level of the reference and translation must be **>=0.5** and the *similarity* of the strings must be **> 0.7**"
   ],
   "metadata": {
    "collapsed": false
   },
   "id": "b148d7ef1c676fb7"
  },
  {
   "cell_type": "code",
   "execution_count": 15,
   "outputs": [],
   "source": [
    "filtered_df = df[(df['ref_tox'] - df['trn_tox'] >= 0.5) & (df['similarity'] > 0.7)]"
   ],
   "metadata": {
    "collapsed": false,
    "ExecuteTime": {
     "end_time": "2023-10-23T06:44:44.414392600Z",
     "start_time": "2023-10-23T06:44:44.349548600Z"
    }
   },
   "id": "7a0d03f4dd6ea6cb"
  },
  {
   "cell_type": "markdown",
   "source": [
    "We will also create a test dataframe, it seems to me that in it we only need the reference columns and the level of its toxicity."
   ],
   "metadata": {
    "collapsed": false
   },
   "id": "87cd7223d0d65ae"
  },
  {
   "cell_type": "code",
   "execution_count": 16,
   "outputs": [],
   "source": [
    "test_df = df[~df.index.isin(filtered_df.index)& (df['ref_tox'] > 0.7)].head(5000)\n",
    "test_df = test_df[[\"reference\", \"ref_tox\"]]"
   ],
   "metadata": {
    "collapsed": false,
    "ExecuteTime": {
     "end_time": "2023-10-23T06:44:46.637390500Z",
     "start_time": "2023-10-23T06:44:46.553005600Z"
    }
   },
   "id": "66813ad069c12614"
  },
  {
   "cell_type": "code",
   "execution_count": 17,
   "outputs": [],
   "source": [
    "filtered_df.to_csv('../data/interm/preprocessed_filtered.csv', index=False)\n",
    "test_df.to_csv('../data/interm/test.csv', index=False)"
   ],
   "metadata": {
    "collapsed": false,
    "ExecuteTime": {
     "end_time": "2023-10-23T06:44:53.615201600Z",
     "start_time": "2023-10-23T06:44:48.344773800Z"
    }
   },
   "id": "ac580828477892d9"
  }
 ],
 "metadata": {
  "kernelspec": {
   "display_name": "Python 3 (ipykernel)",
   "language": "python",
   "name": "python3"
  },
  "language_info": {
   "codemirror_mode": {
    "name": "ipython",
    "version": 3
   },
   "file_extension": ".py",
   "mimetype": "text/x-python",
   "name": "python",
   "nbconvert_exporter": "python",
   "pygments_lexer": "ipython3",
   "version": "3.9.13"
  },
  "colab": {
   "provenance": []
  }
 },
 "nbformat": 4,
 "nbformat_minor": 5
}
