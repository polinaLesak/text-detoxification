{
 "cells": [
  {
   "cell_type": "code",
   "execution_count": 1,
   "id": "initial_id",
   "metadata": {
    "collapsed": true,
    "ExecuteTime": {
     "end_time": "2023-10-29T19:02:07.442873500Z",
     "start_time": "2023-10-29T19:02:06.863422600Z"
    }
   },
   "outputs": [],
   "source": [
    "import json\n",
    "import pandas as pd\n",
    "with open(\"../data/interm/vocab.json\", \"r\") as json_file:\n",
    "    vocab = json.load(json_file)"
   ]
  },
  {
   "cell_type": "code",
   "execution_count": 2,
   "outputs": [],
   "source": [
    "test_df = pd.read_csv(\"../data/interm/test.csv\")"
   ],
   "metadata": {
    "collapsed": false,
    "ExecuteTime": {
     "end_time": "2023-10-29T19:02:07.488164400Z",
     "start_time": "2023-10-29T19:02:07.446917100Z"
    }
   },
   "id": "32890eefbbace7a6"
  },
  {
   "cell_type": "code",
   "execution_count": 3,
   "outputs": [],
   "source": [
    "for original, item in vocab.items():\n",
    "    test_df['translate'] = test_df['reference'].str.replace(original, item)"
   ],
   "metadata": {
    "collapsed": false,
    "ExecuteTime": {
     "end_time": "2023-10-29T19:02:13.210995600Z",
     "start_time": "2023-10-29T19:02:07.475196700Z"
    }
   },
   "id": "911b3deae967bddd"
  },
  {
   "cell_type": "code",
   "execution_count": 4,
   "outputs": [],
   "source": [
    "test_df['translate'] = test_df['reference']\n",
    "\n",
    "# Проходим по словарю замен и заменяем соответствующие слова в столбце \"translate\"\n",
    "for original, item in vocab.items():\n",
    "    test_df['translate'] = test_df['translate'].str.replace(original, item)"
   ],
   "metadata": {
    "collapsed": false,
    "ExecuteTime": {
     "end_time": "2023-10-29T19:02:18.863333900Z",
     "start_time": "2023-10-29T19:02:13.218939200Z"
    }
   },
   "id": "bbb5b276f7dc25a5"
  },
  {
   "cell_type": "code",
   "execution_count": 5,
   "outputs": [
    {
     "data": {
      "text/plain": "                                            reference   ref_tox  \\\n0   They're all laughing at us, so we'll kick your...  0.999492   \n1                Come on, Cal, leave that shit alone.  0.999637   \n2                                   I like that shit.  0.999594   \n3   How is this not porn? This is porn that comes ...  0.933948   \n4   Now, I understand you got your grievances with...  0.999603   \n5           I'll rot in front of his cameras, on him.  0.987824   \n6   Tell him if Elena doesn't pick up the phone, w...  0.995638   \n7   You wanna know why? if anything happens that's...  0.938261   \n8             You must've been pissed. Damn straight.  0.991549   \n9   The only crime he committed Was standing up to...  0.999450   \n10                              Do less crap, mostly.  0.969601   \n11                                           Damn It!  0.999548   \n12  Kid, I wouldn't last 5 minutes leading an outf...  0.988534   \n13  Your drinking, your gambling, womanizing... bu...  0.946188   \n14          I told you to bring Malik, not a crybaby.  0.935497   \n15  It reminded me of the ten little niggers of th...  0.981818   \n16       Should I have let the filthy gre'zu paw me?\"  0.786056   \n17            Natasha, go be a whore elsewhere, okay?  0.999608   \n18                 I'll bloody well walk out of here.  0.937021   \n19  Walk out the door, get in the car, go home, je...  0.998922   \n\n                                            translate  \n0   They're all lasomethinging at us, so we'll kic...  \n1                       Come on, Cal, your that . of.  \n2                                      I like that ..  \n3   How is this havet porn? This is porn that come...  \n4   .w, I understand you got your ands with these ...  \n5           I'll rot in front of his cameras, on him.  \n6   Tell him if Elena doesn't pick up the phone, w...  \n7   You wanna khavew why? if anything happens that...  \n8                   You must've been .ed. I straight.  \n9   The only a he committed Was standing up to tha...  \n10                               Do less now, mostly.  \n11                                              I It!  \n12  Kid, I wouldn't last 5 minutes leading an outf...  \n13  Your drinking, your gambling, womanizing... bu...  \n14        I told you to bring Malik, havet a crybaby.  \n15  It reminded me of the ten little niggers of th...  \n16       Should I have let the filthy gre'zu paw me?\"  \n17            Natasha, go be a bride elsewhere, okay?  \n18                   I'll good well walk out of here.  \n19  Walk out the door, get in the car, go home, in...  ",
      "text/html": "<div>\n<style scoped>\n    .dataframe tbody tr th:only-of-type {\n        vertical-align: middle;\n    }\n\n    .dataframe tbody tr th {\n        vertical-align: top;\n    }\n\n    .dataframe thead th {\n        text-align: right;\n    }\n</style>\n<table border=\"1\" class=\"dataframe\">\n  <thead>\n    <tr style=\"text-align: right;\">\n      <th></th>\n      <th>reference</th>\n      <th>ref_tox</th>\n      <th>translate</th>\n    </tr>\n  </thead>\n  <tbody>\n    <tr>\n      <th>0</th>\n      <td>They're all laughing at us, so we'll kick your...</td>\n      <td>0.999492</td>\n      <td>They're all lasomethinging at us, so we'll kic...</td>\n    </tr>\n    <tr>\n      <th>1</th>\n      <td>Come on, Cal, leave that shit alone.</td>\n      <td>0.999637</td>\n      <td>Come on, Cal, your that . of.</td>\n    </tr>\n    <tr>\n      <th>2</th>\n      <td>I like that shit.</td>\n      <td>0.999594</td>\n      <td>I like that ..</td>\n    </tr>\n    <tr>\n      <th>3</th>\n      <td>How is this not porn? This is porn that comes ...</td>\n      <td>0.933948</td>\n      <td>How is this havet porn? This is porn that come...</td>\n    </tr>\n    <tr>\n      <th>4</th>\n      <td>Now, I understand you got your grievances with...</td>\n      <td>0.999603</td>\n      <td>.w, I understand you got your ands with these ...</td>\n    </tr>\n    <tr>\n      <th>5</th>\n      <td>I'll rot in front of his cameras, on him.</td>\n      <td>0.987824</td>\n      <td>I'll rot in front of his cameras, on him.</td>\n    </tr>\n    <tr>\n      <th>6</th>\n      <td>Tell him if Elena doesn't pick up the phone, w...</td>\n      <td>0.995638</td>\n      <td>Tell him if Elena doesn't pick up the phone, w...</td>\n    </tr>\n    <tr>\n      <th>7</th>\n      <td>You wanna know why? if anything happens that's...</td>\n      <td>0.938261</td>\n      <td>You wanna khavew why? if anything happens that...</td>\n    </tr>\n    <tr>\n      <th>8</th>\n      <td>You must've been pissed. Damn straight.</td>\n      <td>0.991549</td>\n      <td>You must've been .ed. I straight.</td>\n    </tr>\n    <tr>\n      <th>9</th>\n      <td>The only crime he committed Was standing up to...</td>\n      <td>0.999450</td>\n      <td>The only a he committed Was standing up to tha...</td>\n    </tr>\n    <tr>\n      <th>10</th>\n      <td>Do less crap, mostly.</td>\n      <td>0.969601</td>\n      <td>Do less now, mostly.</td>\n    </tr>\n    <tr>\n      <th>11</th>\n      <td>Damn It!</td>\n      <td>0.999548</td>\n      <td>I It!</td>\n    </tr>\n    <tr>\n      <th>12</th>\n      <td>Kid, I wouldn't last 5 minutes leading an outf...</td>\n      <td>0.988534</td>\n      <td>Kid, I wouldn't last 5 minutes leading an outf...</td>\n    </tr>\n    <tr>\n      <th>13</th>\n      <td>Your drinking, your gambling, womanizing... bu...</td>\n      <td>0.946188</td>\n      <td>Your drinking, your gambling, womanizing... bu...</td>\n    </tr>\n    <tr>\n      <th>14</th>\n      <td>I told you to bring Malik, not a crybaby.</td>\n      <td>0.935497</td>\n      <td>I told you to bring Malik, havet a crybaby.</td>\n    </tr>\n    <tr>\n      <th>15</th>\n      <td>It reminded me of the ten little niggers of th...</td>\n      <td>0.981818</td>\n      <td>It reminded me of the ten little niggers of th...</td>\n    </tr>\n    <tr>\n      <th>16</th>\n      <td>Should I have let the filthy gre'zu paw me?\"</td>\n      <td>0.786056</td>\n      <td>Should I have let the filthy gre'zu paw me?\"</td>\n    </tr>\n    <tr>\n      <th>17</th>\n      <td>Natasha, go be a whore elsewhere, okay?</td>\n      <td>0.999608</td>\n      <td>Natasha, go be a bride elsewhere, okay?</td>\n    </tr>\n    <tr>\n      <th>18</th>\n      <td>I'll bloody well walk out of here.</td>\n      <td>0.937021</td>\n      <td>I'll good well walk out of here.</td>\n    </tr>\n    <tr>\n      <th>19</th>\n      <td>Walk out the door, get in the car, go home, je...</td>\n      <td>0.998922</td>\n      <td>Walk out the door, get in the car, go home, in...</td>\n    </tr>\n  </tbody>\n</table>\n</div>"
     },
     "execution_count": 5,
     "metadata": {},
     "output_type": "execute_result"
    }
   ],
   "source": [
    "test_df.head(20)"
   ],
   "metadata": {
    "collapsed": false,
    "ExecuteTime": {
     "end_time": "2023-10-29T19:02:18.914860200Z",
     "start_time": "2023-10-29T19:02:18.872319400Z"
    }
   },
   "id": "294798e3d6824a6e"
  },
  {
   "cell_type": "code",
   "execution_count": 6,
   "outputs": [],
   "source": [
    "from tensorflow.keras.models import load_model\n",
    "\n",
    "model = load_model('model.h5')"
   ],
   "metadata": {
    "collapsed": false,
    "ExecuteTime": {
     "end_time": "2023-10-29T19:02:23.479853200Z",
     "start_time": "2023-10-29T19:02:18.897267300Z"
    }
   },
   "id": "5c4b14586c58d77f"
  },
  {
   "cell_type": "code",
   "execution_count": 7,
   "outputs": [],
   "source": [
    "from sklearn.feature_extraction.text import TfidfVectorizer\n",
    "\n",
    "X_test = test_df['translate']\n",
    "tfidf_vectorizer = TfidfVectorizer(max_features=5000, stop_words='english')\n",
    "X_test_tfidf = tfidf_vectorizer.fit_transform(X_test)\n"
   ],
   "metadata": {
    "collapsed": false,
    "ExecuteTime": {
     "end_time": "2023-10-29T19:02:24.105376600Z",
     "start_time": "2023-10-29T19:02:23.483137100Z"
    }
   },
   "id": "7e83a1fa68e2f939"
  },
  {
   "cell_type": "code",
   "execution_count": 8,
   "outputs": [
    {
     "name": "stdout",
     "output_type": "stream",
     "text": [
      "157/157 [==============================] - 0s 2ms/step\n"
     ]
    }
   ],
   "source": [
    "y_pred = model.predict(X_test_tfidf.toarray())"
   ],
   "metadata": {
    "collapsed": false,
    "ExecuteTime": {
     "end_time": "2023-10-29T19:02:24.893450800Z",
     "start_time": "2023-10-29T19:02:24.114351200Z"
    }
   },
   "id": "539dd0b7e9f2de57"
  },
  {
   "cell_type": "code",
   "execution_count": 9,
   "outputs": [],
   "source": [
    "test_df['tr_tox'] = y_pred"
   ],
   "metadata": {
    "collapsed": false,
    "ExecuteTime": {
     "end_time": "2023-10-29T19:02:24.915454600Z",
     "start_time": "2023-10-29T19:02:24.899498100Z"
    }
   },
   "id": "abb0c3a564ba62f1"
  },
  {
   "cell_type": "code",
   "execution_count": 10,
   "outputs": [],
   "source": [
    "test_df['result'] = test_df['ref_tox']-test_df['tr_tox']"
   ],
   "metadata": {
    "collapsed": false,
    "ExecuteTime": {
     "end_time": "2023-10-29T19:02:24.947363200Z",
     "start_time": "2023-10-29T19:02:24.920437200Z"
    }
   },
   "id": "25ec7f7e6aa29187"
  },
  {
   "cell_type": "code",
   "execution_count": 11,
   "outputs": [
    {
     "data": {
      "text/plain": "0       0.812771\n1       0.908717\n2       0.014854\n3       0.031617\n4       0.686573\n          ...   \n4995    0.005859\n4996    0.997694\n4997    0.403971\n4998    0.939531\n4999    0.744535\nName: result, Length: 5000, dtype: float64"
     },
     "execution_count": 11,
     "metadata": {},
     "output_type": "execute_result"
    }
   ],
   "source": [
    "test_df['result']"
   ],
   "metadata": {
    "collapsed": false,
    "ExecuteTime": {
     "end_time": "2023-10-29T19:02:24.948360900Z",
     "start_time": "2023-10-29T19:02:24.931465200Z"
    }
   },
   "id": "45543fb5f646ba3c"
  },
  {
   "cell_type": "code",
   "execution_count": 12,
   "outputs": [
    {
     "data": {
      "text/plain": "<Figure size 600x400 with 1 Axes>",
      "image/png": "[encoded data removed]"
     },
     "metadata": {},
     "output_type": "display_data"
    }
   ],
   "source": [
    "import matplotlib.pyplot as plt\n",
    "\n",
    "result = test_df['result'].tolist()\n",
    "\n",
    "n_bins=120\n",
    "plt.figure(figsize=(6, 4))  # Создаем первый график\n",
    "plt.ylabel('number of examples')\n",
    "plt.xlabel('difference between tox levels')\n",
    "plt.hist(result, bins=n_bins)\n",
    "plt.title('Tox Level Difference')\n",
    "plt.show()"
   ],
   "metadata": {
    "collapsed": false,
    "ExecuteTime": {
     "end_time": "2023-10-29T19:02:25.698112300Z",
     "start_time": "2023-10-29T19:02:24.946366400Z"
    }
   },
   "id": "a836cdbc1731d3ca"
  },
  {
   "cell_type": "code",
   "execution_count": 13,
   "outputs": [],
   "source": [
    "test_df.to_csv('../data/interm/predictVOCAB.csv')"
   ],
   "metadata": {
    "collapsed": false,
    "ExecuteTime": {
     "end_time": "2023-10-29T19:02:25.773123900Z",
     "start_time": "2023-10-29T19:02:25.695121800Z"
    }
   },
   "id": "6e3c1ffe3fe5c37d"
  },
  {
   "cell_type": "code",
   "execution_count": 13,
   "outputs": [],
   "source": [],
   "metadata": {
    "collapsed": false,
    "ExecuteTime": {
     "end_time": "2023-10-29T19:02:25.773123900Z",
     "start_time": "2023-10-29T19:02:25.755958Z"
    }
   },
   "id": "c8b59e17ae9fe0fe"
  }
 ],
 "metadata": {
  "kernelspec": {
   "display_name": "Python 3",
   "language": "python",
   "name": "python3"
  },
  "language_info": {
   "codemirror_mode": {
    "name": "ipython",
    "version": 2
   },
   "file_extension": ".py",
   "mimetype": "text/x-python",
   "name": "python",
   "nbconvert_exporter": "python",
   "pygments_lexer": "ipython2",
   "version": "2.7.6"
  }
 },
 "nbformat": 4,
 "nbformat_minor": 5
}
