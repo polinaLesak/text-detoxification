{
 "cells": [
  {
   "cell_type": "code",
   "execution_count": 2,
   "id": "initial_id",
   "metadata": {
    "collapsed": true,
    "id": "initial_id",
    "ExecuteTime": {
     "end_time": "2023-10-22T19:56:22.882214700Z",
     "start_time": "2023-10-22T19:56:22.570042Z"
    }
   },
   "outputs": [],
   "source": [
    "from src.data.consts import FILE_PATH\n",
    "import pandas as pd\n",
    "import zipfile\n",
    "\n",
    "\n",
    "\n",
    "df = pd.read_csv('../data/interm/preprocessed_filtered.csv')"
   ]
  },
  {
   "cell_type": "code",
   "execution_count": 3,
   "outputs": [],
   "source": [
    "tox_df = df[['reference', 'ref_tox']].copy()\n",
    "tox_df = tox_df[:40000]"
   ],
   "metadata": {
    "id": "f7c7e52b73121f82",
    "ExecuteTime": {
     "end_time": "2023-10-22T19:56:25.249751500Z",
     "start_time": "2023-10-22T19:56:25.225533300Z"
    }
   },
   "id": "f7c7e52b73121f82"
  },
  {
   "cell_type": "code",
   "execution_count": 4,
   "outputs": [
    {
     "data": {
      "text/plain": "                                           reference   ref_tox\n0  'm gon na child ... ... genet disord 's gon na...  0.950956\n1                      main short black peopl back .  0.963680\n2  spirit curs , walk back road , waterway , find...  0.842509\n3  night , li ' l dice satisfi thirst kill , thou...  0.598596\n4            real life start first time fuck , kid .  0.998222",
      "text/html": "<div>\n<style scoped>\n    .dataframe tbody tr th:only-of-type {\n        vertical-align: middle;\n    }\n\n    .dataframe tbody tr th {\n        vertical-align: top;\n    }\n\n    .dataframe thead th {\n        text-align: right;\n    }\n</style>\n<table border=\"1\" class=\"dataframe\">\n  <thead>\n    <tr style=\"text-align: right;\">\n      <th></th>\n      <th>reference</th>\n      <th>ref_tox</th>\n    </tr>\n  </thead>\n  <tbody>\n    <tr>\n      <th>0</th>\n      <td>'m gon na child ... ... genet disord 's gon na...</td>\n      <td>0.950956</td>\n    </tr>\n    <tr>\n      <th>1</th>\n      <td>main short black peopl back .</td>\n      <td>0.963680</td>\n    </tr>\n    <tr>\n      <th>2</th>\n      <td>spirit curs , walk back road , waterway , find...</td>\n      <td>0.842509</td>\n    </tr>\n    <tr>\n      <th>3</th>\n      <td>night , li ' l dice satisfi thirst kill , thou...</td>\n      <td>0.598596</td>\n    </tr>\n    <tr>\n      <th>4</th>\n      <td>real life start first time fuck , kid .</td>\n      <td>0.998222</td>\n    </tr>\n  </tbody>\n</table>\n</div>"
     },
     "execution_count": 4,
     "metadata": {},
     "output_type": "execute_result"
    }
   ],
   "source": [
    "tox_df.head()"
   ],
   "metadata": {
    "id": "9e5daa9ef4788c37",
    "outputId": "f27e2673-273f-4362-cfa4-802fb35d811d",
    "ExecuteTime": {
     "end_time": "2023-10-22T19:56:27.950074600Z",
     "start_time": "2023-10-22T19:56:27.913274800Z"
    }
   },
   "id": "9e5daa9ef4788c37"
  },
  {
   "cell_type": "code",
   "execution_count": 9,
   "outputs": [],
   "source": [
    "from sklearn.model_selection import train_test_split\n",
    "\n",
    "X = tox_df['reference']  # тексты\n",
    "y = tox_df['ref_tox']    # уровни токсичности\n",
    "\n",
    "X_train, X_test, y_train, y_test = train_test_split(X, y, test_size=0.125, random_state=42)\n"
   ],
   "metadata": {
    "id": "31f51e6a916b96ba",
    "ExecuteTime": {
     "end_time": "2023-10-22T19:57:14.736234100Z",
     "start_time": "2023-10-22T19:57:14.697749900Z"
    }
   },
   "id": "31f51e6a916b96ba"
  },
  {
   "cell_type": "code",
   "execution_count": 10,
   "outputs": [],
   "source": [
    "from sklearn.feature_extraction.text import TfidfVectorizer\n",
    "\n",
    "tfidf_vectorizer = TfidfVectorizer(max_features=5000, stop_words='english')\n",
    "X_train_tfidf = tfidf_vectorizer.fit_transform(X_train)\n",
    "X_test_tfidf = tfidf_vectorizer.transform(X_test)\n",
    "X_train_tfidf = X_train_tfidf.astype('float32')\n",
    "\n"
   ],
   "metadata": {
    "id": "8f1469e00d64797c",
    "ExecuteTime": {
     "end_time": "2023-10-22T19:57:18.857982100Z",
     "start_time": "2023-10-22T19:57:18.007536700Z"
    }
   },
   "id": "8f1469e00d64797c"
  },
  {
   "cell_type": "code",
   "execution_count": 11,
   "outputs": [],
   "source": [
    "import tensorflow as tf\n",
    "model = tf.keras.Sequential([\n",
    "    tf.keras.layers.Dense(128, activation='relu', input_shape=(X_train_tfidf.shape[1],)),\n",
    "    tf.keras.layers.Dense(64, activation='relu'),\n",
    "    tf.keras.layers.Dense(1, activation='sigmoid')\n",
    "])\n"
   ],
   "metadata": {
    "id": "fa3164ecbdd1b6cc",
    "ExecuteTime": {
     "end_time": "2023-10-22T19:57:21.555014800Z",
     "start_time": "2023-10-22T19:57:21.499150900Z"
    }
   },
   "id": "fa3164ecbdd1b6cc"
  },
  {
   "cell_type": "code",
   "execution_count": 12,
   "outputs": [],
   "source": [
    "model.compile(optimizer='adam', loss='binary_crossentropy', metrics=['accuracy'])\n"
   ],
   "metadata": {
    "id": "bc4b555777244aa5",
    "ExecuteTime": {
     "end_time": "2023-10-22T19:57:25.941278300Z",
     "start_time": "2023-10-22T19:57:25.899144300Z"
    }
   },
   "id": "bc4b555777244aa5"
  },
  {
   "cell_type": "code",
   "execution_count": 13,
   "outputs": [],
   "source": [
    "train_dataset = tf.data.Dataset.from_tensor_slices((X_train_tfidf.toarray(), y_train))\n",
    "test_dataset = tf.data.Dataset.from_tensor_slices((X_test_tfidf.toarray(), y_test))\n"
   ],
   "metadata": {
    "id": "7a81d05c53790754",
    "ExecuteTime": {
     "end_time": "2023-10-22T19:57:29.194542200Z",
     "start_time": "2023-10-22T19:57:27.991943800Z"
    }
   },
   "id": "7a81d05c53790754"
  },
  {
   "cell_type": "code",
   "execution_count": 14,
   "outputs": [
    {
     "name": "stdout",
     "output_type": "stream",
     "text": [
      "Epoch 1/20\n",
      "1094/1094 [==============================] - 12s 10ms/step - loss: 0.2219 - accuracy: 0.0000e+00 - val_loss: 0.2100 - val_accuracy: 0.0000e+00\n",
      "Epoch 2/20\n",
      "1094/1094 [==============================] - 10s 10ms/step - loss: 0.2037 - accuracy: 0.0000e+00 - val_loss: 0.2122 - val_accuracy: 0.0000e+00\n",
      "Epoch 3/20\n",
      "1094/1094 [==============================] - 10s 9ms/step - loss: 0.1981 - accuracy: 0.0000e+00 - val_loss: 0.2159 - val_accuracy: 0.0000e+00\n",
      "Epoch 4/20\n",
      "1094/1094 [==============================] - 10s 9ms/step - loss: 0.1905 - accuracy: 0.0000e+00 - val_loss: 0.2207 - val_accuracy: 0.0000e+00\n",
      "Epoch 5/20\n",
      "1094/1094 [==============================] - 13s 12ms/step - loss: 0.1826 - accuracy: 0.0000e+00 - val_loss: 0.2260 - val_accuracy: 0.0000e+00\n",
      "Epoch 6/20\n",
      "1094/1094 [==============================] - 14s 13ms/step - loss: 0.1777 - accuracy: 0.0000e+00 - val_loss: 0.2310 - val_accuracy: 0.0000e+00\n",
      "Epoch 7/20\n",
      "1094/1094 [==============================] - 14s 13ms/step - loss: 0.1748 - accuracy: 0.0000e+00 - val_loss: 0.2339 - val_accuracy: 0.0000e+00\n",
      "Epoch 8/20\n",
      "1094/1094 [==============================] - 14s 13ms/step - loss: 0.1728 - accuracy: 0.0000e+00 - val_loss: 0.2362 - val_accuracy: 0.0000e+00\n",
      "Epoch 9/20\n",
      "1094/1094 [==============================] - 14s 13ms/step - loss: 0.1715 - accuracy: 0.0000e+00 - val_loss: 0.2383 - val_accuracy: 0.0000e+00\n",
      "Epoch 10/20\n",
      "1094/1094 [==============================] - 14s 13ms/step - loss: 0.1705 - accuracy: 0.0000e+00 - val_loss: 0.2403 - val_accuracy: 0.0000e+00\n",
      "Epoch 11/20\n",
      "1094/1094 [==============================] - 14s 13ms/step - loss: 0.1699 - accuracy: 0.0000e+00 - val_loss: 0.2304 - val_accuracy: 0.0000e+00\n",
      "Epoch 12/20\n",
      "1094/1094 [==============================] - 14s 12ms/step - loss: 0.1693 - accuracy: 0.0000e+00 - val_loss: 0.2294 - val_accuracy: 0.0000e+00\n",
      "Epoch 13/20\n",
      "1094/1094 [==============================] - 10s 10ms/step - loss: 0.1688 - accuracy: 0.0000e+00 - val_loss: 0.2317 - val_accuracy: 0.0000e+00\n",
      "Epoch 14/20\n",
      "1094/1094 [==============================] - 10s 9ms/step - loss: 0.1683 - accuracy: 0.0000e+00 - val_loss: 0.2383 - val_accuracy: 0.0000e+00\n",
      "Epoch 15/20\n",
      "1094/1094 [==============================] - 10s 9ms/step - loss: 0.1679 - accuracy: 0.0000e+00 - val_loss: 0.2446 - val_accuracy: 0.0000e+00\n",
      "Epoch 16/20\n",
      "1094/1094 [==============================] - 10s 9ms/step - loss: 0.1676 - accuracy: 0.0000e+00 - val_loss: 0.2423 - val_accuracy: 0.0000e+00\n",
      "Epoch 17/20\n",
      "1094/1094 [==============================] - 11s 10ms/step - loss: 0.1675 - accuracy: 0.0000e+00 - val_loss: 0.2367 - val_accuracy: 0.0000e+00\n",
      "Epoch 18/20\n",
      "1094/1094 [==============================] - 10s 9ms/step - loss: 0.1671 - accuracy: 0.0000e+00 - val_loss: 0.2332 - val_accuracy: 0.0000e+00\n",
      "Epoch 19/20\n",
      "1094/1094 [==============================] - 11s 10ms/step - loss: 0.1667 - accuracy: 0.0000e+00 - val_loss: 0.2349 - val_accuracy: 0.0000e+00\n",
      "Epoch 20/20\n",
      "1094/1094 [==============================] - 14s 13ms/step - loss: 0.1665 - accuracy: 0.0000e+00 - val_loss: 0.2373 - val_accuracy: 0.0000e+00\n"
     ]
    },
    {
     "data": {
      "text/plain": "<keras.src.callbacks.History at 0x23084963b80>"
     },
     "execution_count": 14,
     "metadata": {},
     "output_type": "execute_result"
    }
   ],
   "source": [
    "batch_size = 32\n",
    "epochs = 20\n",
    "\n",
    "model.fit(train_dataset.batch(batch_size), epochs=epochs, validation_data=test_dataset.batch(batch_size))"
   ],
   "metadata": {
    "id": "59b6bfd3fa80cc0e",
    "outputId": "183053c0-8b8d-4799-8565-72552dbc3158",
    "ExecuteTime": {
     "end_time": "2023-10-22T20:01:34.596391700Z",
     "start_time": "2023-10-22T19:57:31.539799100Z"
    }
   },
   "id": "59b6bfd3fa80cc0e"
  },
  {
   "cell_type": "code",
   "execution_count": 15,
   "outputs": [
    {
     "name": "stdout",
     "output_type": "stream",
     "text": [
      "157/157 [==============================] - 1s 3ms/step\n"
     ]
    }
   ],
   "source": [
    "y_pred = model.predict(X_test_tfidf.toarray())"
   ],
   "metadata": {
    "id": "1ffbd2fb3d4e3dec",
    "outputId": "6e53efe9-43f8-442f-c0e4-4c1254863c0f",
    "ExecuteTime": {
     "end_time": "2023-10-22T20:01:53.353113200Z",
     "start_time": "2023-10-22T20:01:52.028033Z"
    }
   },
   "id": "1ffbd2fb3d4e3dec"
  },
  {
   "cell_type": "code",
   "execution_count": 16,
   "outputs": [
    {
     "name": "stdout",
     "output_type": "stream",
     "text": [
      "Accuracy: 1.00\n"
     ]
    }
   ],
   "source": [
    "from sklearn.metrics import accuracy_score\n",
    "\n",
    "# Преобразуйте истинные метки тестовых данных в бинарный формат, если они не таковы\n",
    "y_test_binary = (y_test > 0.5).astype(int)\n",
    "y_pred_binary = (y_pred > 0.5).astype(int)\n",
    "\n",
    "\n",
    "# Оцените точность\n",
    "accuracy = accuracy_score(y_test_binary, y_pred_binary)\n",
    "print(f'Accuracy: {accuracy:.2f}')\n"
   ],
   "metadata": {
    "id": "62c125ac664323a0",
    "outputId": "31ac3cc7-7646-4a7f-f338-1221d1f3be6a",
    "ExecuteTime": {
     "end_time": "2023-10-22T20:01:58.444306100Z",
     "start_time": "2023-10-22T20:01:58.423923Z"
    }
   },
   "id": "62c125ac664323a0"
  },
  {
   "cell_type": "code",
   "execution_count": 17,
   "outputs": [
    {
     "name": "stderr",
     "output_type": "stream",
     "text": [
      "C:\\Users\\lesak\\AppData\\Local\\Programs\\Python\\Python39\\lib\\site-packages\\keras\\src\\engine\\training.py:3079: UserWarning: You are saving your model as an HDF5 file via `model.save()`. This file format is considered legacy. We recommend using instead the native Keras format, e.g. `model.save('my_model.keras')`.\n",
      "  saving_api.save_model(\n"
     ]
    }
   ],
   "source": [
    "# Экспортируйте модель в файл\n",
    "model.save('model.h5')"
   ],
   "metadata": {
    "id": "5d70eab42f80628a",
    "ExecuteTime": {
     "end_time": "2023-10-22T20:02:04.192845100Z",
     "start_time": "2023-10-22T20:02:04.146799400Z"
    }
   },
   "id": "5d70eab42f80628a"
  }
 ],
 "metadata": {
  "kernelspec": {
   "display_name": "Python 3",
   "language": "python",
   "name": "python3"
  },
  "language_info": {
   "codemirror_mode": {
    "name": "ipython",
    "version": 2
   },
   "file_extension": ".py",
   "mimetype": "text/x-python",
   "name": "python",
   "nbconvert_exporter": "python",
   "pygments_lexer": "ipython2",
   "version": "2.7.6"
  },
  "colab": {
   "provenance": []
  }
 },
 "nbformat": 4,
 "nbformat_minor": 5
}
