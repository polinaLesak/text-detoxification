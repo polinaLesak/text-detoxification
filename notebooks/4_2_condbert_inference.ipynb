{
 "cells": [
  {
   "cell_type": "markdown",
   "metadata": {},
   "source": [
    "This notebook"
   ]
  },
  {
   "cell_type": "code",
   "execution_count": 45,
   "metadata": {
    "ExecuteTime": {
     "end_time": "2023-10-29T16:13:24.670982400Z",
     "start_time": "2023-10-29T16:13:24.652102100Z"
    }
   },
   "outputs": [
    {
     "name": "stdout",
     "output_type": "stream",
     "text": [
      "D:\\innopolis\\PMLDL\\text-detoxification\\models\n"
     ]
    }
   ],
   "source": [
    "import os\n",
    "import sys\n"
   ]
  },
  {
   "cell_type": "code",
   "execution_count": 46,
   "metadata": {
    "ExecuteTime": {
     "end_time": "2023-10-29T16:13:26.560562600Z",
     "start_time": "2023-10-29T16:13:26.535630500Z"
    }
   },
   "outputs": [],
   "source": [
    "os.environ['CUDA_VISIBLE_DEVICES'] = '0'"
   ]
  },
  {
   "cell_type": "code",
   "execution_count": 49,
   "metadata": {
    "ExecuteTime": {
     "end_time": "2023-10-29T16:13:36.889199800Z",
     "start_time": "2023-10-29T16:13:36.868231800Z"
    }
   },
   "outputs": [],
   "source": [
    "import torch\n",
    "from transformers import BertTokenizer, BertForMaskedLM\n",
    "import numpy as np\n"
   ]
  },
  {
   "cell_type": "code",
   "execution_count": 50,
   "metadata": {
    "ExecuteTime": {
     "end_time": "2023-10-29T16:13:38.122215700Z",
     "start_time": "2023-10-29T16:13:38.088223800Z"
    }
   },
   "outputs": [],
   "source": [
    "device = torch.device('cpu')"
   ]
  },
  {
   "cell_type": "markdown",
   "metadata": {},
   "source": [
    "### Load the model"
   ]
  },
  {
   "cell_type": "code",
   "execution_count": 51,
   "metadata": {
    "ExecuteTime": {
     "end_time": "2023-10-29T16:13:41.261551700Z",
     "start_time": "2023-10-29T16:13:40.447625900Z"
    }
   },
   "outputs": [],
   "source": [
    "model_name = 'bert-base-uncased'\n",
    "tokenizer = BertTokenizer.from_pretrained(model_name)"
   ]
  },
  {
   "cell_type": "code",
   "execution_count": 62,
   "metadata": {
    "ExecuteTime": {
     "end_time": "2023-10-29T16:17:19.935053900Z",
     "start_time": "2023-10-29T16:17:17.365937700Z"
    }
   },
   "outputs": [
    {
     "name": "stderr",
     "output_type": "stream",
     "text": [
      "Some weights of the model checkpoint at bert-base-uncased were not used when initializing BertForMaskedLM: ['bert.pooler.dense.weight', 'cls.seq_relationship.bias', 'bert.pooler.dense.bias', 'cls.seq_relationship.weight']\n",
      "- This IS expected if you are initializing BertForMaskedLM from the checkpoint of a model trained on another task or with another architecture (e.g. initializing a BertForSequenceClassification model from a BertForPreTraining model).\n",
      "- This IS NOT expected if you are initializing BertForMaskedLM from the checkpoint of a model that you expect to be exactly identical (initializing a BertForSequenceClassification model from a BertForSequenceClassification model).\n"
     ]
    }
   ],
   "source": [
    "model = BertForMaskedLM.from_pretrained(model_name)"
   ]
  },
  {
   "cell_type": "code",
   "execution_count": 63,
   "metadata": {
    "ExecuteTime": {
     "end_time": "2023-10-29T16:17:22.167847400Z",
     "start_time": "2023-10-29T16:17:22.154842500Z"
    }
   },
   "outputs": [],
   "source": [
    "model.to(device);"
   ]
  },
  {
   "cell_type": "markdown",
   "metadata": {},
   "source": [
    "#### Load vocabularies for spans detection"
   ]
  },
  {
   "cell_type": "code",
   "execution_count": 53,
   "metadata": {
    "ExecuteTime": {
     "end_time": "2023-10-29T16:13:48.364818800Z",
     "start_time": "2023-10-29T16:13:48.351855300Z"
    }
   },
   "outputs": [],
   "source": [
    "vocab_root = '../data/interm/vocab/'"
   ]
  },
  {
   "cell_type": "code",
   "execution_count": 54,
   "metadata": {
    "ExecuteTime": {
     "end_time": "2023-10-29T16:13:50.181943700Z",
     "start_time": "2023-10-29T16:13:50.147655600Z"
    }
   },
   "outputs": [],
   "source": [
    "with open(vocab_root + \"negative-words.txt\", \"r\") as f:\n",
    "    s = f.readlines()\n",
    "negative_words = list(map(lambda x: x[:-1], s))\n",
    "with open(vocab_root + \"toxic_words.txt\", \"r\") as f:\n",
    "    ss = f.readlines()\n",
    "negative_words += list(map(lambda x: x[:-1], ss))\n",
    "\n",
    "with open(vocab_root + \"positive-words.txt\", \"r\") as f:\n",
    "    s = f.readlines()\n",
    "positive_words = list(map(lambda x: x[:-1], s))"
   ]
  },
  {
   "cell_type": "code",
   "execution_count": 55,
   "metadata": {
    "ExecuteTime": {
     "end_time": "2023-10-29T16:13:52.380448300Z",
     "start_time": "2023-10-29T16:13:52.315888600Z"
    }
   },
   "outputs": [],
   "source": [
    "import pickle\n",
    "with open(vocab_root + 'word2coef.pkl', 'rb') as f:\n",
    "    word2coef = pickle.load(f)"
   ]
  },
  {
   "cell_type": "code",
   "execution_count": 56,
   "metadata": {
    "ExecuteTime": {
     "end_time": "2023-10-29T16:13:54.420612200Z",
     "start_time": "2023-10-29T16:13:54.378721400Z"
    }
   },
   "outputs": [],
   "source": [
    "token_toxicities = []\n",
    "with open(vocab_root + 'token_toxicities.txt', 'r') as f:\n",
    "    for line in f.readlines():\n",
    "        token_toxicities.append(float(line))\n",
    "token_toxicities = np.array(token_toxicities)\n",
    "token_toxicities = np.maximum(0, np.log(1/(1/token_toxicities-1)))   # log odds ratio\n",
    "\n",
    "# discourage meaningless tokens\n",
    "for tok in ['.', ',', '-']:\n",
    "    token_toxicities[tokenizer.encode(tok)][1] = 3\n",
    "\n",
    "for tok in ['you']:\n",
    "    token_toxicities[tokenizer.encode(tok)][1] = 0"
   ]
  },
  {
   "cell_type": "markdown",
   "metadata": {},
   "source": [
    "### Applying the model"
   ]
  },
  {
   "cell_type": "code",
   "execution_count": 64,
   "metadata": {
    "ExecuteTime": {
     "end_time": "2023-10-29T16:17:29.789059700Z",
     "start_time": "2023-10-29T16:17:28.286182100Z"
    }
   },
   "outputs": [],
   "source": [
    "from models.condbert import CondBertRewriter\n",
    "\n",
    "editor = CondBertRewriter(\n",
    "    model=model,\n",
    "    tokenizer=tokenizer,\n",
    "    device=device,\n",
    "    neg_words=negative_words,\n",
    "    pos_words=positive_words,\n",
    "    word2coef=word2coef,\n",
    "    token_toxicities=token_toxicities,\n",
    ")"
   ]
  },
  {
   "cell_type": "code",
   "execution_count": 65,
   "metadata": {
    "ExecuteTime": {
     "end_time": "2023-10-29T16:17:31.895120900Z",
     "start_time": "2023-10-29T16:17:31.827252500Z"
    }
   },
   "outputs": [
    {
     "name": "stdout",
     "output_type": "stream",
     "text": [
      "you are an the !\n"
     ]
    }
   ],
   "source": [
    "print(editor.translate('You are an idiot!', prnt=False))"
   ]
  },
  {
   "cell_type": "code",
   "execution_count": 166,
   "outputs": [],
   "source": [
    "import pandas as pd\n",
    "filtered_df = pd.read_csv(\"../data/interm/test.csv\", index_col=None)\n"
   ],
   "metadata": {
    "collapsed": false,
    "ExecuteTime": {
     "end_time": "2023-10-29T17:58:44.498193800Z",
     "start_time": "2023-10-29T17:58:44.425782300Z"
    }
   }
  },
  {
   "cell_type": "code",
   "execution_count": 167,
   "outputs": [],
   "source": [
    "def translate_reference(row):\n",
    "    return editor.translate(row, prnt=False)"
   ],
   "metadata": {
    "collapsed": false,
    "ExecuteTime": {
     "end_time": "2023-10-29T17:59:54.223716900Z",
     "start_time": "2023-10-29T17:59:54.188291900Z"
    }
   }
  },
  {
   "cell_type": "code",
   "execution_count": 168,
   "outputs": [],
   "source": [
    "\n",
    "filtered_df['translate'] = filtered_df['reference'].apply(translate_reference)"
   ],
   "metadata": {
    "collapsed": false,
    "ExecuteTime": {
     "end_time": "2023-10-29T18:05:52.310486600Z",
     "start_time": "2023-10-29T17:59:55.984049100Z"
    }
   }
  },
  {
   "cell_type": "code",
   "execution_count": 169,
   "outputs": [
    {
     "data": {
      "text/plain": "                                            reference   ref_tox  \\\n0   They're all laughing at us, so we'll kick your...  0.999492   \n1                Come on, Cal, leave that shit alone.  0.999637   \n2                                   I like that shit.  0.999594   \n3   How is this not porn? This is porn that comes ...  0.933948   \n4   Now, I understand you got your grievances with...  0.999603   \n5           I'll rot in front of his cameras, on him.  0.987824   \n6   Tell him if Elena doesn't pick up the phone, w...  0.995638   \n7   You wanna know why? if anything happens that's...  0.938261   \n8             You must've been pissed. Damn straight.  0.991549   \n9   The only crime he committed Was standing up to...  0.999450   \n10                              Do less crap, mostly.  0.969601   \n11                                           Damn It!  0.999548   \n12  Kid, I wouldn't last 5 minutes leading an outf...  0.988534   \n13  Your drinking, your gambling, womanizing... bu...  0.946188   \n14          I told you to bring Malik, not a crybaby.  0.935497   \n15  It reminded me of the ten little niggers of th...  0.981818   \n16       Should I have let the filthy gre'zu paw me?\"  0.786056   \n17            Natasha, go be a whore elsewhere, okay?  0.999608   \n18                 I'll bloody well walk out of here.  0.937021   \n19  Walk out the door, get in the car, go home, je...  0.998922   \n\n                                            translate  \n0   they ' re all laughing at us , so we ' ll kick...  \n1            come on , cal , leave that stuff alone .  \n2                                 i like that stuff .  \n3   how is this not pornography ? this is pornogra...  \n4   now , i understand you got your side of issues...  \n5        i ' ll be in front of his cameras , on him .  \n6   tell him if elena doesn ' t pick up the phone ...  \n7   i know know why ? if anything happens that ' s...  \n8            you must ' ve been there . of straight .  \n9   the only crime he committed was standing up to...  \n10                           do less stuff , mostly .  \n11                                             . it !  \n12  kid , i wouldn ' t last 5 minutes leading an o...  \n13  the drinking , your gambling , theage . . . bu...  \n14    i told you to bring malik , not a bride dobie .  \n15  it reminded me of the ten little ny tokens of ...  \n16        should i have let the ' gre ' zu paw me ? \"  \n17            natasha , go be a th elsewhere , okay ?  \n18                i ' ll very well walk out of here .  \n19  walk out the door , get in the car , go home ,...  ",
      "text/html": "<div>\n<style scoped>\n    .dataframe tbody tr th:only-of-type {\n        vertical-align: middle;\n    }\n\n    .dataframe tbody tr th {\n        vertical-align: top;\n    }\n\n    .dataframe thead th {\n        text-align: right;\n    }\n</style>\n<table border=\"1\" class=\"dataframe\">\n  <thead>\n    <tr style=\"text-align: right;\">\n      <th></th>\n      <th>reference</th>\n      <th>ref_tox</th>\n      <th>translate</th>\n    </tr>\n  </thead>\n  <tbody>\n    <tr>\n      <th>0</th>\n      <td>They're all laughing at us, so we'll kick your...</td>\n      <td>0.999492</td>\n      <td>they ' re all laughing at us , so we ' ll kick...</td>\n    </tr>\n    <tr>\n      <th>1</th>\n      <td>Come on, Cal, leave that shit alone.</td>\n      <td>0.999637</td>\n      <td>come on , cal , leave that stuff alone .</td>\n    </tr>\n    <tr>\n      <th>2</th>\n      <td>I like that shit.</td>\n      <td>0.999594</td>\n      <td>i like that stuff .</td>\n    </tr>\n    <tr>\n      <th>3</th>\n      <td>How is this not porn? This is porn that comes ...</td>\n      <td>0.933948</td>\n      <td>how is this not pornography ? this is pornogra...</td>\n    </tr>\n    <tr>\n      <th>4</th>\n      <td>Now, I understand you got your grievances with...</td>\n      <td>0.999603</td>\n      <td>now , i understand you got your side of issues...</td>\n    </tr>\n    <tr>\n      <th>5</th>\n      <td>I'll rot in front of his cameras, on him.</td>\n      <td>0.987824</td>\n      <td>i ' ll be in front of his cameras , on him .</td>\n    </tr>\n    <tr>\n      <th>6</th>\n      <td>Tell him if Elena doesn't pick up the phone, w...</td>\n      <td>0.995638</td>\n      <td>tell him if elena doesn ' t pick up the phone ...</td>\n    </tr>\n    <tr>\n      <th>7</th>\n      <td>You wanna know why? if anything happens that's...</td>\n      <td>0.938261</td>\n      <td>i know know why ? if anything happens that ' s...</td>\n    </tr>\n    <tr>\n      <th>8</th>\n      <td>You must've been pissed. Damn straight.</td>\n      <td>0.991549</td>\n      <td>you must ' ve been there . of straight .</td>\n    </tr>\n    <tr>\n      <th>9</th>\n      <td>The only crime he committed Was standing up to...</td>\n      <td>0.999450</td>\n      <td>the only crime he committed was standing up to...</td>\n    </tr>\n    <tr>\n      <th>10</th>\n      <td>Do less crap, mostly.</td>\n      <td>0.969601</td>\n      <td>do less stuff , mostly .</td>\n    </tr>\n    <tr>\n      <th>11</th>\n      <td>Damn It!</td>\n      <td>0.999548</td>\n      <td>. it !</td>\n    </tr>\n    <tr>\n      <th>12</th>\n      <td>Kid, I wouldn't last 5 minutes leading an outf...</td>\n      <td>0.988534</td>\n      <td>kid , i wouldn ' t last 5 minutes leading an o...</td>\n    </tr>\n    <tr>\n      <th>13</th>\n      <td>Your drinking, your gambling, womanizing... bu...</td>\n      <td>0.946188</td>\n      <td>the drinking , your gambling , theage . . . bu...</td>\n    </tr>\n    <tr>\n      <th>14</th>\n      <td>I told you to bring Malik, not a crybaby.</td>\n      <td>0.935497</td>\n      <td>i told you to bring malik , not a bride dobie .</td>\n    </tr>\n    <tr>\n      <th>15</th>\n      <td>It reminded me of the ten little niggers of th...</td>\n      <td>0.981818</td>\n      <td>it reminded me of the ten little ny tokens of ...</td>\n    </tr>\n    <tr>\n      <th>16</th>\n      <td>Should I have let the filthy gre'zu paw me?\"</td>\n      <td>0.786056</td>\n      <td>should i have let the ' gre ' zu paw me ? \"</td>\n    </tr>\n    <tr>\n      <th>17</th>\n      <td>Natasha, go be a whore elsewhere, okay?</td>\n      <td>0.999608</td>\n      <td>natasha , go be a th elsewhere , okay ?</td>\n    </tr>\n    <tr>\n      <th>18</th>\n      <td>I'll bloody well walk out of here.</td>\n      <td>0.937021</td>\n      <td>i ' ll very well walk out of here .</td>\n    </tr>\n    <tr>\n      <th>19</th>\n      <td>Walk out the door, get in the car, go home, je...</td>\n      <td>0.998922</td>\n      <td>walk out the door , get in the car , go home ,...</td>\n    </tr>\n  </tbody>\n</table>\n</div>"
     },
     "execution_count": 169,
     "metadata": {},
     "output_type": "execute_result"
    }
   ],
   "source": [
    "filtered_df.head(20)"
   ],
   "metadata": {
    "collapsed": false,
    "ExecuteTime": {
     "end_time": "2023-10-29T18:05:52.391675100Z",
     "start_time": "2023-10-29T18:05:52.315322200Z"
    }
   }
  },
  {
   "cell_type": "markdown",
   "metadata": {},
   "source": [
    "# Reproduction"
   ]
  },
  {
   "cell_type": "code",
   "execution_count": 170,
   "metadata": {
    "ExecuteTime": {
     "end_time": "2023-10-29T18:08:07.882806900Z",
     "start_time": "2023-10-29T18:08:07.746094100Z"
    }
   },
   "outputs": [],
   "source": [
    "from tensorflow.keras.models import load_model\n",
    "\n",
    "model = load_model('model.h5')"
   ]
  },
  {
   "cell_type": "code",
   "execution_count": 171,
   "outputs": [],
   "source": [
    "from sklearn.feature_extraction.text import TfidfVectorizer\n",
    "\n",
    "X_test = filtered_df['translate']\n",
    "tfidf_vectorizer = TfidfVectorizer(max_features=5000, stop_words='english')\n",
    "X_test_tfidf = tfidf_vectorizer.fit_transform(X_test)\n"
   ],
   "metadata": {
    "collapsed": false,
    "ExecuteTime": {
     "end_time": "2023-10-29T18:08:09.227944Z",
     "start_time": "2023-10-29T18:08:09.137517300Z"
    }
   }
  },
  {
   "cell_type": "code",
   "execution_count": 172,
   "outputs": [
    {
     "name": "stdout",
     "output_type": "stream",
     "text": [
      "157/157 [==============================] - 1s 3ms/step\n"
     ]
    }
   ],
   "source": [
    "y_pred = model.predict(X_test_tfidf.toarray())"
   ],
   "metadata": {
    "collapsed": false,
    "ExecuteTime": {
     "end_time": "2023-10-29T18:08:13.831684500Z",
     "start_time": "2023-10-29T18:08:11.920410300Z"
    }
   }
  },
  {
   "cell_type": "code",
   "execution_count": 173,
   "outputs": [],
   "source": [
    "filtered_df['tr_tox'] = y_pred"
   ],
   "metadata": {
    "collapsed": false,
    "ExecuteTime": {
     "end_time": "2023-10-29T18:08:15.608427900Z",
     "start_time": "2023-10-29T18:08:15.544598Z"
    }
   }
  },
  {
   "cell_type": "code",
   "execution_count": 174,
   "outputs": [],
   "source": [
    "filtered_df['result'] = filtered_df['ref_tox']-filtered_df['tr_tox']"
   ],
   "metadata": {
    "collapsed": false,
    "ExecuteTime": {
     "end_time": "2023-10-29T18:08:20.174563600Z",
     "start_time": "2023-10-29T18:08:20.134895500Z"
    }
   }
  },
  {
   "cell_type": "code",
   "execution_count": 105,
   "outputs": [
    {
     "data": {
      "text/plain": "0       0.994501\n1       0.001067\n2       0.182244\n3      -0.028217\n4       0.978085\n          ...   \n4995    0.117209\n4996    0.999130\n4997    0.650062\n4998    0.129239\n4999    0.619335\nName: result, Length: 5000, dtype: float64"
     },
     "execution_count": 105,
     "metadata": {},
     "output_type": "execute_result"
    }
   ],
   "source": [
    "filtered_df['result']"
   ],
   "metadata": {
    "collapsed": false,
    "ExecuteTime": {
     "end_time": "2023-10-29T17:02:25.109932900Z",
     "start_time": "2023-10-29T17:02:25.088429100Z"
    }
   }
  },
  {
   "cell_type": "code",
   "execution_count": 106,
   "outputs": [
    {
     "data": {
      "text/plain": "<Figure size 600x400 with 1 Axes>",
      "image/png": "[encoded data removed]"
     },
     "metadata": {},
     "output_type": "display_data"
    }
   ],
   "source": [
    "import matplotlib.pyplot as plt\n",
    "\n",
    "result = filtered_df['result'].tolist()\n",
    "\n",
    "n_bins=120\n",
    "plt.figure(figsize=(6, 4))  # Создаем первый график\n",
    "plt.ylabel('number of examples')\n",
    "plt.xlabel('difference between tox levels')\n",
    "plt.hist(result, bins=n_bins)\n",
    "plt.title('Tox Level Difference')\n",
    "plt.show()"
   ],
   "metadata": {
    "collapsed": false,
    "ExecuteTime": {
     "end_time": "2023-10-29T17:02:25.427758500Z",
     "start_time": "2023-10-29T17:02:25.106940600Z"
    }
   }
  },
  {
   "cell_type": "code",
   "execution_count": 176,
   "outputs": [],
   "source": [
    "filtered_df.to_csv('../data/interm/predictBERT.csv')"
   ],
   "metadata": {
    "collapsed": false,
    "ExecuteTime": {
     "end_time": "2023-10-29T18:08:35.240733900Z",
     "start_time": "2023-10-29T18:08:35.170108200Z"
    }
   }
  }
 ],
 "metadata": {
  "kernelspec": {
   "display_name": "Python 3 (ipykernel)",
   "language": "python",
   "name": "python3"
  },
  "language_info": {
   "codemirror_mode": {
    "name": "ipython",
    "version": 3
   },
   "file_extension": ".py",
   "mimetype": "text/x-python",
   "name": "python",
   "nbconvert_exporter": "python",
   "pygments_lexer": "ipython3",
   "version": "3.9.6"
  }
 },
 "nbformat": 4,
 "nbformat_minor": 4
}
