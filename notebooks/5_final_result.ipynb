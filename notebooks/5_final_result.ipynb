{
 "cells": [
  {
   "cell_type": "code",
   "execution_count": 2,
   "id": "initial_id",
   "metadata": {
    "collapsed": true,
    "ExecuteTime": {
     "end_time": "2023-10-29T19:19:02.488749300Z",
     "start_time": "2023-10-29T19:19:01.572031700Z"
    }
   },
   "outputs": [],
   "source": [
    "import pandas as pd\n",
    "filtered_df = pd.read_csv(\"../data/interm/predictBERT.csv\", index_col=None)\n",
    "test_df = pd.read_csv(\"../data/interm/predictVOCAB.csv\", index_col=None)"
   ]
  },
  {
   "cell_type": "code",
   "execution_count": 3,
   "outputs": [],
   "source": [
    "combined_df = pd.concat([filtered_df, test_df])\n",
    "combined_df = combined_df.sort_values(by='tr_tox')\n",
    "unique_combined_df = combined_df.drop_duplicates(subset='reference', keep='first')\n",
    "unique_combined_df = unique_combined_df.sort_values(by=unique_combined_df.columns[0])"
   ],
   "metadata": {
    "collapsed": false,
    "ExecuteTime": {
     "end_time": "2023-10-29T19:19:02.933097700Z",
     "start_time": "2023-10-29T19:19:02.873742900Z"
    }
   },
   "id": "7522ad1335885d21"
  },
  {
   "cell_type": "code",
   "execution_count": 19,
   "outputs": [
    {
     "data": {
      "text/plain": "   Unnamed: 0                                          reference   ref_tox  \\\n0           0  They're all laughing at us, so we'll kick your...  0.999492   \n1           1               Come on, Cal, leave that shit alone.  0.999637   \n2           2                                  I like that shit.  0.999594   \n3           3  How is this not porn? This is porn that comes ...  0.933948   \n4           4  Now, I understand you got your grievances with...  0.999603   \n\n                                           translate    tr_tox    result  \n0  they ' re all laughing at us , so we ' ll kick...  0.004992  0.994501  \n1                      Come on, Cal, your that . of.  0.090920  0.908717  \n2                                i like that stuff .  0.817350  0.182244  \n3  How is this havet porn? This is porn that come...  0.902331  0.031617  \n4  now , i understand you got your side of issues...  0.021518  0.978085  ",
      "text/html": "<div>\n<style scoped>\n    .dataframe tbody tr th:only-of-type {\n        vertical-align: middle;\n    }\n\n    .dataframe tbody tr th {\n        vertical-align: top;\n    }\n\n    .dataframe thead th {\n        text-align: right;\n    }\n</style>\n<table border=\"1\" class=\"dataframe\">\n  <thead>\n    <tr style=\"text-align: right;\">\n      <th></th>\n      <th>Unnamed: 0</th>\n      <th>reference</th>\n      <th>ref_tox</th>\n      <th>translate</th>\n      <th>tr_tox</th>\n      <th>result</th>\n    </tr>\n  </thead>\n  <tbody>\n    <tr>\n      <th>0</th>\n      <td>0</td>\n      <td>They're all laughing at us, so we'll kick your...</td>\n      <td>0.999492</td>\n      <td>they ' re all laughing at us , so we ' ll kick...</td>\n      <td>0.004992</td>\n      <td>0.994501</td>\n    </tr>\n    <tr>\n      <th>1</th>\n      <td>1</td>\n      <td>Come on, Cal, leave that shit alone.</td>\n      <td>0.999637</td>\n      <td>Come on, Cal, your that . of.</td>\n      <td>0.090920</td>\n      <td>0.908717</td>\n    </tr>\n    <tr>\n      <th>2</th>\n      <td>2</td>\n      <td>I like that shit.</td>\n      <td>0.999594</td>\n      <td>i like that stuff .</td>\n      <td>0.817350</td>\n      <td>0.182244</td>\n    </tr>\n    <tr>\n      <th>3</th>\n      <td>3</td>\n      <td>How is this not porn? This is porn that comes ...</td>\n      <td>0.933948</td>\n      <td>How is this havet porn? This is porn that come...</td>\n      <td>0.902331</td>\n      <td>0.031617</td>\n    </tr>\n    <tr>\n      <th>4</th>\n      <td>4</td>\n      <td>Now, I understand you got your grievances with...</td>\n      <td>0.999603</td>\n      <td>now , i understand you got your side of issues...</td>\n      <td>0.021518</td>\n      <td>0.978085</td>\n    </tr>\n  </tbody>\n</table>\n</div>"
     },
     "execution_count": 19,
     "metadata": {},
     "output_type": "execute_result"
    }
   ],
   "source": [
    "unique_combined_df.head()"
   ],
   "metadata": {
    "collapsed": false,
    "ExecuteTime": {
     "end_time": "2023-10-29T18:08:54.005958400Z",
     "start_time": "2023-10-29T18:08:53.963478Z"
    }
   },
   "id": "318e13dcf1fddec2"
  },
  {
   "cell_type": "code",
   "execution_count": 21,
   "outputs": [
    {
     "data": {
      "text/plain": "<Figure size 600x400 with 1 Axes>",
      "image/png": "[encoded data removed]"
     },
     "metadata": {},
     "output_type": "display_data"
    }
   ],
   "source": [
    "import matplotlib.pyplot as plt\n",
    "\n",
    "result = unique_combined_df['result'].tolist()\n",
    "\n",
    "n_bins=120\n",
    "plt.figure(figsize=(6, 4))  # Создаем первый график\n",
    "plt.ylabel('number of examples')\n",
    "plt.xlabel('difference between tox levels')\n",
    "plt.hist(result, bins=n_bins)\n",
    "plt.title('Tox Level Difference')\n",
    "plt.show()"
   ],
   "metadata": {
    "collapsed": false,
    "ExecuteTime": {
     "end_time": "2023-10-29T18:22:54.787231700Z",
     "start_time": "2023-10-29T18:22:54.473855Z"
    }
   },
   "id": "1678f6c721ec05ad"
  },
  {
   "cell_type": "code",
   "execution_count": 23,
   "outputs": [],
   "source": [
    "average_value = unique_combined_df['tr_tox'].mean()"
   ],
   "metadata": {
    "collapsed": false,
    "ExecuteTime": {
     "end_time": "2023-10-29T18:24:00.634532900Z",
     "start_time": "2023-10-29T18:24:00.598537400Z"
    }
   },
   "id": "81c0060cd530b8ff"
  },
  {
   "cell_type": "code",
   "execution_count": 24,
   "outputs": [
    {
     "data": {
      "text/plain": "0.1611286334046707"
     },
     "execution_count": 24,
     "metadata": {},
     "output_type": "execute_result"
    }
   ],
   "source": [
    "average_value"
   ],
   "metadata": {
    "collapsed": false,
    "ExecuteTime": {
     "end_time": "2023-10-29T18:24:07.066328100Z",
     "start_time": "2023-10-29T18:24:06.926582Z"
    }
   },
   "id": "12ffa446b8ca0db5"
  },
  {
   "cell_type": "code",
   "execution_count": 25,
   "outputs": [],
   "source": [
    "av_bert = filtered_df['tr_tox'].mean()"
   ],
   "metadata": {
    "collapsed": false,
    "ExecuteTime": {
     "end_time": "2023-10-29T18:25:04.319943200Z",
     "start_time": "2023-10-29T18:25:04.287912300Z"
    }
   },
   "id": "b11bf09da0d7c781"
  },
  {
   "cell_type": "code",
   "execution_count": 26,
   "outputs": [
    {
     "data": {
      "text/plain": "0.34245436556839703"
     },
     "execution_count": 26,
     "metadata": {},
     "output_type": "execute_result"
    }
   ],
   "source": [
    "av_bert"
   ],
   "metadata": {
    "collapsed": false,
    "ExecuteTime": {
     "end_time": "2023-10-29T18:25:11.484841500Z",
     "start_time": "2023-10-29T18:25:11.422093600Z"
    }
   },
   "id": "cfd7e5ce8ec0a38a"
  },
  {
   "cell_type": "code",
   "execution_count": 29,
   "outputs": [],
   "source": [
    "av_vocab = test_df['tr_tox'].mean()"
   ],
   "metadata": {
    "collapsed": false,
    "ExecuteTime": {
     "end_time": "2023-10-29T18:25:43.054072300Z",
     "start_time": "2023-10-29T18:25:43.017835100Z"
    }
   },
   "id": "a80cbca0eda11071"
  },
  {
   "cell_type": "code",
   "execution_count": 30,
   "outputs": [
    {
     "data": {
      "text/plain": "0.3538098135593847"
     },
     "execution_count": 30,
     "metadata": {},
     "output_type": "execute_result"
    }
   ],
   "source": [
    "av_vocab"
   ],
   "metadata": {
    "collapsed": false,
    "ExecuteTime": {
     "end_time": "2023-10-29T18:25:49.894247400Z",
     "start_time": "2023-10-29T18:25:49.855918700Z"
    }
   },
   "id": "c5bae6455a81bd0a"
  },
  {
   "cell_type": "code",
   "execution_count": 4,
   "outputs": [],
   "source": [
    "unique_combined_df.to_csv(\"../data/external/result.csv\")"
   ],
   "metadata": {
    "collapsed": false,
    "ExecuteTime": {
     "end_time": "2023-10-29T19:19:10.350397900Z",
     "start_time": "2023-10-29T19:19:10.294923500Z"
    }
   },
   "id": "8b3b45bfb99056e6"
  }
 ],
 "metadata": {
  "kernelspec": {
   "display_name": "Python 3",
   "language": "python",
   "name": "python3"
  },
  "language_info": {
   "codemirror_mode": {
    "name": "ipython",
    "version": 2
   },
   "file_extension": ".py",
   "mimetype": "text/x-python",
   "name": "python",
   "nbconvert_exporter": "python",
   "pygments_lexer": "ipython2",
   "version": "2.7.6"
  }
 },
 "nbformat": 4,
 "nbformat_minor": 5
}
