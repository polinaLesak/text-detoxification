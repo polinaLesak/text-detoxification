{
 "cells": [
  {
   "cell_type": "markdown",
   "source": [
    "# Toxicity level of text model"
   ],
   "metadata": {
    "collapsed": false
   },
   "id": "700d6d371a9db7ec"
  },
  {
   "cell_type": "markdown",
   "source": [
    "We need to predict toxicity level for text which we will translate."
   ],
   "metadata": {
    "collapsed": false
   },
   "id": "83be3a0d78d6ff21"
  },
  {
   "cell_type": "markdown",
   "source": [
    "## Downloading data"
   ],
   "metadata": {
    "collapsed": false
   },
   "id": "d914c2cb93a8ec10"
  },
  {
   "cell_type": "markdown",
   "source": [
    "It's better to take initial data to train our model, because it doesn't need to have only height level toxic text."
   ],
   "metadata": {
    "collapsed": false
   },
   "id": "8410ca8a939e896d"
  },
  {
   "cell_type": "code",
   "execution_count": 1,
   "id": "initial_id",
   "metadata": {
    "collapsed": true,
    "id": "initial_id",
    "ExecuteTime": {
     "end_time": "2023-10-23T06:24:01.300914900Z",
     "start_time": "2023-10-23T06:23:54.885700400Z"
    }
   },
   "outputs": [],
   "source": [
    "import pandas as pd\n",
    "import zipfile\n",
    "\n",
    "with zipfile.ZipFile(\"../data/raw/filtered_paranmt.zip\", \"r\") as zip_ref:\n",
    "    with zip_ref.open(\"filtered.tsv\") as file:\n",
    "        df = pd.read_csv(file, sep='\\t')\n"
   ]
  },
  {
   "cell_type": "code",
   "execution_count": 2,
   "outputs": [],
   "source": [
    "tox_df = df[['reference', 'ref_tox']].copy()\n",
    "tox_df = tox_df[:40000]"
   ],
   "metadata": {
    "id": "f7c7e52b73121f82",
    "ExecuteTime": {
     "end_time": "2023-10-23T06:24:27.919193900Z",
     "start_time": "2023-10-23T06:24:27.853978400Z"
    }
   },
   "id": "f7c7e52b73121f82"
  },
  {
   "cell_type": "code",
   "execution_count": 3,
   "outputs": [
    {
     "data": {
      "text/plain": "                                           reference   ref_tox\n0  If Alkar is flooding her with psychic waste, t...  0.014195\n1                          Now you're getting nasty.  0.065473\n2           Well, we could spare your life, for one.  0.213313\n3          Ah! Monkey, you've got to snap out of it.  0.053362\n4                   I've got orders to put her down.  0.009402",
      "text/html": "<div>\n<style scoped>\n    .dataframe tbody tr th:only-of-type {\n        vertical-align: middle;\n    }\n\n    .dataframe tbody tr th {\n        vertical-align: top;\n    }\n\n    .dataframe thead th {\n        text-align: right;\n    }\n</style>\n<table border=\"1\" class=\"dataframe\">\n  <thead>\n    <tr style=\"text-align: right;\">\n      <th></th>\n      <th>reference</th>\n      <th>ref_tox</th>\n    </tr>\n  </thead>\n  <tbody>\n    <tr>\n      <th>0</th>\n      <td>If Alkar is flooding her with psychic waste, t...</td>\n      <td>0.014195</td>\n    </tr>\n    <tr>\n      <th>1</th>\n      <td>Now you're getting nasty.</td>\n      <td>0.065473</td>\n    </tr>\n    <tr>\n      <th>2</th>\n      <td>Well, we could spare your life, for one.</td>\n      <td>0.213313</td>\n    </tr>\n    <tr>\n      <th>3</th>\n      <td>Ah! Monkey, you've got to snap out of it.</td>\n      <td>0.053362</td>\n    </tr>\n    <tr>\n      <th>4</th>\n      <td>I've got orders to put her down.</td>\n      <td>0.009402</td>\n    </tr>\n  </tbody>\n</table>\n</div>"
     },
     "execution_count": 3,
     "metadata": {},
     "output_type": "execute_result"
    }
   ],
   "source": [
    "tox_df.head()"
   ],
   "metadata": {
    "id": "9e5daa9ef4788c37",
    "outputId": "f27e2673-273f-4362-cfa4-802fb35d811d",
    "ExecuteTime": {
     "end_time": "2023-10-23T06:24:29.917754600Z",
     "start_time": "2023-10-23T06:24:29.849429300Z"
    }
   },
   "id": "9e5daa9ef4788c37"
  },
  {
   "cell_type": "markdown",
   "source": [
    "## Data preprocess"
   ],
   "metadata": {
    "collapsed": false
   },
   "id": "f0af1cddad4537c9"
  },
  {
   "cell_type": "markdown",
   "source": [
    "The text data is stored in the 'X' variable, representing the reference texts, and the corresponding toxicity labels are stored in the 'y' variable. We use the TfidfVectorizer from scikit-learn to transform the text data into numerical features, specifically TF-IDF vectors, which represent the importance of words in each document relative to their importance in the entire corpus"
   ],
   "metadata": {
    "collapsed": false
   },
   "id": "39e8b76624096b18"
  },
  {
   "cell_type": "code",
   "execution_count": 4,
   "outputs": [],
   "source": [
    "from sklearn.model_selection import train_test_split\n",
    "\n",
    "X = tox_df['reference']  # тексты\n",
    "y = tox_df['ref_tox']    # уровни токсичности\n",
    "\n",
    "X_train, X_test, y_train, y_test = train_test_split(X, y, test_size=0.125, random_state=42)\n"
   ],
   "metadata": {
    "id": "31f51e6a916b96ba",
    "ExecuteTime": {
     "end_time": "2023-10-23T06:24:36.020514100Z",
     "start_time": "2023-10-23T06:24:31.892152900Z"
    }
   },
   "id": "31f51e6a916b96ba"
  },
  {
   "cell_type": "code",
   "execution_count": 5,
   "outputs": [],
   "source": [
    "from sklearn.feature_extraction.text import TfidfVectorizer\n",
    "\n",
    "tfidf_vectorizer = TfidfVectorizer(max_features=5000, stop_words='english')\n",
    "X_train_tfidf = tfidf_vectorizer.fit_transform(X_train)\n",
    "X_test_tfidf = tfidf_vectorizer.transform(X_test)\n",
    "X_train_tfidf = X_train_tfidf.astype('float32')\n",
    "\n"
   ],
   "metadata": {
    "id": "8f1469e00d64797c",
    "ExecuteTime": {
     "end_time": "2023-10-23T06:24:39.094268100Z",
     "start_time": "2023-10-23T06:24:38.027595300Z"
    }
   },
   "id": "8f1469e00d64797c"
  },
  {
   "cell_type": "markdown",
   "source": [
    "## Model training"
   ],
   "metadata": {
    "collapsed": false
   },
   "id": "d02f21cca839daef"
  },
  {
   "cell_type": "markdown",
   "source": [
    "The model is a feedforward neural network with three layers, employing ReLU activation functions for the first two layers and a sigmoid activation in the final layer. It is designed for binary classification tasks, where it takes TF-IDF vector inputs and outputs a probability of class membership between 0 and 1."
   ],
   "metadata": {
    "collapsed": false
   },
   "id": "6884920ac1a97aea"
  },
  {
   "cell_type": "code",
   "execution_count": 6,
   "outputs": [],
   "source": [
    "import tensorflow as tf\n",
    "model = tf.keras.Sequential([\n",
    "    tf.keras.layers.Dense(128, activation='relu', input_shape=(X_train_tfidf.shape[1],)),\n",
    "    tf.keras.layers.Dense(64, activation='relu'),\n",
    "    tf.keras.layers.Dense(1, activation='sigmoid')\n",
    "])\n"
   ],
   "metadata": {
    "id": "fa3164ecbdd1b6cc",
    "ExecuteTime": {
     "end_time": "2023-10-23T06:24:48.398103400Z",
     "start_time": "2023-10-23T06:24:41.207103100Z"
    }
   },
   "id": "fa3164ecbdd1b6cc"
  },
  {
   "cell_type": "code",
   "execution_count": 7,
   "outputs": [],
   "source": [
    "model.compile(optimizer='adam', loss='binary_crossentropy', metrics=['accuracy'])\n"
   ],
   "metadata": {
    "id": "bc4b555777244aa5",
    "ExecuteTime": {
     "end_time": "2023-10-23T06:24:56.090288800Z",
     "start_time": "2023-10-23T06:24:56.036129200Z"
    }
   },
   "id": "bc4b555777244aa5"
  },
  {
   "cell_type": "code",
   "execution_count": 8,
   "outputs": [],
   "source": [
    "train_dataset = tf.data.Dataset.from_tensor_slices((X_train_tfidf.toarray(), y_train))\n",
    "test_dataset = tf.data.Dataset.from_tensor_slices((X_test_tfidf.toarray(), y_test))\n"
   ],
   "metadata": {
    "id": "7a81d05c53790754",
    "ExecuteTime": {
     "end_time": "2023-10-23T06:24:58.566162500Z",
     "start_time": "2023-10-23T06:24:57.274142700Z"
    }
   },
   "id": "7a81d05c53790754"
  },
  {
   "cell_type": "code",
   "execution_count": 9,
   "outputs": [
    {
     "name": "stdout",
     "output_type": "stream",
     "text": [
      "Epoch 1/20\n",
      "1094/1094 [==============================] - 15s 13ms/step - loss: 0.5442 - accuracy: 0.0000e+00 - val_loss: 0.4982 - val_accuracy: 0.0000e+00\n",
      "Epoch 2/20\n",
      "1094/1094 [==============================] - 15s 14ms/step - loss: 0.4512 - accuracy: 0.0000e+00 - val_loss: 0.5095 - val_accuracy: 0.0000e+00\n",
      "Epoch 3/20\n",
      "1094/1094 [==============================] - 16s 15ms/step - loss: 0.3885 - accuracy: 0.0000e+00 - val_loss: 0.5608 - val_accuracy: 0.0000e+00\n",
      "Epoch 4/20\n",
      "1094/1094 [==============================] - 15s 14ms/step - loss: 0.3287 - accuracy: 0.0000e+00 - val_loss: 0.6112 - val_accuracy: 0.0000e+00\n",
      "Epoch 5/20\n",
      "1094/1094 [==============================] - 12s 11ms/step - loss: 0.2828 - accuracy: 0.0000e+00 - val_loss: 0.6474 - val_accuracy: 0.0000e+00\n",
      "Epoch 6/20\n",
      "1094/1094 [==============================] - 12s 11ms/step - loss: 0.2558 - accuracy: 0.0000e+00 - val_loss: 0.6471 - val_accuracy: 0.0000e+00\n",
      "Epoch 7/20\n",
      "1094/1094 [==============================] - 12s 11ms/step - loss: 0.2386 - accuracy: 0.0000e+00 - val_loss: 0.6750 - val_accuracy: 0.0000e+00\n",
      "Epoch 8/20\n",
      "1094/1094 [==============================] - 12s 11ms/step - loss: 0.2273 - accuracy: 0.0000e+00 - val_loss: 0.6724 - val_accuracy: 0.0000e+00\n",
      "Epoch 9/20\n",
      "1094/1094 [==============================] - 12s 11ms/step - loss: 0.2198 - accuracy: 0.0000e+00 - val_loss: 0.6864 - val_accuracy: 0.0000e+00\n",
      "Epoch 10/20\n",
      "1094/1094 [==============================] - 11s 10ms/step - loss: 0.2147 - accuracy: 0.0000e+00 - val_loss: 0.6806 - val_accuracy: 0.0000e+00\n",
      "Epoch 11/20\n",
      "1094/1094 [==============================] - 12s 11ms/step - loss: 0.2101 - accuracy: 0.0000e+00 - val_loss: 0.6858 - val_accuracy: 0.0000e+00\n",
      "Epoch 12/20\n",
      "1094/1094 [==============================] - 12s 11ms/step - loss: 0.2069 - accuracy: 0.0000e+00 - val_loss: 0.6860 - val_accuracy: 0.0000e+00\n",
      "Epoch 13/20\n",
      "1094/1094 [==============================] - 12s 11ms/step - loss: 0.2047 - accuracy: 0.0000e+00 - val_loss: 0.6839 - val_accuracy: 0.0000e+00\n",
      "Epoch 14/20\n",
      "1094/1094 [==============================] - 11s 10ms/step - loss: 0.2025 - accuracy: 0.0000e+00 - val_loss: 0.6766 - val_accuracy: 0.0000e+00\n",
      "Epoch 15/20\n",
      "1094/1094 [==============================] - 12s 11ms/step - loss: 0.2006 - accuracy: 0.0000e+00 - val_loss: 0.6963 - val_accuracy: 0.0000e+00\n",
      "Epoch 16/20\n",
      "1094/1094 [==============================] - 11s 10ms/step - loss: 0.1984 - accuracy: 0.0000e+00 - val_loss: 0.6865 - val_accuracy: 0.0000e+00\n",
      "Epoch 17/20\n",
      "1094/1094 [==============================] - 12s 11ms/step - loss: 0.1968 - accuracy: 0.0000e+00 - val_loss: 0.6791 - val_accuracy: 0.0000e+00\n",
      "Epoch 18/20\n",
      "1094/1094 [==============================] - 12s 11ms/step - loss: 0.1961 - accuracy: 0.0000e+00 - val_loss: 0.6752 - val_accuracy: 0.0000e+00\n",
      "Epoch 19/20\n",
      "1094/1094 [==============================] - 12s 11ms/step - loss: 0.1948 - accuracy: 0.0000e+00 - val_loss: 0.6899 - val_accuracy: 0.0000e+00\n",
      "Epoch 20/20\n",
      "1094/1094 [==============================] - 12s 11ms/step - loss: 0.1940 - accuracy: 0.0000e+00 - val_loss: 0.6720 - val_accuracy: 0.0000e+00\n"
     ]
    },
    {
     "data": {
      "text/plain": "<keras.src.callbacks.History at 0x142e22f2430>"
     },
     "execution_count": 9,
     "metadata": {},
     "output_type": "execute_result"
    }
   ],
   "source": [
    "batch_size = 32\n",
    "epochs = 20\n",
    "\n",
    "model.fit(train_dataset.batch(batch_size), epochs=epochs, validation_data=test_dataset.batch(batch_size))"
   ],
   "metadata": {
    "id": "59b6bfd3fa80cc0e",
    "outputId": "183053c0-8b8d-4799-8565-72552dbc3158",
    "ExecuteTime": {
     "end_time": "2023-10-23T06:29:11.343454Z",
     "start_time": "2023-10-23T06:24:59.933741800Z"
    }
   },
   "id": "59b6bfd3fa80cc0e"
  },
  {
   "cell_type": "markdown",
   "source": [
    "## Predict and check it"
   ],
   "metadata": {
    "collapsed": false
   },
   "id": "ac7fc0655a727366"
  },
  {
   "cell_type": "code",
   "execution_count": 10,
   "outputs": [
    {
     "name": "stdout",
     "output_type": "stream",
     "text": [
      "157/157 [==============================] - 1s 3ms/step\n"
     ]
    }
   ],
   "source": [
    "y_pred = model.predict(X_test_tfidf.toarray())"
   ],
   "metadata": {
    "id": "1ffbd2fb3d4e3dec",
    "outputId": "6e53efe9-43f8-442f-c0e4-4c1254863c0f",
    "ExecuteTime": {
     "end_time": "2023-10-23T06:29:12.739997300Z",
     "start_time": "2023-10-23T06:29:11.359542200Z"
    }
   },
   "id": "1ffbd2fb3d4e3dec"
  },
  {
   "cell_type": "markdown",
   "source": [
    "Post-processing the model's predictions and evaluating its accuracy."
   ],
   "metadata": {
    "collapsed": false
   },
   "id": "a1687653c84ba00c"
  },
  {
   "cell_type": "code",
   "execution_count": 11,
   "outputs": [
    {
     "name": "stdout",
     "output_type": "stream",
     "text": [
      "Accuracy: 0.74\n"
     ]
    }
   ],
   "source": [
    "from sklearn.metrics import accuracy_score\n",
    "\n",
    "y_test_binary = (y_test > 0.5).astype(int)\n",
    "y_pred_binary = (y_pred > 0.5).astype(int)\n",
    "\n",
    "accuracy = accuracy_score(y_test_binary, y_pred_binary)\n",
    "print(f'Accuracy: {accuracy:.2f}')\n"
   ],
   "metadata": {
    "id": "62c125ac664323a0",
    "outputId": "31ac3cc7-7646-4a7f-f338-1221d1f3be6a",
    "ExecuteTime": {
     "end_time": "2023-10-23T06:29:12.845740300Z",
     "start_time": "2023-10-23T06:29:12.748173600Z"
    }
   },
   "id": "62c125ac664323a0"
  },
  {
   "cell_type": "markdown",
   "source": [
    "## Saving model"
   ],
   "metadata": {
    "collapsed": false
   },
   "id": "6bbfc12df138b9b6"
  },
  {
   "cell_type": "markdown",
   "source": [
    "Now we can predict the level of toxicity of any text with an accuracy of 0.74, we will save the model to use it in the future"
   ],
   "metadata": {
    "collapsed": false
   },
   "id": "490fa8705749c07"
  },
  {
   "cell_type": "code",
   "execution_count": 12,
   "outputs": [
    {
     "name": "stderr",
     "output_type": "stream",
     "text": [
      "C:\\Users\\lesak\\AppData\\Local\\Programs\\Python\\Python39\\lib\\site-packages\\keras\\src\\engine\\training.py:3079: UserWarning: You are saving your model as an HDF5 file via `model.save()`. This file format is considered legacy. We recommend using instead the native Keras format, e.g. `model.save('my_model.keras')`.\n",
      "  saving_api.save_model(\n"
     ]
    }
   ],
   "source": [
    "model.save('../models/toxLevelModel.h5')"
   ],
   "metadata": {
    "id": "5d70eab42f80628a",
    "ExecuteTime": {
     "end_time": "2023-10-23T06:29:12.920685500Z",
     "start_time": "2023-10-23T06:29:12.797173200Z"
    }
   },
   "id": "5d70eab42f80628a"
  }
 ],
 "metadata": {
  "kernelspec": {
   "display_name": "Python 3",
   "language": "python",
   "name": "python3"
  },
  "language_info": {
   "codemirror_mode": {
    "name": "ipython",
    "version": 2
   },
   "file_extension": ".py",
   "mimetype": "text/x-python",
   "name": "python",
   "nbconvert_exporter": "python",
   "pygments_lexer": "ipython2",
   "version": "2.7.6"
  },
  "colab": {
   "provenance": []
  }
 },
 "nbformat": 4,
 "nbformat_minor": 5
}
